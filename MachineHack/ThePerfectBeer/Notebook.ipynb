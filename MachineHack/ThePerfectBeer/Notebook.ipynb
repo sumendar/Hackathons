{
  "cells": [
    {
      "metadata": {},
      "cell_type": "markdown",
      "source": "### How To Choose The Perfect Beer?\n\nThis is a perfect competition for persons who have a beginner’s level understanding of various concepts of machine learning and data science, and are looking to polish their understanding and check how they stand against a larger community.\n\nData scientists take their beer very seriously. Recommendations from friends? No thank you. Websites? Too many pop-ups. Ads? Yeah, as if. They can trust only true solid numbers. Here’s a fun fact: Last year, Indians drank a total of 4.7 million litres of beer and the number is expected to go up to 6.5 billion litres by 2022.\n\nNewer brands are also entering the market — take Delhi-based startup Bira 91, for example. With the $50 million they have raised, Bira plans to flood India with more beer and fill in that gap between traditional inexpensive brands and expensive ones.\n\nSo how will data scientists choose their beer? Will they look at the combination of barley, water, hops and yeast arrived upon? There are many things to consider — a series of complex biochemical reactions need to take place to make the perfect beer.\n\nThat’s why, here at MachineHack, we have entrusted this very important job to the most trustworthy people in the world (especially when it comes to beer) to you, the data scientists.\n\n#### Data:\n\nThe train and test data will consist of various features that describe a beer. In many beer cellars, important factors such as temperature and humidity are maintained by a climate control system. Hence features like Cellar Temperature and Serving Temperature become really important. This is an actual data set that is curated over months of primary and secondary research by our team. Each row contains fixed size object of features. There are nine features and each feature can be accessed by its name.\n\n#### Features\n\n*   ABV – Alcohol By Volume\n*   Brewing Company\n*   Food Pairing – Perfect food to have with this beer\n*   Glassware Used – Perfect glassware to use to enjoy this beer\n*   Beer Name – Name of the beer\n*   Ratings\n*   Score (Predict) – Overall score of the beer\n*   Style Name – Style in which the beer is prepared\n*   Cellar Temperature\n*   Serving Temperature\n\n#### Problem Statement\n\nWith the given nine features (categorical and continuous) build a model to predict the score of the beer.\n\n#### Evaluation\n\n**Goal**: It is your job to predict the score for each beer. For each beer in the test set, you must predict the score variable.\n\n**Metric**: Submissions are evaluated on Root-Mean-Squared-Error (RMSE) between the predicted value and observed score values. The final score calculation is done in the following way:\n\n1. X = Sigmoid of RMSE, which squashes the RMSE between the range of 0 and 1\n2. Score = 1 – X, Hence, lesser the RMSE better your score is.\n\n**Submission File Format**: Please do not change the format of the test file while submissions. Just fill up the price columns without touching any other data on the file."
    },
    {
      "metadata": {
        "trusted": true
      },
      "cell_type": "code",
      "source": "import pandas as pd                 # pandas is a dataframe library\nimport matplotlib.pyplot as plt     # matplotlib.pyplot plots data\nimport numpy as np                  # numpy provides N-dim object support\n\n# do ploting inline instead of in a separate window\n%matplotlib inline",
      "execution_count": 1,
      "outputs": [
        {
          "output_type": "stream",
          "text": "/home/nbuser/anaconda3_420/lib/python3.5/site-packages/matplotlib/font_manager.py:281: UserWarning: Matplotlib is building the font cache using fc-list. This may take a moment.\n  'Matplotlib is building the font cache using fc-list. '\n",
          "name": "stderr"
        }
      ]
    },
    {
      "metadata": {
        "trusted": true
      },
      "cell_type": "code",
      "source": "df = pd.read_csv(\"data/Beer Train Data Set.csv\")  # load Pima data. Adjust path as necessary\n\ndf.shape",
      "execution_count": 2,
      "outputs": [
        {
          "output_type": "execute_result",
          "execution_count": 2,
          "data": {
            "text/plain": "(185643, 10)"
          },
          "metadata": {}
        }
      ]
    },
    {
      "metadata": {
        "trusted": false
      },
      "cell_type": "code",
      "source": "df.dtypes",
      "execution_count": 3,
      "outputs": [
        {
          "data": {
            "text/plain": "ABV                    float64\nBrewing Company          int64\nFood Paring             object\nGlassware Used          object\nBeer Name                int64\nRatings                 object\nStyle Name              object\nCellar Temperature      object\nServing Temperature     object\nScore                  float64\ndtype: object"
          },
          "execution_count": 3,
          "metadata": {},
          "output_type": "execute_result"
        }
      ]
    },
    {
      "metadata": {
        "trusted": false
      },
      "cell_type": "code",
      "source": "df.head(5)",
      "execution_count": 4,
      "outputs": [
        {
          "data": {
            "text/html": "<div>\n<style scoped>\n    .dataframe tbody tr th:only-of-type {\n        vertical-align: middle;\n    }\n\n    .dataframe tbody tr th {\n        vertical-align: top;\n    }\n\n    .dataframe thead th {\n        text-align: right;\n    }\n</style>\n<table border=\"1\" class=\"dataframe\">\n  <thead>\n    <tr style=\"text-align: right;\">\n      <th></th>\n      <th>ABV</th>\n      <th>Brewing Company</th>\n      <th>Food Paring</th>\n      <th>Glassware Used</th>\n      <th>Beer Name</th>\n      <th>Ratings</th>\n      <th>Style Name</th>\n      <th>Cellar Temperature</th>\n      <th>Serving Temperature</th>\n      <th>Score</th>\n    </tr>\n  </thead>\n  <tbody>\n    <tr>\n      <th>0</th>\n      <td>6.5</td>\n      <td>8929</td>\n      <td>(Curried,Thai)Cheese(pepperyMontereyPepperJack...</td>\n      <td>PintGlass(orBecker,Nonic,Tumbler),Mug(orSeidel...</td>\n      <td>15121</td>\n      <td>22</td>\n      <td>AmericanIPA</td>\n      <td>40-45</td>\n      <td>45-50</td>\n      <td>3.28</td>\n    </tr>\n    <tr>\n      <th>1</th>\n      <td>5.5</td>\n      <td>13187</td>\n      <td>(PanAsian)Cheese(earthyCamembert,Fontina,nutty...</td>\n      <td>PintGlass(orBecker,Nonic,Tumbler),Mug(orSeidel...</td>\n      <td>59817</td>\n      <td>1</td>\n      <td>AmericanPaleAle(APA)</td>\n      <td>35-40</td>\n      <td>40-45</td>\n      <td>3.52</td>\n    </tr>\n    <tr>\n      <th>2</th>\n      <td>8.1</td>\n      <td>6834</td>\n      <td>Meat(Pork,Poultry)</td>\n      <td>PintGlass(orBecker,Nonic,Tumbler),Mug(orSeidel...</td>\n      <td>32669</td>\n      <td>3</td>\n      <td>IrishRedAle</td>\n      <td>35-40</td>\n      <td>40-45</td>\n      <td>4.01</td>\n    </tr>\n    <tr>\n      <th>3</th>\n      <td>NaN</td>\n      <td>11688</td>\n      <td>(Indian,LatinAmerican,PanAsian)General(Aperitif)</td>\n      <td>PintGlass(orBecker,Nonic,Tumbler),PilsenerGlas...</td>\n      <td>130798</td>\n      <td>0</td>\n      <td>AmericanMaltLiquor</td>\n      <td>35-40</td>\n      <td>35-40</td>\n      <td>0.00</td>\n    </tr>\n    <tr>\n      <th>4</th>\n      <td>6.0</td>\n      <td>10417</td>\n      <td>Meat(Poultry,Fish,Shellfish)</td>\n      <td>PilsenerGlass(orPokal)</td>\n      <td>124087</td>\n      <td>1</td>\n      <td>EuroPaleLager</td>\n      <td>35-40</td>\n      <td>40-45</td>\n      <td>2.73</td>\n    </tr>\n  </tbody>\n</table>\n</div>",
            "text/plain": "   ABV  Brewing Company                                        Food Paring  \\\n0  6.5             8929  (Curried,Thai)Cheese(pepperyMontereyPepperJack...   \n1  5.5            13187  (PanAsian)Cheese(earthyCamembert,Fontina,nutty...   \n2  8.1             6834                                 Meat(Pork,Poultry)   \n3  NaN            11688   (Indian,LatinAmerican,PanAsian)General(Aperitif)   \n4  6.0            10417                       Meat(Poultry,Fish,Shellfish)   \n\n                                      Glassware Used  Beer Name Ratings  \\\n0  PintGlass(orBecker,Nonic,Tumbler),Mug(orSeidel...      15121      22   \n1  PintGlass(orBecker,Nonic,Tumbler),Mug(orSeidel...      59817       1   \n2  PintGlass(orBecker,Nonic,Tumbler),Mug(orSeidel...      32669       3   \n3  PintGlass(orBecker,Nonic,Tumbler),PilsenerGlas...     130798       0   \n4                             PilsenerGlass(orPokal)     124087       1   \n\n             Style Name Cellar Temperature Serving Temperature  Score  \n0           AmericanIPA              40-45               45-50   3.28  \n1  AmericanPaleAle(APA)              35-40               40-45   3.52  \n2           IrishRedAle              35-40               40-45   4.01  \n3    AmericanMaltLiquor              35-40               35-40   0.00  \n4         EuroPaleLager              35-40               40-45   2.73  "
          },
          "execution_count": 4,
          "metadata": {},
          "output_type": "execute_result"
        }
      ]
    },
    {
      "metadata": {
        "trusted": false
      },
      "cell_type": "code",
      "source": "df.tail(5)",
      "execution_count": 5,
      "outputs": [
        {
          "data": {
            "text/html": "<div>\n<style scoped>\n    .dataframe tbody tr th:only-of-type {\n        vertical-align: middle;\n    }\n\n    .dataframe tbody tr th {\n        vertical-align: top;\n    }\n\n    .dataframe thead th {\n        text-align: right;\n    }\n</style>\n<table border=\"1\" class=\"dataframe\">\n  <thead>\n    <tr style=\"text-align: right;\">\n      <th></th>\n      <th>ABV</th>\n      <th>Brewing Company</th>\n      <th>Food Paring</th>\n      <th>Glassware Used</th>\n      <th>Beer Name</th>\n      <th>Ratings</th>\n      <th>Style Name</th>\n      <th>Cellar Temperature</th>\n      <th>Serving Temperature</th>\n      <th>Score</th>\n    </tr>\n  </thead>\n  <tbody>\n    <tr>\n      <th>185638</th>\n      <td>4.5</td>\n      <td>9105</td>\n      <td>(Dessert,Aperitif,Digestive)</td>\n      <td>PintGlass(orBecker,Nonic,Tumbler),Mug(orSeidel...</td>\n      <td>141522</td>\n      <td>0</td>\n      <td>HerbedSpicedBeer</td>\n      <td>NaN</td>\n      <td>45-50</td>\n      <td>0.00</td>\n    </tr>\n    <tr>\n      <th>185639</th>\n      <td>4.5</td>\n      <td>3348</td>\n      <td>(Barbecue,Italian)Cheese(earthyCamembert,Fonti...</td>\n      <td>PilsenerGlass(orPokal)</td>\n      <td>85557</td>\n      <td>1</td>\n      <td>AmericanPaleLager</td>\n      <td>35-40</td>\n      <td>40-45</td>\n      <td>4.19</td>\n    </tr>\n    <tr>\n      <th>185640</th>\n      <td>NaN</td>\n      <td>8216</td>\n      <td>Cheese(earthyCamembert,Fontina,nuttyAsiago,Col...</td>\n      <td>PintGlass(orBecker,Nonic,Tumbler),Mug(orSeidel...</td>\n      <td>105072</td>\n      <td>1</td>\n      <td>EnglishBrownAle</td>\n      <td>40-45</td>\n      <td>45-50</td>\n      <td>3.11</td>\n    </tr>\n    <tr>\n      <th>185641</th>\n      <td>6.2</td>\n      <td>1755</td>\n      <td>(Curried,Thai)Cheese(pepperyMontereyPepperJack...</td>\n      <td>PintGlass(orBecker,Nonic,Tumbler),Mug(orSeidel...</td>\n      <td>70788</td>\n      <td>2</td>\n      <td>AmericanIPA</td>\n      <td>40-45</td>\n      <td>45-50</td>\n      <td>3.40</td>\n    </tr>\n    <tr>\n      <th>185642</th>\n      <td>6.4</td>\n      <td>4341</td>\n      <td>(Curried,Thai)Cheese(pepperyMontereyPepperJack...</td>\n      <td>PintGlass(orBecker,Nonic,Tumbler),Mug(orSeidel...</td>\n      <td>149979</td>\n      <td>1</td>\n      <td>AmericanIPA</td>\n      <td>40-45</td>\n      <td>45-50</td>\n      <td>4.31</td>\n    </tr>\n  </tbody>\n</table>\n</div>",
            "text/plain": "        ABV  Brewing Company  \\\n185638  4.5             9105   \n185639  4.5             3348   \n185640  NaN             8216   \n185641  6.2             1755   \n185642  6.4             4341   \n\n                                              Food Paring  \\\n185638                       (Dessert,Aperitif,Digestive)   \n185639  (Barbecue,Italian)Cheese(earthyCamembert,Fonti...   \n185640  Cheese(earthyCamembert,Fontina,nuttyAsiago,Col...   \n185641  (Curried,Thai)Cheese(pepperyMontereyPepperJack...   \n185642  (Curried,Thai)Cheese(pepperyMontereyPepperJack...   \n\n                                           Glassware Used  Beer Name Ratings  \\\n185638  PintGlass(orBecker,Nonic,Tumbler),Mug(orSeidel...     141522       0   \n185639                             PilsenerGlass(orPokal)      85557       1   \n185640  PintGlass(orBecker,Nonic,Tumbler),Mug(orSeidel...     105072       1   \n185641  PintGlass(orBecker,Nonic,Tumbler),Mug(orSeidel...      70788       2   \n185642  PintGlass(orBecker,Nonic,Tumbler),Mug(orSeidel...     149979       1   \n\n               Style Name Cellar Temperature Serving Temperature  Score  \n185638   HerbedSpicedBeer                NaN               45-50   0.00  \n185639  AmericanPaleLager              35-40               40-45   4.19  \n185640    EnglishBrownAle              40-45               45-50   3.11  \n185641        AmericanIPA              40-45               45-50   3.40  \n185642        AmericanIPA              40-45               45-50   4.31  "
          },
          "execution_count": 5,
          "metadata": {},
          "output_type": "execute_result"
        }
      ]
    },
    {
      "metadata": {
        "trusted": false
      },
      "cell_type": "code",
      "source": "df.isnull().values.any()",
      "execution_count": 6,
      "outputs": [
        {
          "data": {
            "text/plain": "True"
          },
          "execution_count": 6,
          "metadata": {},
          "output_type": "execute_result"
        }
      ]
    },
    {
      "metadata": {
        "trusted": false
      },
      "cell_type": "code",
      "source": "df.describe()",
      "execution_count": 7,
      "outputs": [
        {
          "data": {
            "text/html": "<div>\n<style scoped>\n    .dataframe tbody tr th:only-of-type {\n        vertical-align: middle;\n    }\n\n    .dataframe tbody tr th {\n        vertical-align: top;\n    }\n\n    .dataframe thead th {\n        text-align: right;\n    }\n</style>\n<table border=\"1\" class=\"dataframe\">\n  <thead>\n    <tr style=\"text-align: right;\">\n      <th></th>\n      <th>ABV</th>\n      <th>Brewing Company</th>\n      <th>Beer Name</th>\n      <th>Score</th>\n    </tr>\n  </thead>\n  <tbody>\n    <tr>\n      <th>count</th>\n      <td>170513.000000</td>\n      <td>185643.000000</td>\n      <td>185643.000000</td>\n      <td>185643.000000</td>\n    </tr>\n    <tr>\n      <th>mean</th>\n      <td>6.354961</td>\n      <td>7008.757659</td>\n      <td>83738.220111</td>\n      <td>3.198432</td>\n    </tr>\n    <tr>\n      <th>std</th>\n      <td>1.907205</td>\n      <td>3914.168053</td>\n      <td>48520.065146</td>\n      <td>1.358862</td>\n    </tr>\n    <tr>\n      <th>min</th>\n      <td>0.010000</td>\n      <td>0.000000</td>\n      <td>0.000000</td>\n      <td>0.000000</td>\n    </tr>\n    <tr>\n      <th>25%</th>\n      <td>5.000000</td>\n      <td>3825.000000</td>\n      <td>41232.500000</td>\n      <td>3.270000</td>\n    </tr>\n    <tr>\n      <th>50%</th>\n      <td>6.000000</td>\n      <td>7111.000000</td>\n      <td>83335.000000</td>\n      <td>3.710000</td>\n    </tr>\n    <tr>\n      <th>75%</th>\n      <td>7.200000</td>\n      <td>10402.000000</td>\n      <td>125148.500000</td>\n      <td>3.970000</td>\n    </tr>\n    <tr>\n      <th>max</th>\n      <td>80.000000</td>\n      <td>13541.000000</td>\n      <td>168534.000000</td>\n      <td>5.000000</td>\n    </tr>\n  </tbody>\n</table>\n</div>",
            "text/plain": "                 ABV  Brewing Company      Beer Name          Score\ncount  170513.000000    185643.000000  185643.000000  185643.000000\nmean        6.354961      7008.757659   83738.220111       3.198432\nstd         1.907205      3914.168053   48520.065146       1.358862\nmin         0.010000         0.000000       0.000000       0.000000\n25%         5.000000      3825.000000   41232.500000       3.270000\n50%         6.000000      7111.000000   83335.000000       3.710000\n75%         7.200000     10402.000000  125148.500000       3.970000\nmax        80.000000     13541.000000  168534.000000       5.000000"
          },
          "execution_count": 7,
          "metadata": {},
          "output_type": "execute_result"
        }
      ]
    },
    {
      "metadata": {
        "trusted": false
      },
      "cell_type": "code",
      "source": "df['Ratings'] = df['Ratings'].astype('category')\ndf['Ratings'].head(5)",
      "execution_count": 25,
      "outputs": [
        {
          "data": {
            "text/plain": "0    22\n1     1\n2     3\n3     0\n4     1\nName: Ratings, dtype: category\nCategories (1824, object): [0, 1, 1,000, 1,001, ..., 995, 996, 997, 999]"
          },
          "execution_count": 25,
          "metadata": {},
          "output_type": "execute_result"
        }
      ]
    },
    {
      "metadata": {
        "trusted": false
      },
      "cell_type": "code",
      "source": "\ndf['Cellar Temperature'] = df['Cellar Temperature'].astype('category')\ndf['Cellar Temperature'].head(5)",
      "execution_count": 9,
      "outputs": [
        {
          "data": {
            "text/plain": "0    40-45\n1    35-40\n2    35-40\n3    35-40\n4    35-40\nName: Cellar Temperature, dtype: category\nCategories (3, object): [35-40, 40-45, 45-50]"
          },
          "execution_count": 9,
          "metadata": {},
          "output_type": "execute_result"
        }
      ]
    },
    {
      "metadata": {
        "trusted": false
      },
      "cell_type": "code",
      "source": "df['Serving Temperature'] = df['Serving Temperature'].astype('category')\ndf['Serving Temperature'].head(5)",
      "execution_count": 10,
      "outputs": [
        {
          "data": {
            "text/plain": "0    45-50\n1    40-45\n2    40-45\n3    35-40\n4    40-45\nName: Serving Temperature, dtype: category\nCategories (4, object): [35-40, 40-45, 45-50, 50-55]"
          },
          "execution_count": 10,
          "metadata": {},
          "output_type": "execute_result"
        }
      ]
    },
    {
      "metadata": {
        "trusted": false
      },
      "cell_type": "code",
      "source": "print(\"# rows in dataframe : {0}\".format(len(df)))\nprint(\"# rows missing ABV : {0}\".format(len(df.loc[np.isnan(df['ABV'])])))\nprint(\"# rows missing Brewing Company : {0}\".format(len(df.loc[np.isnan(df['Brewing Company'])])))\nprint(\"# rows missing Food Paring : {0}\".format(len(df.loc[df['Food Paring']==''])))\nprint(\"# rows missing Glassware Used : {0}\".format(len(df.loc[df['Glassware Used']==''])))\nprint(\"# rows missing Beer Name : {0}\".format(len(df.loc[np.isnan(df['Beer Name'])])))\nprint(\"# rows missing Ratings : {0}\".format(len(df.loc[df['Ratings']==''])))\nprint(\"# rows missing Style Name : {0}\".format(len(df.loc[df['Style Name']== ''])))\nprint(\"# rows missing Cellar Temperature : {0}\".format(len(df.loc[df['Cellar Temperature'].isnull().values == True])))\nprint(\"# rows missing Serving Temperature : {0}\".format(len(df.loc[df['Serving Temperature'].isnull().values == True])))",
      "execution_count": 17,
      "outputs": [
        {
          "name": "stdout",
          "output_type": "stream",
          "text": "# rows in dataframe : 185643\n# rows missing ABV : 15130\n# rows missing Brewing Company : 0\n# rows missing Food Paring : 0\n# rows missing Glassware Used : 0\n# rows missing Beer Name : 0\n# rows missing Ratings : 0\n# rows missing Style Name : 0\n# rows missing Cellar Temperature : 6781\n# rows missing Serving Temperature : 193\n"
        }
      ]
    },
    {
      "metadata": {
        "trusted": false
      },
      "cell_type": "code",
      "source": "df.describe()",
      "execution_count": 18,
      "outputs": [
        {
          "data": {
            "text/html": "<div>\n<style scoped>\n    .dataframe tbody tr th:only-of-type {\n        vertical-align: middle;\n    }\n\n    .dataframe tbody tr th {\n        vertical-align: top;\n    }\n\n    .dataframe thead th {\n        text-align: right;\n    }\n</style>\n<table border=\"1\" class=\"dataframe\">\n  <thead>\n    <tr style=\"text-align: right;\">\n      <th></th>\n      <th>ABV</th>\n      <th>Brewing Company</th>\n      <th>Beer Name</th>\n      <th>Score</th>\n    </tr>\n  </thead>\n  <tbody>\n    <tr>\n      <th>count</th>\n      <td>170513.000000</td>\n      <td>185643.000000</td>\n      <td>185643.000000</td>\n      <td>185643.000000</td>\n    </tr>\n    <tr>\n      <th>mean</th>\n      <td>6.354961</td>\n      <td>7008.757659</td>\n      <td>83738.220111</td>\n      <td>3.198432</td>\n    </tr>\n    <tr>\n      <th>std</th>\n      <td>1.907205</td>\n      <td>3914.168053</td>\n      <td>48520.065146</td>\n      <td>1.358862</td>\n    </tr>\n    <tr>\n      <th>min</th>\n      <td>0.010000</td>\n      <td>0.000000</td>\n      <td>0.000000</td>\n      <td>0.000000</td>\n    </tr>\n    <tr>\n      <th>25%</th>\n      <td>5.000000</td>\n      <td>3825.000000</td>\n      <td>41232.500000</td>\n      <td>3.270000</td>\n    </tr>\n    <tr>\n      <th>50%</th>\n      <td>6.000000</td>\n      <td>7111.000000</td>\n      <td>83335.000000</td>\n      <td>3.710000</td>\n    </tr>\n    <tr>\n      <th>75%</th>\n      <td>7.200000</td>\n      <td>10402.000000</td>\n      <td>125148.500000</td>\n      <td>3.970000</td>\n    </tr>\n    <tr>\n      <th>max</th>\n      <td>80.000000</td>\n      <td>13541.000000</td>\n      <td>168534.000000</td>\n      <td>5.000000</td>\n    </tr>\n  </tbody>\n</table>\n</div>",
            "text/plain": "                 ABV  Brewing Company      Beer Name          Score\ncount  170513.000000    185643.000000  185643.000000  185643.000000\nmean        6.354961      7008.757659   83738.220111       3.198432\nstd         1.907205      3914.168053   48520.065146       1.358862\nmin         0.010000         0.000000       0.000000       0.000000\n25%         5.000000      3825.000000   41232.500000       3.270000\n50%         6.000000      7111.000000   83335.000000       3.710000\n75%         7.200000     10402.000000  125148.500000       3.970000\nmax        80.000000     13541.000000  168534.000000       5.000000"
          },
          "execution_count": 18,
          "metadata": {},
          "output_type": "execute_result"
        }
      ]
    },
    {
      "metadata": {
        "trusted": false
      },
      "cell_type": "code",
      "source": "def plot_corr(df, size=10):\n    \"\"\"\n    Function plots a graphical correlation matrix for each pair of columns in the dataframe.\n\n    Input:\n        df: pandas DataFrame\n        size: vertical and horizontal size of the plot\n\n    Displays:\n        matrix of correlation between columns.  Blue-cyan-yellow-red-darkred => less to more correlated\n                                                0 ------------------>  1\n                                                Expect a darkred line running from top left to bottom right\n    \"\"\"\n\n    corr = df.corr()    # data frame correlation function\n    fig, ax = plt.subplots(figsize=(size, size))\n    ax.matshow(corr)   # color code the rectangles by correlation value\n    plt.xticks(range(len(corr.columns)), corr.columns)  # draw x tick marks\n    plt.yticks(range(len(corr.columns)), corr.columns)  # draw y tick marks",
      "execution_count": null,
      "outputs": []
    },
    {
      "metadata": {
        "trusted": false
      },
      "cell_type": "code",
      "source": "plot_corr(df)",
      "execution_count": null,
      "outputs": []
    },
    {
      "metadata": {
        "trusted": false
      },
      "cell_type": "code",
      "source": "df.corr()",
      "execution_count": null,
      "outputs": []
    },
    {
      "metadata": {
        "trusted": false
      },
      "cell_type": "code",
      "source": "from sklearn.cross_validation import train_test_split\n\nfeatured_col_names = ['ABV', 'Brewing Company','Beer Name','Ratings', 'Style Name' ,'Cellar Temperature', 'Serving Temperature', '']\npredicted_class_name = ['diabetes']\n\nx = df[featured_col_names].values               # predictor feature columns (8 X m)\ny = df[predicted_class_name].values             # predicted class (1 = true, 0 = false) column (1 X m)\n\nsplit_test_size = 0.30\n\nx_train, x_test, y_train, y_test = train_test_split(x,y,test_size = split_test_size, random_state = 42)\n        # test_size = 0.30 is 30%, 42 -> sets the seed for generating random numbers for the iterations in traing process",
      "execution_count": null,
      "outputs": []
    },
    {
      "metadata": {
        "trusted": false
      },
      "cell_type": "code",
      "source": "print(\"{0:0.2f}% in Training set\".format((len(x_train)/len(df.index))*100))\nprint(\"{0:0.2f}% in Test set\".format((len(x_test)/len(df.index))*100))",
      "execution_count": null,
      "outputs": []
    },
    {
      "metadata": {
        "trusted": false
      },
      "cell_type": "code",
      "source": "",
      "execution_count": null,
      "outputs": []
    }
  ],
  "metadata": {
    "kernelspec": {
      "name": "python3",
      "display_name": "Python 3",
      "language": "python"
    },
    "language_info": {
      "mimetype": "text/x-python",
      "nbconvert_exporter": "python",
      "name": "python",
      "pygments_lexer": "ipython3",
      "version": "3.5.4",
      "file_extension": ".py",
      "codemirror_mode": {
        "version": 3,
        "name": "ipython"
      }
    },
    "toc": {
      "nav_menu": {},
      "number_sections": true,
      "sideBar": true,
      "skip_h1_title": false,
      "base_numbering": 1,
      "title_cell": "Table of Contents",
      "title_sidebar": "Contents",
      "toc_cell": false,
      "toc_position": {},
      "toc_section_display": true,
      "toc_window_display": false
    }
  },
  "nbformat": 4,
  "nbformat_minor": 2
}