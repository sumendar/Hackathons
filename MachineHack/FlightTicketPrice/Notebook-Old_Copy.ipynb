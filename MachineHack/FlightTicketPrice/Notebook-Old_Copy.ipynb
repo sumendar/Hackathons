{
  "cells": [
    {
      "metadata": {},
      "cell_type": "markdown",
      "source": "### Problem Understanding \n### Hypothesis Generation"
    },
    {
      "metadata": {},
      "cell_type": "markdown",
      "source": "### load packages"
    },
    {
      "metadata": {
        "trusted": true
      },
      "cell_type": "code",
      "source": "#Loading libraries \nimport warnings\nimport re\nimport numpy as np \nimport pandas as pd\nimport matplotlib.pyplot as plt\n%matplotlib inline\nplt.rcParams['figure.figsize'] = (10.0, 8.0)\nimport seaborn as sns\nfrom scipy import stats\nfrom scipy.stats import norm\nwarnings.filterwarnings('ignore')",
      "execution_count": 58,
      "outputs": []
    },
    {
      "metadata": {
        "trusted": true
      },
      "cell_type": "code",
      "source": "sns.set_style('whitegrid')\nfrom sklearn.svm import SVR\nfrom sklearn.metrics import mean_squared_error, r2_score",
      "execution_count": 59,
      "outputs": []
    },
    {
      "metadata": {},
      "cell_type": "markdown",
      "source": "### Get Data"
    },
    {
      "metadata": {
        "trusted": true
      },
      "cell_type": "code",
      "source": "#make a copy of original data\ntrainOriginal = pd.read_excel('data/Data_Train.xlsx')\ntestOriginal = pd.read_excel('data/Test_set.xlsx')",
      "execution_count": 60,
      "outputs": []
    },
    {
      "metadata": {
        "trusted": true
      },
      "cell_type": "code",
      "source": "#loading data\ntrain = pd.read_excel('data/Data_Train.xlsx')\ntest = pd.read_excel('data/Test_set.xlsx')",
      "execution_count": 61,
      "outputs": []
    },
    {
      "metadata": {
        "trusted": true
      },
      "cell_type": "code",
      "source": "train.tail()",
      "execution_count": 62,
      "outputs": [
        {
          "output_type": "execute_result",
          "execution_count": 62,
          "data": {
            "text/html": "<div>\n<style scoped>\n    .dataframe tbody tr th:only-of-type {\n        vertical-align: middle;\n    }\n\n    .dataframe tbody tr th {\n        vertical-align: top;\n    }\n\n    .dataframe thead th {\n        text-align: right;\n    }\n</style>\n<table border=\"1\" class=\"dataframe\">\n  <thead>\n    <tr style=\"text-align: right;\">\n      <th></th>\n      <th>Airline</th>\n      <th>Date_of_Journey</th>\n      <th>Source</th>\n      <th>Destination</th>\n      <th>Route</th>\n      <th>Dep_Time</th>\n      <th>Arrival_Time</th>\n      <th>Duration</th>\n      <th>Total_Stops</th>\n      <th>Additional_Info</th>\n      <th>Price</th>\n    </tr>\n  </thead>\n  <tbody>\n    <tr>\n      <th>10678</th>\n      <td>Air Asia</td>\n      <td>9/04/2019</td>\n      <td>Kolkata</td>\n      <td>Banglore</td>\n      <td>CCU → BLR</td>\n      <td>19:55</td>\n      <td>22:25</td>\n      <td>2h 30m</td>\n      <td>non-stop</td>\n      <td>No info</td>\n      <td>4107</td>\n    </tr>\n    <tr>\n      <th>10679</th>\n      <td>Air India</td>\n      <td>27/04/2019</td>\n      <td>Kolkata</td>\n      <td>Banglore</td>\n      <td>CCU → BLR</td>\n      <td>20:45</td>\n      <td>23:20</td>\n      <td>2h 35m</td>\n      <td>non-stop</td>\n      <td>No info</td>\n      <td>4145</td>\n    </tr>\n    <tr>\n      <th>10680</th>\n      <td>Jet Airways</td>\n      <td>27/04/2019</td>\n      <td>Banglore</td>\n      <td>Delhi</td>\n      <td>BLR → DEL</td>\n      <td>08:20</td>\n      <td>11:20</td>\n      <td>3h</td>\n      <td>non-stop</td>\n      <td>No info</td>\n      <td>7229</td>\n    </tr>\n    <tr>\n      <th>10681</th>\n      <td>Vistara</td>\n      <td>01/03/2019</td>\n      <td>Banglore</td>\n      <td>New Delhi</td>\n      <td>BLR → DEL</td>\n      <td>11:30</td>\n      <td>14:10</td>\n      <td>2h 40m</td>\n      <td>non-stop</td>\n      <td>No info</td>\n      <td>12648</td>\n    </tr>\n    <tr>\n      <th>10682</th>\n      <td>Air India</td>\n      <td>9/05/2019</td>\n      <td>Delhi</td>\n      <td>Cochin</td>\n      <td>DEL → GOI → BOM → COK</td>\n      <td>10:55</td>\n      <td>19:15</td>\n      <td>8h 20m</td>\n      <td>2 stops</td>\n      <td>No info</td>\n      <td>11753</td>\n    </tr>\n  </tbody>\n</table>\n</div>",
            "text/plain": "           Airline Date_of_Journey    Source Destination  \\\n10678     Air Asia       9/04/2019   Kolkata    Banglore   \n10679    Air India      27/04/2019   Kolkata    Banglore   \n10680  Jet Airways      27/04/2019  Banglore       Delhi   \n10681      Vistara      01/03/2019  Banglore   New Delhi   \n10682    Air India       9/05/2019     Delhi      Cochin   \n\n                       Route Dep_Time Arrival_Time Duration Total_Stops  \\\n10678              CCU → BLR    19:55        22:25   2h 30m    non-stop   \n10679              CCU → BLR    20:45        23:20   2h 35m    non-stop   \n10680              BLR → DEL    08:20        11:20       3h    non-stop   \n10681              BLR → DEL    11:30        14:10   2h 40m    non-stop   \n10682  DEL → GOI → BOM → COK    10:55        19:15   8h 20m     2 stops   \n\n      Additional_Info  Price  \n10678         No info   4107  \n10679         No info   4145  \n10680         No info   7229  \n10681         No info  12648  \n10682         No info  11753  "
          },
          "metadata": {}
        }
      ]
    },
    {
      "metadata": {
        "trusted": true
      },
      "cell_type": "code",
      "source": "test.head()",
      "execution_count": 64,
      "outputs": [
        {
          "output_type": "execute_result",
          "execution_count": 64,
          "data": {
            "text/html": "<div>\n<style scoped>\n    .dataframe tbody tr th:only-of-type {\n        vertical-align: middle;\n    }\n\n    .dataframe tbody tr th {\n        vertical-align: top;\n    }\n\n    .dataframe thead th {\n        text-align: right;\n    }\n</style>\n<table border=\"1\" class=\"dataframe\">\n  <thead>\n    <tr style=\"text-align: right;\">\n      <th></th>\n      <th>Airline</th>\n      <th>Date_of_Journey</th>\n      <th>Source</th>\n      <th>Destination</th>\n      <th>Route</th>\n      <th>Dep_Time</th>\n      <th>Arrival_Time</th>\n      <th>Duration</th>\n      <th>Total_Stops</th>\n      <th>Additional_Info</th>\n    </tr>\n  </thead>\n  <tbody>\n    <tr>\n      <th>0</th>\n      <td>Jet Airways</td>\n      <td>6/06/2019</td>\n      <td>Delhi</td>\n      <td>Cochin</td>\n      <td>DEL → BOM → COK</td>\n      <td>17:30</td>\n      <td>04:25 07 Jun</td>\n      <td>10h 55m</td>\n      <td>1 stop</td>\n      <td>No info</td>\n    </tr>\n    <tr>\n      <th>1</th>\n      <td>IndiGo</td>\n      <td>12/05/2019</td>\n      <td>Kolkata</td>\n      <td>Banglore</td>\n      <td>CCU → MAA → BLR</td>\n      <td>06:20</td>\n      <td>10:20</td>\n      <td>4h</td>\n      <td>1 stop</td>\n      <td>No info</td>\n    </tr>\n    <tr>\n      <th>2</th>\n      <td>Jet Airways</td>\n      <td>21/05/2019</td>\n      <td>Delhi</td>\n      <td>Cochin</td>\n      <td>DEL → BOM → COK</td>\n      <td>19:15</td>\n      <td>19:00 22 May</td>\n      <td>23h 45m</td>\n      <td>1 stop</td>\n      <td>In-flight meal not included</td>\n    </tr>\n    <tr>\n      <th>3</th>\n      <td>Multiple carriers</td>\n      <td>21/05/2019</td>\n      <td>Delhi</td>\n      <td>Cochin</td>\n      <td>DEL → BOM → COK</td>\n      <td>08:00</td>\n      <td>21:00</td>\n      <td>13h</td>\n      <td>1 stop</td>\n      <td>No info</td>\n    </tr>\n    <tr>\n      <th>4</th>\n      <td>Air Asia</td>\n      <td>24/06/2019</td>\n      <td>Banglore</td>\n      <td>Delhi</td>\n      <td>BLR → DEL</td>\n      <td>23:55</td>\n      <td>02:45 25 Jun</td>\n      <td>2h 50m</td>\n      <td>non-stop</td>\n      <td>No info</td>\n    </tr>\n  </tbody>\n</table>\n</div>",
            "text/plain": "             Airline Date_of_Journey    Source Destination            Route  \\\n0        Jet Airways       6/06/2019     Delhi      Cochin  DEL → BOM → COK   \n1             IndiGo      12/05/2019   Kolkata    Banglore  CCU → MAA → BLR   \n2        Jet Airways      21/05/2019     Delhi      Cochin  DEL → BOM → COK   \n3  Multiple carriers      21/05/2019     Delhi      Cochin  DEL → BOM → COK   \n4           Air Asia      24/06/2019  Banglore       Delhi        BLR → DEL   \n\n  Dep_Time  Arrival_Time Duration Total_Stops              Additional_Info  \n0    17:30  04:25 07 Jun  10h 55m      1 stop                      No info  \n1    06:20         10:20       4h      1 stop                      No info  \n2    19:15  19:00 22 May  23h 45m      1 stop  In-flight meal not included  \n3    08:00         21:00      13h      1 stop                      No info  \n4    23:55  02:45 25 Jun   2h 50m    non-stop                      No info  "
          },
          "metadata": {}
        }
      ]
    },
    {
      "metadata": {},
      "cell_type": "markdown",
      "source": "###  Data Understanding"
    },
    {
      "metadata": {},
      "cell_type": "markdown",
      "source": "| Column          | Details                                                 |\n|-----------------|---------------------------------------------------------|\n| Airline         | The name of the airline                                 |\n| Date_of_Journey | The date of the journey                                 |\n| Source          | The source from which the service begins.               |\n| Destination     | The destination where the service ends.                 |\n| Route           | The route taken by the flight to reach the destination. |\n| Dep_Time        | The time when the journey starts from the source.       |\n| Arrival_Time    | Time of arrival at the destination.                     |\n| Duration        | Total duration of the flight.                           |\n| Total_Stops     | Total stops between the source and destination.         |\n| Additional_Info | Additional information about the flight.                |\n| Price           | The price of the ticket.                                |"
    },
    {
      "metadata": {},
      "cell_type": "markdown",
      "source": "### Inspect Data"
    },
    {
      "metadata": {
        "trusted": true,
        "run_control": {
          "marked": false
        }
      },
      "cell_type": "code",
      "source": "#check rows and columns\nprint ('The train data has {0} rows and {1} columns'.format(train.shape[0],train.shape[1]))\nprint ('----------------------------')\nprint ('The test data has {0} rows and {1} columns'.format(test.shape[0],test.shape[1]))",
      "execution_count": 30,
      "outputs": [
        {
          "output_type": "stream",
          "text": "The train data has 10683 rows and 11 columns\n----------------------------\nThe test data has 2671 rows and 10 columns\n",
          "name": "stdout"
        }
      ]
    },
    {
      "metadata": {
        "trusted": true,
        "scrolled": false
      },
      "cell_type": "code",
      "source": "data = train.append(test, ignore_index=False)\n# bigdata = pd.concat([data1, data2], ignore_index=True) particularly helpful when you are joining more than two dataframes:\nprint(data.shape)\nprint(data.info())",
      "execution_count": null,
      "outputs": []
    },
    {
      "metadata": {
        "trusted": true,
        "scrolled": true
      },
      "cell_type": "code",
      "source": "train.iloc[10682:10683,:] # display train data frame last row ",
      "execution_count": 32,
      "outputs": [
        {
          "output_type": "execute_result",
          "execution_count": 32,
          "data": {
            "text/html": "<div>\n<style scoped>\n    .dataframe tbody tr th:only-of-type {\n        vertical-align: middle;\n    }\n\n    .dataframe tbody tr th {\n        vertical-align: top;\n    }\n\n    .dataframe thead th {\n        text-align: right;\n    }\n</style>\n<table border=\"1\" class=\"dataframe\">\n  <thead>\n    <tr style=\"text-align: right;\">\n      <th></th>\n      <th>Airline</th>\n      <th>Date_of_Journey</th>\n      <th>Source</th>\n      <th>Destination</th>\n      <th>Route</th>\n      <th>Dep_Time</th>\n      <th>Arrival_Time</th>\n      <th>Duration</th>\n      <th>Total_Stops</th>\n      <th>Additional_Info</th>\n      <th>Price</th>\n    </tr>\n  </thead>\n  <tbody>\n    <tr>\n      <th>10682</th>\n      <td>Air India</td>\n      <td>9/05/2019</td>\n      <td>Delhi</td>\n      <td>Cochin</td>\n      <td>DEL → GOI → BOM → COK</td>\n      <td>10:55</td>\n      <td>19:15</td>\n      <td>8h 20m</td>\n      <td>2 stops</td>\n      <td>No info</td>\n      <td>11753</td>\n    </tr>\n  </tbody>\n</table>\n</div>",
            "text/plain": "         Airline Date_of_Journey Source Destination                  Route  \\\n10682  Air India       9/05/2019  Delhi      Cochin  DEL → GOI → BOM → COK   \n\n      Dep_Time Arrival_Time Duration Total_Stops Additional_Info  Price  \n10682    10:55        19:15   8h 20m     2 stops         No info  11753  "
          },
          "metadata": {}
        }
      ]
    },
    {
      "metadata": {
        "trusted": true,
        "scrolled": false
      },
      "cell_type": "code",
      "source": "data.iloc[10682:10683,:] # display train data frame last row in data data frame",
      "execution_count": 33,
      "outputs": [
        {
          "output_type": "execute_result",
          "execution_count": 33,
          "data": {
            "text/html": "<div>\n<style scoped>\n    .dataframe tbody tr th:only-of-type {\n        vertical-align: middle;\n    }\n\n    .dataframe tbody tr th {\n        vertical-align: top;\n    }\n\n    .dataframe thead th {\n        text-align: right;\n    }\n</style>\n<table border=\"1\" class=\"dataframe\">\n  <thead>\n    <tr style=\"text-align: right;\">\n      <th></th>\n      <th>Additional_Info</th>\n      <th>Airline</th>\n      <th>Arrival_Time</th>\n      <th>Date_of_Journey</th>\n      <th>Dep_Time</th>\n      <th>Destination</th>\n      <th>Duration</th>\n      <th>Price</th>\n      <th>Route</th>\n      <th>Source</th>\n      <th>Total_Stops</th>\n    </tr>\n  </thead>\n  <tbody>\n    <tr>\n      <th>10682</th>\n      <td>No info</td>\n      <td>Air India</td>\n      <td>19:15</td>\n      <td>9/05/2019</td>\n      <td>10:55</td>\n      <td>Cochin</td>\n      <td>8h 20m</td>\n      <td>11753.0</td>\n      <td>DEL → GOI → BOM → COK</td>\n      <td>Delhi</td>\n      <td>2 stops</td>\n    </tr>\n  </tbody>\n</table>\n</div>",
            "text/plain": "      Additional_Info    Airline Arrival_Time Date_of_Journey Dep_Time  \\\n10682         No info  Air India        19:15       9/05/2019    10:55   \n\n      Destination Duration    Price                  Route Source Total_Stops  \n10682      Cochin   8h 20m  11753.0  DEL → GOI → BOM → COK  Delhi     2 stops  "
          },
          "metadata": {}
        }
      ]
    },
    {
      "metadata": {},
      "cell_type": "markdown",
      "source": "### Exporting Combined dataset to working directory"
    },
    {
      "metadata": {
        "trusted": true
      },
      "cell_type": "code",
      "source": "data.to_csv('data/data.csv')",
      "execution_count": 34,
      "outputs": []
    },
    {
      "metadata": {
        "trusted": true,
        "scrolled": true
      },
      "cell_type": "code",
      "source": "print(data.head())\nprint(data.tail())",
      "execution_count": 35,
      "outputs": [
        {
          "output_type": "stream",
          "text": "  Additional_Info      Airline  Arrival_Time Date_of_Journey Dep_Time  \\\n0         No info       IndiGo  01:10 22 Mar      24/03/2019    22:20   \n1         No info    Air India         13:15       1/05/2019    05:50   \n2         No info  Jet Airways  04:25 10 Jun       9/06/2019    09:25   \n3         No info       IndiGo         23:30      12/05/2019    18:05   \n4         No info       IndiGo         21:35      01/03/2019    16:50   \n\n  Destination Duration    Price                  Route    Source Total_Stops  \n0   New Delhi   2h 50m   3897.0              BLR → DEL  Banglore    non-stop  \n1    Banglore   7h 25m   7662.0  CCU → IXR → BBI → BLR   Kolkata     2 stops  \n2      Cochin      19h  13882.0  DEL → LKO → BOM → COK     Delhi     2 stops  \n3    Banglore   5h 25m   6218.0        CCU → NAG → BLR   Kolkata      1 stop  \n4   New Delhi   4h 45m  13302.0        BLR → NAG → DEL  Banglore      1 stop  \n     Additional_Info            Airline  Arrival_Time Date_of_Journey  \\\n2666         No info          Air India  20:25 07 Jun       6/06/2019   \n2667         No info             IndiGo         16:55      27/03/2019   \n2668         No info        Jet Airways  04:25 07 Mar       6/03/2019   \n2669         No info          Air India         19:15       6/03/2019   \n2670         No info  Multiple carriers         19:15      15/06/2019   \n\n     Dep_Time Destination Duration  Price            Route   Source  \\\n2666    20:30    Banglore  23h 55m    NaN  CCU → DEL → BLR  Kolkata   \n2667    14:20    Banglore   2h 35m    NaN        CCU → BLR  Kolkata   \n2668    21:50      Cochin   6h 35m    NaN  DEL → BOM → COK    Delhi   \n2669    04:00      Cochin  15h 15m    NaN  DEL → BOM → COK    Delhi   \n2670    04:55      Cochin  14h 20m    NaN  DEL → BOM → COK    Delhi   \n\n     Total_Stops  \n2666      1 stop  \n2667    non-stop  \n2668      1 stop  \n2669      1 stop  \n2670      1 stop  \n",
          "name": "stdout"
        }
      ]
    },
    {
      "metadata": {},
      "cell_type": "markdown",
      "source": "### Data Exploration"
    },
    {
      "metadata": {
        "trusted": true
      },
      "cell_type": "code",
      "source": "data['Price'].plot(kind='hist');",
      "execution_count": 36,
      "outputs": [
        {
          "output_type": "display_data",
          "data": {
            "image/png": "[encoded data removed]",
            "text/plain": "<Figure size 720x576 with 1 Axes>"
          },
          "metadata": {}
        }
      ]
    },
    {
      "metadata": {},
      "cell_type": "markdown",
      "source": "### Missing values"
    },
    {
      "metadata": {
        "trusted": true
      },
      "cell_type": "code",
      "source": "# Let's check if the data set has any missing values.\n\n#check missing values\ndata.columns[data.isnull().any()]",
      "execution_count": 37,
      "outputs": [
        {
          "output_type": "execute_result",
          "execution_count": 37,
          "data": {
            "text/plain": "Index(['Price', 'Route', 'Total_Stops'], dtype='object')"
          },
          "metadata": {}
        }
      ]
    },
    {
      "metadata": {
        "trusted": true,
        "scrolled": false
      },
      "cell_type": "code",
      "source": "#missing value counts in each of these columns\nmiss = data.isnull().sum()/len(data)\nmiss = miss[miss > 0]\nmiss.sort_values(inplace=True)\nmiss",
      "execution_count": 38,
      "outputs": [
        {
          "output_type": "execute_result",
          "execution_count": 38,
          "data": {
            "text/plain": "Route          0.000075\nTotal_Stops    0.000075\nPrice          0.200015\ndtype: float64"
          },
          "metadata": {}
        }
      ]
    },
    {
      "metadata": {
        "run_control": {
          "marked": false
        },
        "trusted": true
      },
      "cell_type": "code",
      "source": "data['Route'].fillna(data['Route'].mode()[0], inplace=True) \ndata['Total_Stops'].fillna(data['Total_Stops'].mode()[0], inplace=True) ",
      "execution_count": 39,
      "outputs": []
    },
    {
      "metadata": {
        "run_control": {
          "marked": false
        },
        "trusted": true
      },
      "cell_type": "code",
      "source": "# Replace using median \nmedian = data['Price'].median()\ndata['Price'].fillna(median, inplace=True)",
      "execution_count": 40,
      "outputs": []
    },
    {
      "metadata": {
        "trusted": true,
        "scrolled": true
      },
      "cell_type": "code",
      "source": "#check missing values again\ndata.columns[data.isnull().any()]",
      "execution_count": 41,
      "outputs": [
        {
          "output_type": "execute_result",
          "execution_count": 41,
          "data": {
            "text/plain": "Index([], dtype='object')"
          },
          "metadata": {}
        }
      ]
    },
    {
      "metadata": {},
      "cell_type": "markdown",
      "source": "### Outliers"
    },
    {
      "metadata": {
        "trusted": true
      },
      "cell_type": "code",
      "source": "data.plot(kind='box')",
      "execution_count": 42,
      "outputs": [
        {
          "output_type": "execute_result",
          "execution_count": 42,
          "data": {
            "text/plain": "<matplotlib.axes._subplots.AxesSubplot at 0x7fb75a891860>"
          },
          "metadata": {}
        },
        {
          "output_type": "display_data",
          "data": {
            "image/png": "[encoded data removed]",
            "text/plain": "<Figure size 720x576 with 1 Axes>"
          },
          "metadata": {}
        }
      ]
    },
    {
      "metadata": {},
      "cell_type": "markdown",
      "source": "### Handling Date and Time Variables"
    },
    {
      "metadata": {
        "trusted": true
      },
      "cell_type": "code",
      "source": "#Cleaning Journey Date \n\n#Training Set\n\ndata['Journey_Day'] = pd.to_datetime(data.Date_of_Journey, format='%d/%m/%Y').dt.day\n\ndata['Journey_Month'] = pd.to_datetime(data.Date_of_Journey, format='%d/%m/%Y').dt.month\n\n# Compare the dates and delete the original date feature\n\ndata.drop(labels = 'Date_of_Journey', axis = 1, inplace = True)\ndata.head()",
      "execution_count": 43,
      "outputs": [
        {
          "output_type": "execute_result",
          "execution_count": 43,
          "data": {
            "text/html": "<div>\n<style scoped>\n    .dataframe tbody tr th:only-of-type {\n        vertical-align: middle;\n    }\n\n    .dataframe tbody tr th {\n        vertical-align: top;\n    }\n\n    .dataframe thead th {\n        text-align: right;\n    }\n</style>\n<table border=\"1\" class=\"dataframe\">\n  <thead>\n    <tr style=\"text-align: right;\">\n      <th></th>\n      <th>Additional_Info</th>\n      <th>Airline</th>\n      <th>Arrival_Time</th>\n      <th>Dep_Time</th>\n      <th>Destination</th>\n      <th>Duration</th>\n      <th>Price</th>\n      <th>Route</th>\n      <th>Source</th>\n      <th>Total_Stops</th>\n      <th>Journey_Day</th>\n      <th>Journey_Month</th>\n    </tr>\n  </thead>\n  <tbody>\n    <tr>\n      <th>0</th>\n      <td>No info</td>\n      <td>IndiGo</td>\n      <td>01:10 22 Mar</td>\n      <td>22:20</td>\n      <td>New Delhi</td>\n      <td>2h 50m</td>\n      <td>3897.0</td>\n      <td>BLR → DEL</td>\n      <td>Banglore</td>\n      <td>non-stop</td>\n      <td>24</td>\n      <td>3</td>\n    </tr>\n    <tr>\n      <th>1</th>\n      <td>No info</td>\n      <td>Air India</td>\n      <td>13:15</td>\n      <td>05:50</td>\n      <td>Banglore</td>\n      <td>7h 25m</td>\n      <td>7662.0</td>\n      <td>CCU → IXR → BBI → BLR</td>\n      <td>Kolkata</td>\n      <td>2 stops</td>\n      <td>1</td>\n      <td>5</td>\n    </tr>\n    <tr>\n      <th>2</th>\n      <td>No info</td>\n      <td>Jet Airways</td>\n      <td>04:25 10 Jun</td>\n      <td>09:25</td>\n      <td>Cochin</td>\n      <td>19h</td>\n      <td>13882.0</td>\n      <td>DEL → LKO → BOM → COK</td>\n      <td>Delhi</td>\n      <td>2 stops</td>\n      <td>9</td>\n      <td>6</td>\n    </tr>\n    <tr>\n      <th>3</th>\n      <td>No info</td>\n      <td>IndiGo</td>\n      <td>23:30</td>\n      <td>18:05</td>\n      <td>Banglore</td>\n      <td>5h 25m</td>\n      <td>6218.0</td>\n      <td>CCU → NAG → BLR</td>\n      <td>Kolkata</td>\n      <td>1 stop</td>\n      <td>12</td>\n      <td>5</td>\n    </tr>\n    <tr>\n      <th>4</th>\n      <td>No info</td>\n      <td>IndiGo</td>\n      <td>21:35</td>\n      <td>16:50</td>\n      <td>New Delhi</td>\n      <td>4h 45m</td>\n      <td>13302.0</td>\n      <td>BLR → NAG → DEL</td>\n      <td>Banglore</td>\n      <td>1 stop</td>\n      <td>1</td>\n      <td>3</td>\n    </tr>\n  </tbody>\n</table>\n</div>",
            "text/plain": "  Additional_Info      Airline  Arrival_Time Dep_Time Destination Duration  \\\n0         No info       IndiGo  01:10 22 Mar    22:20   New Delhi   2h 50m   \n1         No info    Air India         13:15    05:50    Banglore   7h 25m   \n2         No info  Jet Airways  04:25 10 Jun    09:25      Cochin      19h   \n3         No info       IndiGo         23:30    18:05    Banglore   5h 25m   \n4         No info       IndiGo         21:35    16:50   New Delhi   4h 45m   \n\n     Price                  Route    Source Total_Stops  Journey_Day  \\\n0   3897.0              BLR → DEL  Banglore    non-stop           24   \n1   7662.0  CCU → IXR → BBI → BLR   Kolkata     2 stops            1   \n2  13882.0  DEL → LKO → BOM → COK     Delhi     2 stops            9   \n3   6218.0        CCU → NAG → BLR   Kolkata      1 stop           12   \n4  13302.0        BLR → NAG → DEL  Banglore      1 stop            1   \n\n   Journey_Month  \n0              3  \n1              5  \n2              6  \n3              5  \n4              3  "
          },
          "metadata": {}
        }
      ]
    },
    {
      "metadata": {
        "trusted": true,
        "scrolled": true
      },
      "cell_type": "code",
      "source": "# Cleaning Duration\n\n# Training Set\n\nduration = list(data['Duration'])\n\nfor i in range(len(duration)) :\n    if len(duration[i].split()) != 2:\n        if 'h' in duration[i] :\n            duration[i] = duration[i].strip() + ' 0m'\n        elif 'm' in duration[i] :\n            duration[i] = '0h {}'.format(duration[i].strip())\n\ndur_hours = []\ndur_minutes = []  \n\nfor i in range(len(duration)) :\n    dur_hours.append(int(duration[i].split()[0][:-1]))\n    dur_minutes.append(int(duration[i].split()[1][:-1]))\n    \ndata['Duration_hours'] = dur_hours\ndata['Duration_minutes'] =dur_minutes\n\ndata.drop(labels = 'Duration', axis = 1, inplace = True)\n\ndata.head()",
      "execution_count": 44,
      "outputs": [
        {
          "output_type": "execute_result",
          "execution_count": 44,
          "data": {
            "text/html": "<div>\n<style scoped>\n    .dataframe tbody tr th:only-of-type {\n        vertical-align: middle;\n    }\n\n    .dataframe tbody tr th {\n        vertical-align: top;\n    }\n\n    .dataframe thead th {\n        text-align: right;\n    }\n</style>\n<table border=\"1\" class=\"dataframe\">\n  <thead>\n    <tr style=\"text-align: right;\">\n      <th></th>\n      <th>Additional_Info</th>\n      <th>Airline</th>\n      <th>Arrival_Time</th>\n      <th>Dep_Time</th>\n      <th>Destination</th>\n      <th>Price</th>\n      <th>Route</th>\n      <th>Source</th>\n      <th>Total_Stops</th>\n      <th>Journey_Day</th>\n      <th>Journey_Month</th>\n      <th>Duration_hours</th>\n      <th>Duration_minutes</th>\n    </tr>\n  </thead>\n  <tbody>\n    <tr>\n      <th>0</th>\n      <td>No info</td>\n      <td>IndiGo</td>\n      <td>01:10 22 Mar</td>\n      <td>22:20</td>\n      <td>New Delhi</td>\n      <td>3897.0</td>\n      <td>BLR → DEL</td>\n      <td>Banglore</td>\n      <td>non-stop</td>\n      <td>24</td>\n      <td>3</td>\n      <td>2</td>\n      <td>50</td>\n    </tr>\n    <tr>\n      <th>1</th>\n      <td>No info</td>\n      <td>Air India</td>\n      <td>13:15</td>\n      <td>05:50</td>\n      <td>Banglore</td>\n      <td>7662.0</td>\n      <td>CCU → IXR → BBI → BLR</td>\n      <td>Kolkata</td>\n      <td>2 stops</td>\n      <td>1</td>\n      <td>5</td>\n      <td>7</td>\n      <td>25</td>\n    </tr>\n    <tr>\n      <th>2</th>\n      <td>No info</td>\n      <td>Jet Airways</td>\n      <td>04:25 10 Jun</td>\n      <td>09:25</td>\n      <td>Cochin</td>\n      <td>13882.0</td>\n      <td>DEL → LKO → BOM → COK</td>\n      <td>Delhi</td>\n      <td>2 stops</td>\n      <td>9</td>\n      <td>6</td>\n      <td>19</td>\n      <td>0</td>\n    </tr>\n    <tr>\n      <th>3</th>\n      <td>No info</td>\n      <td>IndiGo</td>\n      <td>23:30</td>\n      <td>18:05</td>\n      <td>Banglore</td>\n      <td>6218.0</td>\n      <td>CCU → NAG → BLR</td>\n      <td>Kolkata</td>\n      <td>1 stop</td>\n      <td>12</td>\n      <td>5</td>\n      <td>5</td>\n      <td>25</td>\n    </tr>\n    <tr>\n      <th>4</th>\n      <td>No info</td>\n      <td>IndiGo</td>\n      <td>21:35</td>\n      <td>16:50</td>\n      <td>New Delhi</td>\n      <td>13302.0</td>\n      <td>BLR → NAG → DEL</td>\n      <td>Banglore</td>\n      <td>1 stop</td>\n      <td>1</td>\n      <td>3</td>\n      <td>4</td>\n      <td>45</td>\n    </tr>\n  </tbody>\n</table>\n</div>",
            "text/plain": "  Additional_Info      Airline  Arrival_Time Dep_Time Destination    Price  \\\n0         No info       IndiGo  01:10 22 Mar    22:20   New Delhi   3897.0   \n1         No info    Air India         13:15    05:50    Banglore   7662.0   \n2         No info  Jet Airways  04:25 10 Jun    09:25      Cochin  13882.0   \n3         No info       IndiGo         23:30    18:05    Banglore   6218.0   \n4         No info       IndiGo         21:35    16:50   New Delhi  13302.0   \n\n                   Route    Source Total_Stops  Journey_Day  Journey_Month  \\\n0              BLR → DEL  Banglore    non-stop           24              3   \n1  CCU → IXR → BBI → BLR   Kolkata     2 stops            1              5   \n2  DEL → LKO → BOM → COK     Delhi     2 stops            9              6   \n3        CCU → NAG → BLR   Kolkata      1 stop           12              5   \n4        BLR → NAG → DEL  Banglore      1 stop            1              3   \n\n   Duration_hours  Duration_minutes  \n0               2                50  \n1               7                25  \n2              19                 0  \n3               5                25  \n4               4                45  "
          },
          "metadata": {}
        }
      ]
    },
    {
      "metadata": {
        "trusted": true
      },
      "cell_type": "code",
      "source": "#Cleaning Departure and Arrival Times\n\n# Training Set\n\n\ndata['Depart_Time_Hour'] = pd.to_datetime(data.Dep_Time).dt.hour\ndata['Depart_Time_Minutes'] = pd.to_datetime(data.Dep_Time).dt.minute\n\ndata.drop(labels = 'Dep_Time', axis = 1, inplace = True)\ndata.head()",
      "execution_count": 45,
      "outputs": [
        {
          "output_type": "execute_result",
          "execution_count": 45,
          "data": {
            "text/html": "<div>\n<style scoped>\n    .dataframe tbody tr th:only-of-type {\n        vertical-align: middle;\n    }\n\n    .dataframe tbody tr th {\n        vertical-align: top;\n    }\n\n    .dataframe thead th {\n        text-align: right;\n    }\n</style>\n<table border=\"1\" class=\"dataframe\">\n  <thead>\n    <tr style=\"text-align: right;\">\n      <th></th>\n      <th>Additional_Info</th>\n      <th>Airline</th>\n      <th>Arrival_Time</th>\n      <th>Destination</th>\n      <th>Price</th>\n      <th>Route</th>\n      <th>Source</th>\n      <th>Total_Stops</th>\n      <th>Journey_Day</th>\n      <th>Journey_Month</th>\n      <th>Duration_hours</th>\n      <th>Duration_minutes</th>\n      <th>Depart_Time_Hour</th>\n      <th>Depart_Time_Minutes</th>\n    </tr>\n  </thead>\n  <tbody>\n    <tr>\n      <th>0</th>\n      <td>No info</td>\n      <td>IndiGo</td>\n      <td>01:10 22 Mar</td>\n      <td>New Delhi</td>\n      <td>3897.0</td>\n      <td>BLR → DEL</td>\n      <td>Banglore</td>\n      <td>non-stop</td>\n      <td>24</td>\n      <td>3</td>\n      <td>2</td>\n      <td>50</td>\n      <td>22</td>\n      <td>20</td>\n    </tr>\n    <tr>\n      <th>1</th>\n      <td>No info</td>\n      <td>Air India</td>\n      <td>13:15</td>\n      <td>Banglore</td>\n      <td>7662.0</td>\n      <td>CCU → IXR → BBI → BLR</td>\n      <td>Kolkata</td>\n      <td>2 stops</td>\n      <td>1</td>\n      <td>5</td>\n      <td>7</td>\n      <td>25</td>\n      <td>5</td>\n      <td>50</td>\n    </tr>\n    <tr>\n      <th>2</th>\n      <td>No info</td>\n      <td>Jet Airways</td>\n      <td>04:25 10 Jun</td>\n      <td>Cochin</td>\n      <td>13882.0</td>\n      <td>DEL → LKO → BOM → COK</td>\n      <td>Delhi</td>\n      <td>2 stops</td>\n      <td>9</td>\n      <td>6</td>\n      <td>19</td>\n      <td>0</td>\n      <td>9</td>\n      <td>25</td>\n    </tr>\n    <tr>\n      <th>3</th>\n      <td>No info</td>\n      <td>IndiGo</td>\n      <td>23:30</td>\n      <td>Banglore</td>\n      <td>6218.0</td>\n      <td>CCU → NAG → BLR</td>\n      <td>Kolkata</td>\n      <td>1 stop</td>\n      <td>12</td>\n      <td>5</td>\n      <td>5</td>\n      <td>25</td>\n      <td>18</td>\n      <td>5</td>\n    </tr>\n    <tr>\n      <th>4</th>\n      <td>No info</td>\n      <td>IndiGo</td>\n      <td>21:35</td>\n      <td>New Delhi</td>\n      <td>13302.0</td>\n      <td>BLR → NAG → DEL</td>\n      <td>Banglore</td>\n      <td>1 stop</td>\n      <td>1</td>\n      <td>3</td>\n      <td>4</td>\n      <td>45</td>\n      <td>16</td>\n      <td>50</td>\n    </tr>\n  </tbody>\n</table>\n</div>",
            "text/plain": "  Additional_Info      Airline  Arrival_Time Destination    Price  \\\n0         No info       IndiGo  01:10 22 Mar   New Delhi   3897.0   \n1         No info    Air India         13:15    Banglore   7662.0   \n2         No info  Jet Airways  04:25 10 Jun      Cochin  13882.0   \n3         No info       IndiGo         23:30    Banglore   6218.0   \n4         No info       IndiGo         21:35   New Delhi  13302.0   \n\n                   Route    Source Total_Stops  Journey_Day  Journey_Month  \\\n0              BLR → DEL  Banglore    non-stop           24              3   \n1  CCU → IXR → BBI → BLR   Kolkata     2 stops            1              5   \n2  DEL → LKO → BOM → COK     Delhi     2 stops            9              6   \n3        CCU → NAG → BLR   Kolkata      1 stop           12              5   \n4        BLR → NAG → DEL  Banglore      1 stop            1              3   \n\n   Duration_hours  Duration_minutes  Depart_Time_Hour  Depart_Time_Minutes  \n0               2                50                22                   20  \n1               7                25                 5                   50  \n2              19                 0                 9                   25  \n3               5                25                18                    5  \n4               4                45                16                   50  "
          },
          "metadata": {}
        }
      ]
    },
    {
      "metadata": {
        "trusted": true
      },
      "cell_type": "code",
      "source": "data['Arr_Time_Hour'] = pd.to_datetime(data.Arrival_Time).dt.hour\ndata['Arr_Time_Minutes'] = pd.to_datetime(data.Arrival_Time).dt.minute\n\ndata.drop(labels = 'Arrival_Time', axis = 1, inplace = True)\ndata.head()",
      "execution_count": 46,
      "outputs": [
        {
          "output_type": "execute_result",
          "execution_count": 46,
          "data": {
            "text/html": "<div>\n<style scoped>\n    .dataframe tbody tr th:only-of-type {\n        vertical-align: middle;\n    }\n\n    .dataframe tbody tr th {\n        vertical-align: top;\n    }\n\n    .dataframe thead th {\n        text-align: right;\n    }\n</style>\n<table border=\"1\" class=\"dataframe\">\n  <thead>\n    <tr style=\"text-align: right;\">\n      <th></th>\n      <th>Additional_Info</th>\n      <th>Airline</th>\n      <th>Destination</th>\n      <th>Price</th>\n      <th>Route</th>\n      <th>Source</th>\n      <th>Total_Stops</th>\n      <th>Journey_Day</th>\n      <th>Journey_Month</th>\n      <th>Duration_hours</th>\n      <th>Duration_minutes</th>\n      <th>Depart_Time_Hour</th>\n      <th>Depart_Time_Minutes</th>\n      <th>Arr_Time_Hour</th>\n      <th>Arr_Time_Minutes</th>\n    </tr>\n  </thead>\n  <tbody>\n    <tr>\n      <th>0</th>\n      <td>No info</td>\n      <td>IndiGo</td>\n      <td>New Delhi</td>\n      <td>3897.0</td>\n      <td>BLR → DEL</td>\n      <td>Banglore</td>\n      <td>non-stop</td>\n      <td>24</td>\n      <td>3</td>\n      <td>2</td>\n      <td>50</td>\n      <td>22</td>\n      <td>20</td>\n      <td>1</td>\n      <td>10</td>\n    </tr>\n    <tr>\n      <th>1</th>\n      <td>No info</td>\n      <td>Air India</td>\n      <td>Banglore</td>\n      <td>7662.0</td>\n      <td>CCU → IXR → BBI → BLR</td>\n      <td>Kolkata</td>\n      <td>2 stops</td>\n      <td>1</td>\n      <td>5</td>\n      <td>7</td>\n      <td>25</td>\n      <td>5</td>\n      <td>50</td>\n      <td>13</td>\n      <td>15</td>\n    </tr>\n    <tr>\n      <th>2</th>\n      <td>No info</td>\n      <td>Jet Airways</td>\n      <td>Cochin</td>\n      <td>13882.0</td>\n      <td>DEL → LKO → BOM → COK</td>\n      <td>Delhi</td>\n      <td>2 stops</td>\n      <td>9</td>\n      <td>6</td>\n      <td>19</td>\n      <td>0</td>\n      <td>9</td>\n      <td>25</td>\n      <td>4</td>\n      <td>25</td>\n    </tr>\n    <tr>\n      <th>3</th>\n      <td>No info</td>\n      <td>IndiGo</td>\n      <td>Banglore</td>\n      <td>6218.0</td>\n      <td>CCU → NAG → BLR</td>\n      <td>Kolkata</td>\n      <td>1 stop</td>\n      <td>12</td>\n      <td>5</td>\n      <td>5</td>\n      <td>25</td>\n      <td>18</td>\n      <td>5</td>\n      <td>23</td>\n      <td>30</td>\n    </tr>\n    <tr>\n      <th>4</th>\n      <td>No info</td>\n      <td>IndiGo</td>\n      <td>New Delhi</td>\n      <td>13302.0</td>\n      <td>BLR → NAG → DEL</td>\n      <td>Banglore</td>\n      <td>1 stop</td>\n      <td>1</td>\n      <td>3</td>\n      <td>4</td>\n      <td>45</td>\n      <td>16</td>\n      <td>50</td>\n      <td>21</td>\n      <td>35</td>\n    </tr>\n  </tbody>\n</table>\n</div>",
            "text/plain": "  Additional_Info      Airline Destination    Price                  Route  \\\n0         No info       IndiGo   New Delhi   3897.0              BLR → DEL   \n1         No info    Air India    Banglore   7662.0  CCU → IXR → BBI → BLR   \n2         No info  Jet Airways      Cochin  13882.0  DEL → LKO → BOM → COK   \n3         No info       IndiGo    Banglore   6218.0        CCU → NAG → BLR   \n4         No info       IndiGo   New Delhi  13302.0        BLR → NAG → DEL   \n\n     Source Total_Stops  Journey_Day  Journey_Month  Duration_hours  \\\n0  Banglore    non-stop           24              3               2   \n1   Kolkata     2 stops            1              5               7   \n2     Delhi     2 stops            9              6              19   \n3   Kolkata      1 stop           12              5               5   \n4  Banglore      1 stop            1              3               4   \n\n   Duration_minutes  Depart_Time_Hour  Depart_Time_Minutes  Arr_Time_Hour  \\\n0                50                22                   20              1   \n1                25                 5                   50             13   \n2                 0                 9                   25              4   \n3                25                18                    5             23   \n4                45                16                   50             21   \n\n   Arr_Time_Minutes  \n0                10  \n1                15  \n2                25  \n3                30  \n4                35  "
          },
          "metadata": {}
        }
      ]
    },
    {
      "metadata": {},
      "cell_type": "markdown",
      "source": "### Handling Categorical Variables"
    },
    {
      "metadata": {
        "trusted": true
      },
      "cell_type": "code",
      "source": "# to get categorical values count\nl = ['Additional_Info', 'Airline', 'Destination', 'Route', 'Source','Total_Stops']\nprint([data[i].value_counts() for i in l])",
      "execution_count": 47,
      "outputs": [
        {
          "output_type": "stream",
          "text": "[No info                         10493\nIn-flight meal not included      2426\nNo check-in baggage included      396\n1 Long layover                     20\nChange airports                     8\nBusiness class                      5\nNo Info                             3\n2 Long layover                      1\n1 Short layover                     1\nRed-eye flight                      1\nName: Additional_Info, dtype: int64, Jet Airways                          4746\nIndiGo                               2564\nAir India                            2192\nMultiple carriers                    1543\nSpiceJet                             1026\nVistara                               608\nAir Asia                              405\nGoAir                                 240\nMultiple carriers Premium economy      16\nJet Airways Business                    8\nVistara Premium economy                 5\nTrujet                                  1\nName: Airline, dtype: int64, Cochin       5682\nBanglore     3581\nDelhi        1582\nNew Delhi    1170\nHyderabad     883\nKolkata       456\nName: Destination, dtype: int64, DEL → BOM → COK                      3001\nBLR → DEL                            1941\nCCU → BOM → BLR                      1232\nCCU → BLR                             896\nBOM → HYD                             785\nCCU → DEL → BLR                       689\nBLR → BOM → DEL                       509\nMAA → CCU                             456\nDEL → HYD → COK                       411\nDEL → JAI → BOM → COK                 314\nDEL → BLR → COK                       287\nDEL → COK                             262\nDEL → AMD → BOM → COK                 246\nDEL → MAA → COK                       190\nDEL → IDR → BOM → COK                 117\nDEL → HYD → MAA → COK                 100\nDEL → NAG → BOM → COK                  83\nCCU → HYD → BLR                        80\nCCU → MAA → BLR                        78\nDEL → GOI → BOM → COK                  73\nDEL → HYD → BOM → COK                  68\nCCU → BBI → BLR                        60\nDEL → BHO → BOM → COK                  59\nDEL → CCU → BOM → COK                  59\nCCU → IXR → DEL → BLR                  57\nCCU → BBI → BOM → BLR                  53\nDEL → ATQ → BOM → COK                  51\nDEL → PNQ → COK                        49\nCCU → GAU → DEL → BLR                  49\nCCU → DEL → COK → BLR                  48\n                                     ... \nCCU → BOM → TRV → BLR                   3\nBOM → IDR → DEL → HYD                   2\nBOM → BDQ → DEL → HYD                   2\nBLR → TRV → DEL                         2\nBLR → TRV → COK → DEL                   2\nBLR → CCU → BBI → HYD → VGA → DEL       2\nCCU → IXR → BBI → BOM → BLR             2\nBOM → GOI → HYD                         2\nBLR → CCU → BBI → HYD → DEL             2\nBLR → HBX → BOM → AMD → DEL             1\nCCU → IXZ → MAA → BLR                   1\nBOM → COK → MAA → HYD                   1\nBOM → JDH → JAI → DEL → HYD             1\nBOM → IXC → DEL → HYD                   1\nBOM → DED → DEL → HYD                   1\nBOM → VGA → TIR → HYD                   1\nBLR → HBX → BOM → BHO → DEL             1\nCCU → VTZ → BLR                         1\nBOM → VNS → DEL → HYD                   1\nBLR → HBX → BOM → NAG → DEL             1\nCCU → IXB → DEL → BLR                   1\nBOM → RPR → VTZ → HYD                   1\nBOM → UDR → DEL → HYD                   1\nBOM → BLR → CCU → BBI → HYD             1\nBOM → CCU → HYD                         1\nBOM → JLR → HYD                         1\nBOM → BBI → HYD                         1\nBOM → NDC → HYD                         1\nCCU → IXA → BLR                         1\nCCU → RPR → HYD → BLR                   1\nName: Route, Length: 132, dtype: int64, Delhi       5682\nKolkata     3581\nBanglore    2752\nMumbai       883\nChennai      456\nName: Source, dtype: int64, 1 stop      7057\nnon-stop    4340\n2 stops     1899\n3 stops       56\n4 stops        2\nName: Total_Stops, dtype: int64]\n",
          "name": "stdout"
        }
      ]
    },
    {
      "metadata": {
        "trusted": true
      },
      "cell_type": "code",
      "source": "print([len(data[i].value_counts()) for i in l])",
      "execution_count": 48,
      "outputs": [
        {
          "output_type": "stream",
          "text": "[10, 12, 6, 132, 5, 5]\n",
          "name": "stdout"
        }
      ]
    },
    {
      "metadata": {
        "trusted": true
      },
      "cell_type": "code",
      "source": "data.head()",
      "execution_count": 49,
      "outputs": [
        {
          "output_type": "execute_result",
          "execution_count": 49,
          "data": {
            "text/html": "<div>\n<style scoped>\n    .dataframe tbody tr th:only-of-type {\n        vertical-align: middle;\n    }\n\n    .dataframe tbody tr th {\n        vertical-align: top;\n    }\n\n    .dataframe thead th {\n        text-align: right;\n    }\n</style>\n<table border=\"1\" class=\"dataframe\">\n  <thead>\n    <tr style=\"text-align: right;\">\n      <th></th>\n      <th>Additional_Info</th>\n      <th>Airline</th>\n      <th>Destination</th>\n      <th>Price</th>\n      <th>Route</th>\n      <th>Source</th>\n      <th>Total_Stops</th>\n      <th>Journey_Day</th>\n      <th>Journey_Month</th>\n      <th>Duration_hours</th>\n      <th>Duration_minutes</th>\n      <th>Depart_Time_Hour</th>\n      <th>Depart_Time_Minutes</th>\n      <th>Arr_Time_Hour</th>\n      <th>Arr_Time_Minutes</th>\n    </tr>\n  </thead>\n  <tbody>\n    <tr>\n      <th>0</th>\n      <td>No info</td>\n      <td>IndiGo</td>\n      <td>New Delhi</td>\n      <td>3897.0</td>\n      <td>BLR → DEL</td>\n      <td>Banglore</td>\n      <td>non-stop</td>\n      <td>24</td>\n      <td>3</td>\n      <td>2</td>\n      <td>50</td>\n      <td>22</td>\n      <td>20</td>\n      <td>1</td>\n      <td>10</td>\n    </tr>\n    <tr>\n      <th>1</th>\n      <td>No info</td>\n      <td>Air India</td>\n      <td>Banglore</td>\n      <td>7662.0</td>\n      <td>CCU → IXR → BBI → BLR</td>\n      <td>Kolkata</td>\n      <td>2 stops</td>\n      <td>1</td>\n      <td>5</td>\n      <td>7</td>\n      <td>25</td>\n      <td>5</td>\n      <td>50</td>\n      <td>13</td>\n      <td>15</td>\n    </tr>\n    <tr>\n      <th>2</th>\n      <td>No info</td>\n      <td>Jet Airways</td>\n      <td>Cochin</td>\n      <td>13882.0</td>\n      <td>DEL → LKO → BOM → COK</td>\n      <td>Delhi</td>\n      <td>2 stops</td>\n      <td>9</td>\n      <td>6</td>\n      <td>19</td>\n      <td>0</td>\n      <td>9</td>\n      <td>25</td>\n      <td>4</td>\n      <td>25</td>\n    </tr>\n    <tr>\n      <th>3</th>\n      <td>No info</td>\n      <td>IndiGo</td>\n      <td>Banglore</td>\n      <td>6218.0</td>\n      <td>CCU → NAG → BLR</td>\n      <td>Kolkata</td>\n      <td>1 stop</td>\n      <td>12</td>\n      <td>5</td>\n      <td>5</td>\n      <td>25</td>\n      <td>18</td>\n      <td>5</td>\n      <td>23</td>\n      <td>30</td>\n    </tr>\n    <tr>\n      <th>4</th>\n      <td>No info</td>\n      <td>IndiGo</td>\n      <td>New Delhi</td>\n      <td>13302.0</td>\n      <td>BLR → NAG → DEL</td>\n      <td>Banglore</td>\n      <td>1 stop</td>\n      <td>1</td>\n      <td>3</td>\n      <td>4</td>\n      <td>45</td>\n      <td>16</td>\n      <td>50</td>\n      <td>21</td>\n      <td>35</td>\n    </tr>\n  </tbody>\n</table>\n</div>",
            "text/plain": "  Additional_Info      Airline Destination    Price                  Route  \\\n0         No info       IndiGo   New Delhi   3897.0              BLR → DEL   \n1         No info    Air India    Banglore   7662.0  CCU → IXR → BBI → BLR   \n2         No info  Jet Airways      Cochin  13882.0  DEL → LKO → BOM → COK   \n3         No info       IndiGo    Banglore   6218.0        CCU → NAG → BLR   \n4         No info       IndiGo   New Delhi  13302.0        BLR → NAG → DEL   \n\n     Source Total_Stops  Journey_Day  Journey_Month  Duration_hours  \\\n0  Banglore    non-stop           24              3               2   \n1   Kolkata     2 stops            1              5               7   \n2     Delhi     2 stops            9              6              19   \n3   Kolkata      1 stop           12              5               5   \n4  Banglore      1 stop            1              3               4   \n\n   Duration_minutes  Depart_Time_Hour  Depart_Time_Minutes  Arr_Time_Hour  \\\n0                50                22                   20              1   \n1                25                 5                   50             13   \n2                 0                 9                   25              4   \n3                25                18                    5             23   \n4                45                16                   50             21   \n\n   Arr_Time_Minutes  \n0                10  \n1                15  \n2                25  \n3                30  \n4                35  "
          },
          "metadata": {}
        }
      ]
    },
    {
      "metadata": {},
      "cell_type": "markdown",
      "source": "#### label Encoding "
    },
    {
      "metadata": {
        "trusted": true
      },
      "cell_type": "code",
      "source": "from sklearn.preprocessing import LabelEncoder\n\nle1 = LabelEncoder()\nle2 = LabelEncoder()\n\n# Training Set    \n\ndata.iloc[:,0] = le1.fit_transform(data.iloc[:,0])\n\ndata.iloc[:,1] = le1.fit_transform(data.iloc[:,1])\n\ndata.iloc[:,2] = le1.fit_transform(data.iloc[:,2])\n\ndata.iloc[:,4] = le1.fit_transform(data.iloc[:,4])\n\ndata.iloc[:,5] = le1.fit_transform(data.iloc[:,5])\n\ndata.iloc[:,6] = le1.fit_transform(data.iloc[:,6])\n",
      "execution_count": 51,
      "outputs": []
    },
    {
      "metadata": {
        "trusted": true
      },
      "cell_type": "code",
      "source": "print(data.head())\nprint(data.shape)",
      "execution_count": 53,
      "outputs": [
        {
          "output_type": "stream",
          "text": "   Additional_Info  Airline  Destination    Price  Route  Source  Total_Stops  \\\n0                8        3            5   3897.0     18       0            4   \n1                8        1            0   7662.0     87       3            1   \n2                8        4            1  13882.0    122       2            1   \n3                8        3            0   6218.0     95       3            0   \n4                8        3            5  13302.0     29       0            0   \n\n   Journey_Day  Journey_Month  Duration_hours  Duration_minutes  \\\n0           24              3               2                50   \n1            1              5               7                25   \n2            9              6              19                 0   \n3           12              5               5                25   \n4            1              3               4                45   \n\n   Depart_Time_Hour  Depart_Time_Minutes  Arr_Time_Hour  Arr_Time_Minutes  \n0                22                   20              1                10  \n1                 5                   50             13                15  \n2                 9                   25              4                25  \n3                18                    5             23                30  \n4                16                   50             21                35  \n(13354, 15)\n",
          "name": "stdout"
        }
      ]
    },
    {
      "metadata": {
        "trusted": true
      },
      "cell_type": "code",
      "source": "",
      "execution_count": null,
      "outputs": []
    },
    {
      "metadata": {},
      "cell_type": "markdown",
      "source": "#### One Hot Encoding  (dummy variables)"
    },
    {
      "metadata": {
        "trusted": true,
        "scrolled": false
      },
      "cell_type": "code",
      "source": "# dummiesDF = pd.get_dummies(data)\n# dummiesDF.head()\n# merged = pd.concat([data,dummiesDF], axis ='columns')\n# merged.head()\n# final = merged.drop(['Additional_Info', 'Airline', 'Destination', 'Route', 'Source','Total_Stops'], axis ='columns')\n# pd.set_option('display.max_columns', 500)\n# final.head()",
      "execution_count": null,
      "outputs": []
    },
    {
      "metadata": {
        "trusted": true,
        "run_control": {
          "marked": false
        }
      },
      "cell_type": "code",
      "source": "# we have to drop one of the dummy variables (dummy variable trap: since these variables become multi coliniority \n# when we derived dummy variables from any variables, for linear regression model no need to drop one of dummy variables\n# since lR model aware of dummy variables itself drop it)\n# print(final.info())",
      "execution_count": null,
      "outputs": []
    },
    {
      "metadata": {},
      "cell_type": "markdown",
      "source": "### Data Pre-Processing\n### Feature Engineering"
    },
    {
      "metadata": {},
      "cell_type": "markdown",
      "source": "### Model Training - XGBoost, Neural Network, Lasso"
    },
    {
      "metadata": {
        "trusted": true,
        "scrolled": true
      },
      "cell_type": "code",
      "source": "# data.iloc[10682:10683,:]\n# data.iloc[10682:10683,:]\n\ntrain = data.iloc[0:10683,:]\ntrain.tail()",
      "execution_count": 57,
      "outputs": [
        {
          "output_type": "execute_result",
          "execution_count": 57,
          "data": {
            "text/html": "<div>\n<style scoped>\n    .dataframe tbody tr th:only-of-type {\n        vertical-align: middle;\n    }\n\n    .dataframe tbody tr th {\n        vertical-align: top;\n    }\n\n    .dataframe thead th {\n        text-align: right;\n    }\n</style>\n<table border=\"1\" class=\"dataframe\">\n  <thead>\n    <tr style=\"text-align: right;\">\n      <th></th>\n      <th>Additional_Info</th>\n      <th>Airline</th>\n      <th>Destination</th>\n      <th>Price</th>\n      <th>Route</th>\n      <th>Source</th>\n      <th>Total_Stops</th>\n      <th>Journey_Day</th>\n      <th>Journey_Month</th>\n      <th>Duration_hours</th>\n      <th>Duration_minutes</th>\n      <th>Depart_Time_Hour</th>\n      <th>Depart_Time_Minutes</th>\n      <th>Arr_Time_Hour</th>\n      <th>Arr_Time_Minutes</th>\n    </tr>\n  </thead>\n  <tbody>\n    <tr>\n      <th>10678</th>\n      <td>8</td>\n      <td>0</td>\n      <td>0</td>\n      <td>4107.0</td>\n      <td>67</td>\n      <td>3</td>\n      <td>4</td>\n      <td>9</td>\n      <td>4</td>\n      <td>2</td>\n      <td>30</td>\n      <td>19</td>\n      <td>55</td>\n      <td>22</td>\n      <td>25</td>\n    </tr>\n    <tr>\n      <th>10679</th>\n      <td>8</td>\n      <td>1</td>\n      <td>0</td>\n      <td>4145.0</td>\n      <td>67</td>\n      <td>3</td>\n      <td>4</td>\n      <td>27</td>\n      <td>4</td>\n      <td>2</td>\n      <td>35</td>\n      <td>20</td>\n      <td>45</td>\n      <td>23</td>\n      <td>20</td>\n    </tr>\n    <tr>\n      <th>10680</th>\n      <td>8</td>\n      <td>4</td>\n      <td>2</td>\n      <td>7229.0</td>\n      <td>18</td>\n      <td>0</td>\n      <td>4</td>\n      <td>27</td>\n      <td>4</td>\n      <td>3</td>\n      <td>0</td>\n      <td>8</td>\n      <td>20</td>\n      <td>11</td>\n      <td>20</td>\n    </tr>\n    <tr>\n      <th>10681</th>\n      <td>8</td>\n      <td>10</td>\n      <td>5</td>\n      <td>12648.0</td>\n      <td>18</td>\n      <td>0</td>\n      <td>4</td>\n      <td>1</td>\n      <td>3</td>\n      <td>2</td>\n      <td>40</td>\n      <td>11</td>\n      <td>30</td>\n      <td>14</td>\n      <td>10</td>\n    </tr>\n    <tr>\n      <th>10682</th>\n      <td>8</td>\n      <td>1</td>\n      <td>1</td>\n      <td>11753.0</td>\n      <td>112</td>\n      <td>2</td>\n      <td>1</td>\n      <td>9</td>\n      <td>5</td>\n      <td>8</td>\n      <td>20</td>\n      <td>10</td>\n      <td>55</td>\n      <td>19</td>\n      <td>15</td>\n    </tr>\n  </tbody>\n</table>\n</div>",
            "text/plain": "       Additional_Info  Airline  Destination    Price  Route  Source  \\\n10678                8        0            0   4107.0     67       3   \n10679                8        1            0   4145.0     67       3   \n10680                8        4            2   7229.0     18       0   \n10681                8       10            5  12648.0     18       0   \n10682                8        1            1  11753.0    112       2   \n\n       Total_Stops  Journey_Day  Journey_Month  Duration_hours  \\\n10678            4            9              4               2   \n10679            4           27              4               2   \n10680            4           27              4               3   \n10681            4            1              3               2   \n10682            1            9              5               8   \n\n       Duration_minutes  Depart_Time_Hour  Depart_Time_Minutes  Arr_Time_Hour  \\\n10678                30                19                   55             22   \n10679                35                20                   45             23   \n10680                 0                 8                   20             11   \n10681                40                11                   30             14   \n10682                20                10                   55             19   \n\n       Arr_Time_Minutes  \n10678                25  \n10679                20  \n10680                20  \n10681                10  \n10682                15  "
          },
          "metadata": {}
        }
      ]
    },
    {
      "metadata": {
        "trusted": true
      },
      "cell_type": "code",
      "source": "test = data.iloc[10684:,:]\ntest.head()",
      "execution_count": 65,
      "outputs": [
        {
          "output_type": "execute_result",
          "execution_count": 65,
          "data": {
            "text/html": "<div>\n<style scoped>\n    .dataframe tbody tr th:only-of-type {\n        vertical-align: middle;\n    }\n\n    .dataframe tbody tr th {\n        vertical-align: top;\n    }\n\n    .dataframe thead th {\n        text-align: right;\n    }\n</style>\n<table border=\"1\" class=\"dataframe\">\n  <thead>\n    <tr style=\"text-align: right;\">\n      <th></th>\n      <th>Additional_Info</th>\n      <th>Airline</th>\n      <th>Destination</th>\n      <th>Price</th>\n      <th>Route</th>\n      <th>Source</th>\n      <th>Total_Stops</th>\n      <th>Journey_Day</th>\n      <th>Journey_Month</th>\n      <th>Duration_hours</th>\n      <th>Duration_minutes</th>\n      <th>Depart_Time_Hour</th>\n      <th>Depart_Time_Minutes</th>\n      <th>Arr_Time_Hour</th>\n      <th>Arr_Time_Minutes</th>\n    </tr>\n  </thead>\n  <tbody>\n    <tr>\n      <th>1</th>\n      <td>8</td>\n      <td>3</td>\n      <td>0</td>\n      <td>8372.0</td>\n      <td>94</td>\n      <td>3</td>\n      <td>0</td>\n      <td>12</td>\n      <td>5</td>\n      <td>4</td>\n      <td>0</td>\n      <td>6</td>\n      <td>20</td>\n      <td>10</td>\n      <td>20</td>\n    </tr>\n    <tr>\n      <th>2</th>\n      <td>5</td>\n      <td>4</td>\n      <td>1</td>\n      <td>8372.0</td>\n      <td>108</td>\n      <td>2</td>\n      <td>0</td>\n      <td>21</td>\n      <td>5</td>\n      <td>23</td>\n      <td>45</td>\n      <td>19</td>\n      <td>15</td>\n      <td>19</td>\n      <td>0</td>\n    </tr>\n    <tr>\n      <th>3</th>\n      <td>8</td>\n      <td>6</td>\n      <td>1</td>\n      <td>8372.0</td>\n      <td>108</td>\n      <td>2</td>\n      <td>0</td>\n      <td>21</td>\n      <td>5</td>\n      <td>13</td>\n      <td>0</td>\n      <td>8</td>\n      <td>0</td>\n      <td>21</td>\n      <td>0</td>\n    </tr>\n    <tr>\n      <th>4</th>\n      <td>8</td>\n      <td>0</td>\n      <td>2</td>\n      <td>8372.0</td>\n      <td>18</td>\n      <td>0</td>\n      <td>4</td>\n      <td>24</td>\n      <td>6</td>\n      <td>2</td>\n      <td>50</td>\n      <td>23</td>\n      <td>55</td>\n      <td>2</td>\n      <td>45</td>\n    </tr>\n    <tr>\n      <th>5</th>\n      <td>5</td>\n      <td>4</td>\n      <td>1</td>\n      <td>8372.0</td>\n      <td>108</td>\n      <td>2</td>\n      <td>0</td>\n      <td>12</td>\n      <td>6</td>\n      <td>18</td>\n      <td>20</td>\n      <td>18</td>\n      <td>15</td>\n      <td>12</td>\n      <td>35</td>\n    </tr>\n  </tbody>\n</table>\n</div>",
            "text/plain": "   Additional_Info  Airline  Destination   Price  Route  Source  Total_Stops  \\\n1                8        3            0  8372.0     94       3            0   \n2                5        4            1  8372.0    108       2            0   \n3                8        6            1  8372.0    108       2            0   \n4                8        0            2  8372.0     18       0            4   \n5                5        4            1  8372.0    108       2            0   \n\n   Journey_Day  Journey_Month  Duration_hours  Duration_minutes  \\\n1           12              5               4                 0   \n2           21              5              23                45   \n3           21              5              13                 0   \n4           24              6               2                50   \n5           12              6              18                20   \n\n   Depart_Time_Hour  Depart_Time_Minutes  Arr_Time_Hour  Arr_Time_Minutes  \n1                 6                   20             10                20  \n2                19                   15             19                 0  \n3                 8                    0             21                 0  \n4                23                   55              2                45  \n5                18                   15             12                35  "
          },
          "metadata": {}
        }
      ]
    },
    {
      "metadata": {},
      "cell_type": "markdown",
      "source": "### Model Evaluation"
    },
    {
      "metadata": {
        "trusted": true
      },
      "cell_type": "code",
      "source": "",
      "execution_count": null,
      "outputs": []
    }
  ],
  "metadata": {
    "kernelspec": {
      "name": "python36",
      "display_name": "Python 3.6",
      "language": "python"
    },
    "language_info": {
      "mimetype": "text/x-python",
      "nbconvert_exporter": "python",
      "name": "python",
      "pygments_lexer": "ipython3",
      "version": "3.6.6",
      "file_extension": ".py",
      "codemirror_mode": {
        "version": 3,
        "name": "ipython"
      }
    },
    "toc": {
      "nav_menu": {},
      "number_sections": true,
      "sideBar": true,
      "skip_h1_title": false,
      "base_numbering": 1,
      "title_cell": "Table of Contents",
      "title_sidebar": "Contents",
      "toc_cell": false,
      "toc_position": {},
      "toc_section_display": true,
      "toc_window_display": false
    }
  },
  "nbformat": 4,
  "nbformat_minor": 2
}