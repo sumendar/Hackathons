{
  "cells": [
    {
      "metadata": {},
      "cell_type": "markdown",
      "source": "### Problem Understanding \n"
    },
    {
      "metadata": {},
      "cell_type": "markdown",
      "source": "### load packages"
    },
    {
      "metadata": {
        "trusted": true
      },
      "cell_type": "code",
      "source": "#Loading libraries \nimport warnings\nimport numpy as np \nimport pandas as pd\nimport matplotlib.pyplot as plt\n%matplotlib inline\nplt.rcParams['figure.figsize'] = (10.0, 8.0)\nimport seaborn as sns\nwarnings.filterwarnings('ignore')",
      "execution_count": 1,
      "outputs": []
    },
    {
      "metadata": {
        "trusted": true
      },
      "cell_type": "code",
      "source": "sns.set_style('whitegrid')\nfrom sklearn.svm import SVR\nfrom sklearn.metrics import mean_squared_error, r2_score",
      "execution_count": 2,
      "outputs": []
    },
    {
      "metadata": {},
      "cell_type": "markdown",
      "source": "### Get Data"
    },
    {
      "metadata": {
        "trusted": true
      },
      "cell_type": "code",
      "source": "#make a copy of original data\ntrainOriginal = pd.read_excel('data/Data_Train.xlsx')\ntestOriginal = pd.read_excel('data/Test_set.xlsx')",
      "execution_count": 3,
      "outputs": []
    },
    {
      "metadata": {
        "trusted": true
      },
      "cell_type": "code",
      "source": "#loading data\ntrain = pd.read_excel('data/Data_Train.xlsx')\ntest = pd.read_excel('data/Test_set.xlsx')",
      "execution_count": 4,
      "outputs": []
    },
    {
      "metadata": {
        "trusted": true,
        "scrolled": true
      },
      "cell_type": "code",
      "source": "train.head()",
      "execution_count": 5,
      "outputs": [
        {
          "output_type": "execute_result",
          "execution_count": 5,
          "data": {
            "text/html": "<div>\n<style scoped>\n    .dataframe tbody tr th:only-of-type {\n        vertical-align: middle;\n    }\n\n    .dataframe tbody tr th {\n        vertical-align: top;\n    }\n\n    .dataframe thead th {\n        text-align: right;\n    }\n</style>\n<table border=\"1\" class=\"dataframe\">\n  <thead>\n    <tr style=\"text-align: right;\">\n      <th></th>\n      <th>Airline</th>\n      <th>Date_of_Journey</th>\n      <th>Source</th>\n      <th>Destination</th>\n      <th>Route</th>\n      <th>Dep_Time</th>\n      <th>Arrival_Time</th>\n      <th>Duration</th>\n      <th>Total_Stops</th>\n      <th>Additional_Info</th>\n      <th>Price</th>\n    </tr>\n  </thead>\n  <tbody>\n    <tr>\n      <th>0</th>\n      <td>IndiGo</td>\n      <td>24/03/2019</td>\n      <td>Banglore</td>\n      <td>New Delhi</td>\n      <td>BLR → DEL</td>\n      <td>22:20</td>\n      <td>01:10 22 Mar</td>\n      <td>2h 50m</td>\n      <td>non-stop</td>\n      <td>No info</td>\n      <td>3897</td>\n    </tr>\n    <tr>\n      <th>1</th>\n      <td>Air India</td>\n      <td>1/05/2019</td>\n      <td>Kolkata</td>\n      <td>Banglore</td>\n      <td>CCU → IXR → BBI → BLR</td>\n      <td>05:50</td>\n      <td>13:15</td>\n      <td>7h 25m</td>\n      <td>2 stops</td>\n      <td>No info</td>\n      <td>7662</td>\n    </tr>\n    <tr>\n      <th>2</th>\n      <td>Jet Airways</td>\n      <td>9/06/2019</td>\n      <td>Delhi</td>\n      <td>Cochin</td>\n      <td>DEL → LKO → BOM → COK</td>\n      <td>09:25</td>\n      <td>04:25 10 Jun</td>\n      <td>19h</td>\n      <td>2 stops</td>\n      <td>No info</td>\n      <td>13882</td>\n    </tr>\n    <tr>\n      <th>3</th>\n      <td>IndiGo</td>\n      <td>12/05/2019</td>\n      <td>Kolkata</td>\n      <td>Banglore</td>\n      <td>CCU → NAG → BLR</td>\n      <td>18:05</td>\n      <td>23:30</td>\n      <td>5h 25m</td>\n      <td>1 stop</td>\n      <td>No info</td>\n      <td>6218</td>\n    </tr>\n    <tr>\n      <th>4</th>\n      <td>IndiGo</td>\n      <td>01/03/2019</td>\n      <td>Banglore</td>\n      <td>New Delhi</td>\n      <td>BLR → NAG → DEL</td>\n      <td>16:50</td>\n      <td>21:35</td>\n      <td>4h 45m</td>\n      <td>1 stop</td>\n      <td>No info</td>\n      <td>13302</td>\n    </tr>\n  </tbody>\n</table>\n</div>",
            "text/plain": "       Airline Date_of_Journey    Source Destination                  Route  \\\n0       IndiGo      24/03/2019  Banglore   New Delhi              BLR → DEL   \n1    Air India       1/05/2019   Kolkata    Banglore  CCU → IXR → BBI → BLR   \n2  Jet Airways       9/06/2019     Delhi      Cochin  DEL → LKO → BOM → COK   \n3       IndiGo      12/05/2019   Kolkata    Banglore        CCU → NAG → BLR   \n4       IndiGo      01/03/2019  Banglore   New Delhi        BLR → NAG → DEL   \n\n  Dep_Time  Arrival_Time Duration Total_Stops Additional_Info  Price  \n0    22:20  01:10 22 Mar   2h 50m    non-stop         No info   3897  \n1    05:50         13:15   7h 25m     2 stops         No info   7662  \n2    09:25  04:25 10 Jun      19h     2 stops         No info  13882  \n3    18:05         23:30   5h 25m      1 stop         No info   6218  \n4    16:50         21:35   4h 45m      1 stop         No info  13302  "
          },
          "metadata": {}
        }
      ]
    },
    {
      "metadata": {
        "trusted": true
      },
      "cell_type": "code",
      "source": "test.head()",
      "execution_count": 6,
      "outputs": [
        {
          "output_type": "execute_result",
          "execution_count": 6,
          "data": {
            "text/html": "<div>\n<style scoped>\n    .dataframe tbody tr th:only-of-type {\n        vertical-align: middle;\n    }\n\n    .dataframe tbody tr th {\n        vertical-align: top;\n    }\n\n    .dataframe thead th {\n        text-align: right;\n    }\n</style>\n<table border=\"1\" class=\"dataframe\">\n  <thead>\n    <tr style=\"text-align: right;\">\n      <th></th>\n      <th>Airline</th>\n      <th>Date_of_Journey</th>\n      <th>Source</th>\n      <th>Destination</th>\n      <th>Route</th>\n      <th>Dep_Time</th>\n      <th>Arrival_Time</th>\n      <th>Duration</th>\n      <th>Total_Stops</th>\n      <th>Additional_Info</th>\n    </tr>\n  </thead>\n  <tbody>\n    <tr>\n      <th>0</th>\n      <td>Jet Airways</td>\n      <td>6/06/2019</td>\n      <td>Delhi</td>\n      <td>Cochin</td>\n      <td>DEL → BOM → COK</td>\n      <td>17:30</td>\n      <td>04:25 07 Jun</td>\n      <td>10h 55m</td>\n      <td>1 stop</td>\n      <td>No info</td>\n    </tr>\n    <tr>\n      <th>1</th>\n      <td>IndiGo</td>\n      <td>12/05/2019</td>\n      <td>Kolkata</td>\n      <td>Banglore</td>\n      <td>CCU → MAA → BLR</td>\n      <td>06:20</td>\n      <td>10:20</td>\n      <td>4h</td>\n      <td>1 stop</td>\n      <td>No info</td>\n    </tr>\n    <tr>\n      <th>2</th>\n      <td>Jet Airways</td>\n      <td>21/05/2019</td>\n      <td>Delhi</td>\n      <td>Cochin</td>\n      <td>DEL → BOM → COK</td>\n      <td>19:15</td>\n      <td>19:00 22 May</td>\n      <td>23h 45m</td>\n      <td>1 stop</td>\n      <td>In-flight meal not included</td>\n    </tr>\n    <tr>\n      <th>3</th>\n      <td>Multiple carriers</td>\n      <td>21/05/2019</td>\n      <td>Delhi</td>\n      <td>Cochin</td>\n      <td>DEL → BOM → COK</td>\n      <td>08:00</td>\n      <td>21:00</td>\n      <td>13h</td>\n      <td>1 stop</td>\n      <td>No info</td>\n    </tr>\n    <tr>\n      <th>4</th>\n      <td>Air Asia</td>\n      <td>24/06/2019</td>\n      <td>Banglore</td>\n      <td>Delhi</td>\n      <td>BLR → DEL</td>\n      <td>23:55</td>\n      <td>02:45 25 Jun</td>\n      <td>2h 50m</td>\n      <td>non-stop</td>\n      <td>No info</td>\n    </tr>\n  </tbody>\n</table>\n</div>",
            "text/plain": "             Airline Date_of_Journey    Source Destination            Route  \\\n0        Jet Airways       6/06/2019     Delhi      Cochin  DEL → BOM → COK   \n1             IndiGo      12/05/2019   Kolkata    Banglore  CCU → MAA → BLR   \n2        Jet Airways      21/05/2019     Delhi      Cochin  DEL → BOM → COK   \n3  Multiple carriers      21/05/2019     Delhi      Cochin  DEL → BOM → COK   \n4           Air Asia      24/06/2019  Banglore       Delhi        BLR → DEL   \n\n  Dep_Time  Arrival_Time Duration Total_Stops              Additional_Info  \n0    17:30  04:25 07 Jun  10h 55m      1 stop                      No info  \n1    06:20         10:20       4h      1 stop                      No info  \n2    19:15  19:00 22 May  23h 45m      1 stop  In-flight meal not included  \n3    08:00         21:00      13h      1 stop                      No info  \n4    23:55  02:45 25 Jun   2h 50m    non-stop                      No info  "
          },
          "metadata": {}
        }
      ]
    },
    {
      "metadata": {},
      "cell_type": "markdown",
      "source": "###  Data Understanding"
    },
    {
      "metadata": {},
      "cell_type": "markdown",
      "source": "| Column          | Details                                                 |\n|-----------------|---------------------------------------------------------|\n| Airline         | The name of the airline                                 |\n| Date_of_Journey | The date of the journey                                 |\n| Source          | The source from which the service begins.               |\n| Destination     | The destination where the service ends.                 |\n| Route           | The route taken by the flight to reach the destination. |\n| Dep_Time        | The time when the journey starts from the source.       |\n| Arrival_Time    | Time of arrival at the destination.                     |\n| Duration        | Total duration of the flight.                           |\n| Total_Stops     | Total stops between the source and destination.         |\n| Additional_Info | Additional information about the flight.                |\n| Price           | The price of the ticket.                                |"
    },
    {
      "metadata": {},
      "cell_type": "markdown",
      "source": "### Inspect Data"
    },
    {
      "metadata": {
        "trusted": true,
        "run_control": {
          "marked": false
        }
      },
      "cell_type": "code",
      "source": "#check rows and columns\nprint ('The train data has {0} rows and {1} columns'.format(train.shape[0],train.shape[1]))\nprint ('----------------------------')\nprint ('The test data has {0} rows and {1} columns'.format(test.shape[0],test.shape[1]))",
      "execution_count": 7,
      "outputs": [
        {
          "output_type": "stream",
          "text": "The train data has 10683 rows and 11 columns\n----------------------------\nThe test data has 2671 rows and 10 columns\n",
          "name": "stdout"
        }
      ]
    },
    {
      "metadata": {},
      "cell_type": "markdown",
      "source": "### Data Exploration"
    },
    {
      "metadata": {},
      "cell_type": "markdown",
      "source": "### Data Pre-Processing"
    },
    {
      "metadata": {},
      "cell_type": "markdown",
      "source": "#### Missing values"
    },
    {
      "metadata": {
        "trusted": true
      },
      "cell_type": "code",
      "source": "# Let's check if the train set has any missing values.\ntrain.columns[train.isnull().any()]",
      "execution_count": 8,
      "outputs": [
        {
          "output_type": "execute_result",
          "execution_count": 8,
          "data": {
            "text/plain": "Index(['Route', 'Total_Stops'], dtype='object')"
          },
          "metadata": {}
        }
      ]
    },
    {
      "metadata": {
        "trusted": true
      },
      "cell_type": "code",
      "source": "# Let's check if the test set has any missing values.\ntest.columns[test.isnull().any()]",
      "execution_count": 9,
      "outputs": [
        {
          "output_type": "execute_result",
          "execution_count": 9,
          "data": {
            "text/plain": "Index([], dtype='object')"
          },
          "metadata": {}
        }
      ]
    },
    {
      "metadata": {
        "trusted": true,
        "scrolled": false
      },
      "cell_type": "code",
      "source": "#missing value counts in train set\nmiss = train.isnull().sum()/len(train)\nmiss = miss[miss > 0]\nmiss.sort_values(inplace=True)\nmiss",
      "execution_count": 10,
      "outputs": [
        {
          "output_type": "execute_result",
          "execution_count": 10,
          "data": {
            "text/plain": "Route          0.000094\nTotal_Stops    0.000094\ndtype: float64"
          },
          "metadata": {}
        }
      ]
    },
    {
      "metadata": {
        "run_control": {
          "marked": false
        },
        "trusted": true
      },
      "cell_type": "code",
      "source": "#missing value imputation in train set\ntrain['Route'].fillna(train['Route'].mode()[0], inplace=True) \ntrain['Total_Stops'].fillna(train['Total_Stops'].mode()[0], inplace=True) ",
      "execution_count": 11,
      "outputs": []
    },
    {
      "metadata": {
        "trusted": true,
        "scrolled": true
      },
      "cell_type": "code",
      "source": "#check missing values in train set again\ntrain.columns[train.isnull().any()]",
      "execution_count": 12,
      "outputs": [
        {
          "output_type": "execute_result",
          "execution_count": 12,
          "data": {
            "text/plain": "Index([], dtype='object')"
          },
          "metadata": {}
        }
      ]
    },
    {
      "metadata": {},
      "cell_type": "markdown",
      "source": "#### Outliers"
    },
    {
      "metadata": {
        "trusted": true
      },
      "cell_type": "code",
      "source": "train.plot(kind='box')",
      "execution_count": 13,
      "outputs": [
        {
          "output_type": "execute_result",
          "execution_count": 13,
          "data": {
            "text/plain": "<matplotlib.axes._subplots.AxesSubplot at 0x7f754a8a4940>"
          },
          "metadata": {}
        },
        {
          "output_type": "display_data",
          "data": {
            "image/png": "[encoded data removed]",
            "text/plain": "<Figure size 432x288 with 1 Axes>"
          },
          "metadata": {}
        }
      ]
    },
    {
      "metadata": {},
      "cell_type": "markdown",
      "source": "### Feature Engineering"
    },
    {
      "metadata": {},
      "cell_type": "markdown",
      "source": "### Handling Date and Time Variables"
    },
    {
      "metadata": {
        "trusted": true
      },
      "cell_type": "code",
      "source": "#Cleaning Journey Date \n\n#Training Set\n\ntrain['Journey_Day'] = pd.to_datetime(train.Date_of_Journey, format='%d/%m/%Y').dt.day\n\ntrain['Journey_Month'] = pd.to_datetime(train.Date_of_Journey, format='%d/%m/%Y').dt.month\n\n# Compare the dates and delete the original date feature\n\ntrain.drop(labels = 'Date_of_Journey', axis = 1, inplace = True)\ntrain.head()",
      "execution_count": 14,
      "outputs": [
        {
          "output_type": "execute_result",
          "execution_count": 14,
          "data": {
            "text/html": "<div>\n<style scoped>\n    .dataframe tbody tr th:only-of-type {\n        vertical-align: middle;\n    }\n\n    .dataframe tbody tr th {\n        vertical-align: top;\n    }\n\n    .dataframe thead th {\n        text-align: right;\n    }\n</style>\n<table border=\"1\" class=\"dataframe\">\n  <thead>\n    <tr style=\"text-align: right;\">\n      <th></th>\n      <th>Airline</th>\n      <th>Source</th>\n      <th>Destination</th>\n      <th>Route</th>\n      <th>Dep_Time</th>\n      <th>Arrival_Time</th>\n      <th>Duration</th>\n      <th>Total_Stops</th>\n      <th>Additional_Info</th>\n      <th>Price</th>\n      <th>Journey_Day</th>\n      <th>Journey_Month</th>\n    </tr>\n  </thead>\n  <tbody>\n    <tr>\n      <th>0</th>\n      <td>IndiGo</td>\n      <td>Banglore</td>\n      <td>New Delhi</td>\n      <td>BLR → DEL</td>\n      <td>22:20</td>\n      <td>01:10 22 Mar</td>\n      <td>2h 50m</td>\n      <td>non-stop</td>\n      <td>No info</td>\n      <td>3897</td>\n      <td>24</td>\n      <td>3</td>\n    </tr>\n    <tr>\n      <th>1</th>\n      <td>Air India</td>\n      <td>Kolkata</td>\n      <td>Banglore</td>\n      <td>CCU → IXR → BBI → BLR</td>\n      <td>05:50</td>\n      <td>13:15</td>\n      <td>7h 25m</td>\n      <td>2 stops</td>\n      <td>No info</td>\n      <td>7662</td>\n      <td>1</td>\n      <td>5</td>\n    </tr>\n    <tr>\n      <th>2</th>\n      <td>Jet Airways</td>\n      <td>Delhi</td>\n      <td>Cochin</td>\n      <td>DEL → LKO → BOM → COK</td>\n      <td>09:25</td>\n      <td>04:25 10 Jun</td>\n      <td>19h</td>\n      <td>2 stops</td>\n      <td>No info</td>\n      <td>13882</td>\n      <td>9</td>\n      <td>6</td>\n    </tr>\n    <tr>\n      <th>3</th>\n      <td>IndiGo</td>\n      <td>Kolkata</td>\n      <td>Banglore</td>\n      <td>CCU → NAG → BLR</td>\n      <td>18:05</td>\n      <td>23:30</td>\n      <td>5h 25m</td>\n      <td>1 stop</td>\n      <td>No info</td>\n      <td>6218</td>\n      <td>12</td>\n      <td>5</td>\n    </tr>\n    <tr>\n      <th>4</th>\n      <td>IndiGo</td>\n      <td>Banglore</td>\n      <td>New Delhi</td>\n      <td>BLR → NAG → DEL</td>\n      <td>16:50</td>\n      <td>21:35</td>\n      <td>4h 45m</td>\n      <td>1 stop</td>\n      <td>No info</td>\n      <td>13302</td>\n      <td>1</td>\n      <td>3</td>\n    </tr>\n  </tbody>\n</table>\n</div>",
            "text/plain": "       Airline    Source Destination                  Route Dep_Time  \\\n0       IndiGo  Banglore   New Delhi              BLR → DEL    22:20   \n1    Air India   Kolkata    Banglore  CCU → IXR → BBI → BLR    05:50   \n2  Jet Airways     Delhi      Cochin  DEL → LKO → BOM → COK    09:25   \n3       IndiGo   Kolkata    Banglore        CCU → NAG → BLR    18:05   \n4       IndiGo  Banglore   New Delhi        BLR → NAG → DEL    16:50   \n\n   Arrival_Time Duration Total_Stops Additional_Info  Price  Journey_Day  \\\n0  01:10 22 Mar   2h 50m    non-stop         No info   3897           24   \n1         13:15   7h 25m     2 stops         No info   7662            1   \n2  04:25 10 Jun      19h     2 stops         No info  13882            9   \n3         23:30   5h 25m      1 stop         No info   6218           12   \n4         21:35   4h 45m      1 stop         No info  13302            1   \n\n   Journey_Month  \n0              3  \n1              5  \n2              6  \n3              5  \n4              3  "
          },
          "metadata": {}
        }
      ]
    },
    {
      "metadata": {
        "trusted": true
      },
      "cell_type": "code",
      "source": "#Cleaning Journey Date \n\n#Testing Set\n\ntest['Journey_Day'] = pd.to_datetime(test.Date_of_Journey, format='%d/%m/%Y').dt.day\n\ntest['Journey_Month'] = pd.to_datetime(test.Date_of_Journey, format='%d/%m/%Y').dt.month\n\n# Compare the dates and delete the original date feature\n\ntest.drop(labels = 'Date_of_Journey', axis = 1, inplace = True)\ntest.head()",
      "execution_count": 15,
      "outputs": [
        {
          "output_type": "execute_result",
          "execution_count": 15,
          "data": {
            "text/html": "<div>\n<style scoped>\n    .dataframe tbody tr th:only-of-type {\n        vertical-align: middle;\n    }\n\n    .dataframe tbody tr th {\n        vertical-align: top;\n    }\n\n    .dataframe thead th {\n        text-align: right;\n    }\n</style>\n<table border=\"1\" class=\"dataframe\">\n  <thead>\n    <tr style=\"text-align: right;\">\n      <th></th>\n      <th>Airline</th>\n      <th>Source</th>\n      <th>Destination</th>\n      <th>Route</th>\n      <th>Dep_Time</th>\n      <th>Arrival_Time</th>\n      <th>Duration</th>\n      <th>Total_Stops</th>\n      <th>Additional_Info</th>\n      <th>Journey_Day</th>\n      <th>Journey_Month</th>\n    </tr>\n  </thead>\n  <tbody>\n    <tr>\n      <th>0</th>\n      <td>Jet Airways</td>\n      <td>Delhi</td>\n      <td>Cochin</td>\n      <td>DEL → BOM → COK</td>\n      <td>17:30</td>\n      <td>04:25 07 Jun</td>\n      <td>10h 55m</td>\n      <td>1 stop</td>\n      <td>No info</td>\n      <td>6</td>\n      <td>6</td>\n    </tr>\n    <tr>\n      <th>1</th>\n      <td>IndiGo</td>\n      <td>Kolkata</td>\n      <td>Banglore</td>\n      <td>CCU → MAA → BLR</td>\n      <td>06:20</td>\n      <td>10:20</td>\n      <td>4h</td>\n      <td>1 stop</td>\n      <td>No info</td>\n      <td>12</td>\n      <td>5</td>\n    </tr>\n    <tr>\n      <th>2</th>\n      <td>Jet Airways</td>\n      <td>Delhi</td>\n      <td>Cochin</td>\n      <td>DEL → BOM → COK</td>\n      <td>19:15</td>\n      <td>19:00 22 May</td>\n      <td>23h 45m</td>\n      <td>1 stop</td>\n      <td>In-flight meal not included</td>\n      <td>21</td>\n      <td>5</td>\n    </tr>\n    <tr>\n      <th>3</th>\n      <td>Multiple carriers</td>\n      <td>Delhi</td>\n      <td>Cochin</td>\n      <td>DEL → BOM → COK</td>\n      <td>08:00</td>\n      <td>21:00</td>\n      <td>13h</td>\n      <td>1 stop</td>\n      <td>No info</td>\n      <td>21</td>\n      <td>5</td>\n    </tr>\n    <tr>\n      <th>4</th>\n      <td>Air Asia</td>\n      <td>Banglore</td>\n      <td>Delhi</td>\n      <td>BLR → DEL</td>\n      <td>23:55</td>\n      <td>02:45 25 Jun</td>\n      <td>2h 50m</td>\n      <td>non-stop</td>\n      <td>No info</td>\n      <td>24</td>\n      <td>6</td>\n    </tr>\n  </tbody>\n</table>\n</div>",
            "text/plain": "             Airline    Source Destination            Route Dep_Time  \\\n0        Jet Airways     Delhi      Cochin  DEL → BOM → COK    17:30   \n1             IndiGo   Kolkata    Banglore  CCU → MAA → BLR    06:20   \n2        Jet Airways     Delhi      Cochin  DEL → BOM → COK    19:15   \n3  Multiple carriers     Delhi      Cochin  DEL → BOM → COK    08:00   \n4           Air Asia  Banglore       Delhi        BLR → DEL    23:55   \n\n   Arrival_Time Duration Total_Stops              Additional_Info  \\\n0  04:25 07 Jun  10h 55m      1 stop                      No info   \n1         10:20       4h      1 stop                      No info   \n2  19:00 22 May  23h 45m      1 stop  In-flight meal not included   \n3         21:00      13h      1 stop                      No info   \n4  02:45 25 Jun   2h 50m    non-stop                      No info   \n\n   Journey_Day  Journey_Month  \n0            6              6  \n1           12              5  \n2           21              5  \n3           21              5  \n4           24              6  "
          },
          "metadata": {}
        }
      ]
    },
    {
      "metadata": {
        "trusted": true,
        "scrolled": true
      },
      "cell_type": "code",
      "source": "# Cleaning Duration\n\n# Training Set\n\nduration = list(train['Duration'])\n\nfor i in range(len(duration)) :\n    if len(duration[i].split()) != 2:\n        if 'h' in duration[i] :\n            duration[i] = duration[i].strip() + ' 0m'\n        elif 'm' in duration[i] :\n            duration[i] = '0h {}'.format(duration[i].strip())\n\ndur_hours = []\ndur_minutes = []  \n\nfor i in range(len(duration)) :\n    dur_hours.append(int(duration[i].split()[0][:-1]))\n    dur_minutes.append(int(duration[i].split()[1][:-1]))\n    \ntrain['Duration_hours'] = dur_hours\ntrain['Duration_minutes'] =dur_minutes\n\ntrain.drop(labels = 'Duration', axis = 1, inplace = True)\n\ntrain.head()",
      "execution_count": 16,
      "outputs": [
        {
          "output_type": "execute_result",
          "execution_count": 16,
          "data": {
            "text/html": "<div>\n<style scoped>\n    .dataframe tbody tr th:only-of-type {\n        vertical-align: middle;\n    }\n\n    .dataframe tbody tr th {\n        vertical-align: top;\n    }\n\n    .dataframe thead th {\n        text-align: right;\n    }\n</style>\n<table border=\"1\" class=\"dataframe\">\n  <thead>\n    <tr style=\"text-align: right;\">\n      <th></th>\n      <th>Airline</th>\n      <th>Source</th>\n      <th>Destination</th>\n      <th>Route</th>\n      <th>Dep_Time</th>\n      <th>Arrival_Time</th>\n      <th>Total_Stops</th>\n      <th>Additional_Info</th>\n      <th>Price</th>\n      <th>Journey_Day</th>\n      <th>Journey_Month</th>\n      <th>Duration_hours</th>\n      <th>Duration_minutes</th>\n    </tr>\n  </thead>\n  <tbody>\n    <tr>\n      <th>0</th>\n      <td>IndiGo</td>\n      <td>Banglore</td>\n      <td>New Delhi</td>\n      <td>BLR → DEL</td>\n      <td>22:20</td>\n      <td>01:10 22 Mar</td>\n      <td>non-stop</td>\n      <td>No info</td>\n      <td>3897</td>\n      <td>24</td>\n      <td>3</td>\n      <td>2</td>\n      <td>50</td>\n    </tr>\n    <tr>\n      <th>1</th>\n      <td>Air India</td>\n      <td>Kolkata</td>\n      <td>Banglore</td>\n      <td>CCU → IXR → BBI → BLR</td>\n      <td>05:50</td>\n      <td>13:15</td>\n      <td>2 stops</td>\n      <td>No info</td>\n      <td>7662</td>\n      <td>1</td>\n      <td>5</td>\n      <td>7</td>\n      <td>25</td>\n    </tr>\n    <tr>\n      <th>2</th>\n      <td>Jet Airways</td>\n      <td>Delhi</td>\n      <td>Cochin</td>\n      <td>DEL → LKO → BOM → COK</td>\n      <td>09:25</td>\n      <td>04:25 10 Jun</td>\n      <td>2 stops</td>\n      <td>No info</td>\n      <td>13882</td>\n      <td>9</td>\n      <td>6</td>\n      <td>19</td>\n      <td>0</td>\n    </tr>\n    <tr>\n      <th>3</th>\n      <td>IndiGo</td>\n      <td>Kolkata</td>\n      <td>Banglore</td>\n      <td>CCU → NAG → BLR</td>\n      <td>18:05</td>\n      <td>23:30</td>\n      <td>1 stop</td>\n      <td>No info</td>\n      <td>6218</td>\n      <td>12</td>\n      <td>5</td>\n      <td>5</td>\n      <td>25</td>\n    </tr>\n    <tr>\n      <th>4</th>\n      <td>IndiGo</td>\n      <td>Banglore</td>\n      <td>New Delhi</td>\n      <td>BLR → NAG → DEL</td>\n      <td>16:50</td>\n      <td>21:35</td>\n      <td>1 stop</td>\n      <td>No info</td>\n      <td>13302</td>\n      <td>1</td>\n      <td>3</td>\n      <td>4</td>\n      <td>45</td>\n    </tr>\n  </tbody>\n</table>\n</div>",
            "text/plain": "       Airline    Source Destination                  Route Dep_Time  \\\n0       IndiGo  Banglore   New Delhi              BLR → DEL    22:20   \n1    Air India   Kolkata    Banglore  CCU → IXR → BBI → BLR    05:50   \n2  Jet Airways     Delhi      Cochin  DEL → LKO → BOM → COK    09:25   \n3       IndiGo   Kolkata    Banglore        CCU → NAG → BLR    18:05   \n4       IndiGo  Banglore   New Delhi        BLR → NAG → DEL    16:50   \n\n   Arrival_Time Total_Stops Additional_Info  Price  Journey_Day  \\\n0  01:10 22 Mar    non-stop         No info   3897           24   \n1         13:15     2 stops         No info   7662            1   \n2  04:25 10 Jun     2 stops         No info  13882            9   \n3         23:30      1 stop         No info   6218           12   \n4         21:35      1 stop         No info  13302            1   \n\n   Journey_Month  Duration_hours  Duration_minutes  \n0              3               2                50  \n1              5               7                25  \n2              6              19                 0  \n3              5               5                25  \n4              3               4                45  "
          },
          "metadata": {}
        }
      ]
    },
    {
      "metadata": {
        "trusted": true
      },
      "cell_type": "code",
      "source": "# Cleaning Duration\n\n# Testing Set\n\nduration = list(test['Duration'])\n\nfor i in range(len(duration)) :\n    if len(duration[i].split()) != 2:\n        if 'h' in duration[i] :\n            duration[i] = duration[i].strip() + ' 0m'\n        elif 'm' in duration[i] :\n            duration[i] = '0h {}'.format(duration[i].strip())\n\ndur_hours = []\ndur_minutes = []  \n\nfor i in range(len(duration)) :\n    dur_hours.append(int(duration[i].split()[0][:-1]))\n    dur_minutes.append(int(duration[i].split()[1][:-1]))\n    \ntest['Duration_hours'] = dur_hours\ntest['Duration_minutes'] =dur_minutes\n\ntest.drop(labels = 'Duration', axis = 1, inplace = True)\n\ntest.head()",
      "execution_count": 17,
      "outputs": [
        {
          "output_type": "execute_result",
          "execution_count": 17,
          "data": {
            "text/html": "<div>\n<style scoped>\n    .dataframe tbody tr th:only-of-type {\n        vertical-align: middle;\n    }\n\n    .dataframe tbody tr th {\n        vertical-align: top;\n    }\n\n    .dataframe thead th {\n        text-align: right;\n    }\n</style>\n<table border=\"1\" class=\"dataframe\">\n  <thead>\n    <tr style=\"text-align: right;\">\n      <th></th>\n      <th>Airline</th>\n      <th>Source</th>\n      <th>Destination</th>\n      <th>Route</th>\n      <th>Dep_Time</th>\n      <th>Arrival_Time</th>\n      <th>Total_Stops</th>\n      <th>Additional_Info</th>\n      <th>Journey_Day</th>\n      <th>Journey_Month</th>\n      <th>Duration_hours</th>\n      <th>Duration_minutes</th>\n    </tr>\n  </thead>\n  <tbody>\n    <tr>\n      <th>0</th>\n      <td>Jet Airways</td>\n      <td>Delhi</td>\n      <td>Cochin</td>\n      <td>DEL → BOM → COK</td>\n      <td>17:30</td>\n      <td>04:25 07 Jun</td>\n      <td>1 stop</td>\n      <td>No info</td>\n      <td>6</td>\n      <td>6</td>\n      <td>10</td>\n      <td>55</td>\n    </tr>\n    <tr>\n      <th>1</th>\n      <td>IndiGo</td>\n      <td>Kolkata</td>\n      <td>Banglore</td>\n      <td>CCU → MAA → BLR</td>\n      <td>06:20</td>\n      <td>10:20</td>\n      <td>1 stop</td>\n      <td>No info</td>\n      <td>12</td>\n      <td>5</td>\n      <td>4</td>\n      <td>0</td>\n    </tr>\n    <tr>\n      <th>2</th>\n      <td>Jet Airways</td>\n      <td>Delhi</td>\n      <td>Cochin</td>\n      <td>DEL → BOM → COK</td>\n      <td>19:15</td>\n      <td>19:00 22 May</td>\n      <td>1 stop</td>\n      <td>In-flight meal not included</td>\n      <td>21</td>\n      <td>5</td>\n      <td>23</td>\n      <td>45</td>\n    </tr>\n    <tr>\n      <th>3</th>\n      <td>Multiple carriers</td>\n      <td>Delhi</td>\n      <td>Cochin</td>\n      <td>DEL → BOM → COK</td>\n      <td>08:00</td>\n      <td>21:00</td>\n      <td>1 stop</td>\n      <td>No info</td>\n      <td>21</td>\n      <td>5</td>\n      <td>13</td>\n      <td>0</td>\n    </tr>\n    <tr>\n      <th>4</th>\n      <td>Air Asia</td>\n      <td>Banglore</td>\n      <td>Delhi</td>\n      <td>BLR → DEL</td>\n      <td>23:55</td>\n      <td>02:45 25 Jun</td>\n      <td>non-stop</td>\n      <td>No info</td>\n      <td>24</td>\n      <td>6</td>\n      <td>2</td>\n      <td>50</td>\n    </tr>\n  </tbody>\n</table>\n</div>",
            "text/plain": "             Airline    Source Destination            Route Dep_Time  \\\n0        Jet Airways     Delhi      Cochin  DEL → BOM → COK    17:30   \n1             IndiGo   Kolkata    Banglore  CCU → MAA → BLR    06:20   \n2        Jet Airways     Delhi      Cochin  DEL → BOM → COK    19:15   \n3  Multiple carriers     Delhi      Cochin  DEL → BOM → COK    08:00   \n4           Air Asia  Banglore       Delhi        BLR → DEL    23:55   \n\n   Arrival_Time Total_Stops              Additional_Info  Journey_Day  \\\n0  04:25 07 Jun      1 stop                      No info            6   \n1         10:20      1 stop                      No info           12   \n2  19:00 22 May      1 stop  In-flight meal not included           21   \n3         21:00      1 stop                      No info           21   \n4  02:45 25 Jun    non-stop                      No info           24   \n\n   Journey_Month  Duration_hours  Duration_minutes  \n0              6              10                55  \n1              5               4                 0  \n2              5              23                45  \n3              5              13                 0  \n4              6               2                50  "
          },
          "metadata": {}
        }
      ]
    },
    {
      "metadata": {
        "trusted": true,
        "scrolled": true
      },
      "cell_type": "code",
      "source": "#Cleaning Departure and Arrival Times\n\n# Training Set\n\ntrain['Depart_Time_Hour'] = pd.to_datetime(train.Dep_Time).dt.hour\ntrain['Depart_Time_Minutes'] = pd.to_datetime(train.Dep_Time).dt.minute\n\ntrain.drop(labels = 'Dep_Time', axis = 1, inplace = True)\ntrain.head()",
      "execution_count": 18,
      "outputs": [
        {
          "output_type": "execute_result",
          "execution_count": 18,
          "data": {
            "text/html": "<div>\n<style scoped>\n    .dataframe tbody tr th:only-of-type {\n        vertical-align: middle;\n    }\n\n    .dataframe tbody tr th {\n        vertical-align: top;\n    }\n\n    .dataframe thead th {\n        text-align: right;\n    }\n</style>\n<table border=\"1\" class=\"dataframe\">\n  <thead>\n    <tr style=\"text-align: right;\">\n      <th></th>\n      <th>Airline</th>\n      <th>Source</th>\n      <th>Destination</th>\n      <th>Route</th>\n      <th>Arrival_Time</th>\n      <th>Total_Stops</th>\n      <th>Additional_Info</th>\n      <th>Price</th>\n      <th>Journey_Day</th>\n      <th>Journey_Month</th>\n      <th>Duration_hours</th>\n      <th>Duration_minutes</th>\n      <th>Depart_Time_Hour</th>\n      <th>Depart_Time_Minutes</th>\n    </tr>\n  </thead>\n  <tbody>\n    <tr>\n      <th>0</th>\n      <td>IndiGo</td>\n      <td>Banglore</td>\n      <td>New Delhi</td>\n      <td>BLR → DEL</td>\n      <td>01:10 22 Mar</td>\n      <td>non-stop</td>\n      <td>No info</td>\n      <td>3897</td>\n      <td>24</td>\n      <td>3</td>\n      <td>2</td>\n      <td>50</td>\n      <td>22</td>\n      <td>20</td>\n    </tr>\n    <tr>\n      <th>1</th>\n      <td>Air India</td>\n      <td>Kolkata</td>\n      <td>Banglore</td>\n      <td>CCU → IXR → BBI → BLR</td>\n      <td>13:15</td>\n      <td>2 stops</td>\n      <td>No info</td>\n      <td>7662</td>\n      <td>1</td>\n      <td>5</td>\n      <td>7</td>\n      <td>25</td>\n      <td>5</td>\n      <td>50</td>\n    </tr>\n    <tr>\n      <th>2</th>\n      <td>Jet Airways</td>\n      <td>Delhi</td>\n      <td>Cochin</td>\n      <td>DEL → LKO → BOM → COK</td>\n      <td>04:25 10 Jun</td>\n      <td>2 stops</td>\n      <td>No info</td>\n      <td>13882</td>\n      <td>9</td>\n      <td>6</td>\n      <td>19</td>\n      <td>0</td>\n      <td>9</td>\n      <td>25</td>\n    </tr>\n    <tr>\n      <th>3</th>\n      <td>IndiGo</td>\n      <td>Kolkata</td>\n      <td>Banglore</td>\n      <td>CCU → NAG → BLR</td>\n      <td>23:30</td>\n      <td>1 stop</td>\n      <td>No info</td>\n      <td>6218</td>\n      <td>12</td>\n      <td>5</td>\n      <td>5</td>\n      <td>25</td>\n      <td>18</td>\n      <td>5</td>\n    </tr>\n    <tr>\n      <th>4</th>\n      <td>IndiGo</td>\n      <td>Banglore</td>\n      <td>New Delhi</td>\n      <td>BLR → NAG → DEL</td>\n      <td>21:35</td>\n      <td>1 stop</td>\n      <td>No info</td>\n      <td>13302</td>\n      <td>1</td>\n      <td>3</td>\n      <td>4</td>\n      <td>45</td>\n      <td>16</td>\n      <td>50</td>\n    </tr>\n  </tbody>\n</table>\n</div>",
            "text/plain": "       Airline    Source Destination                  Route  Arrival_Time  \\\n0       IndiGo  Banglore   New Delhi              BLR → DEL  01:10 22 Mar   \n1    Air India   Kolkata    Banglore  CCU → IXR → BBI → BLR         13:15   \n2  Jet Airways     Delhi      Cochin  DEL → LKO → BOM → COK  04:25 10 Jun   \n3       IndiGo   Kolkata    Banglore        CCU → NAG → BLR         23:30   \n4       IndiGo  Banglore   New Delhi        BLR → NAG → DEL         21:35   \n\n  Total_Stops Additional_Info  Price  Journey_Day  Journey_Month  \\\n0    non-stop         No info   3897           24              3   \n1     2 stops         No info   7662            1              5   \n2     2 stops         No info  13882            9              6   \n3      1 stop         No info   6218           12              5   \n4      1 stop         No info  13302            1              3   \n\n   Duration_hours  Duration_minutes  Depart_Time_Hour  Depart_Time_Minutes  \n0               2                50                22                   20  \n1               7                25                 5                   50  \n2              19                 0                 9                   25  \n3               5                25                18                    5  \n4               4                45                16                   50  "
          },
          "metadata": {}
        }
      ]
    },
    {
      "metadata": {
        "trusted": true
      },
      "cell_type": "code",
      "source": "#Cleaning Departure and Arrival Times\n\n# Test Set\n\ntest['Depart_Time_Hour'] = pd.to_datetime(test.Dep_Time).dt.hour\ntest['Depart_Time_Minutes'] = pd.to_datetime(test.Dep_Time).dt.minute\n\ntest.drop(labels = 'Dep_Time', axis = 1, inplace = True)\ntest.head()",
      "execution_count": 19,
      "outputs": [
        {
          "output_type": "execute_result",
          "execution_count": 19,
          "data": {
            "text/html": "<div>\n<style scoped>\n    .dataframe tbody tr th:only-of-type {\n        vertical-align: middle;\n    }\n\n    .dataframe tbody tr th {\n        vertical-align: top;\n    }\n\n    .dataframe thead th {\n        text-align: right;\n    }\n</style>\n<table border=\"1\" class=\"dataframe\">\n  <thead>\n    <tr style=\"text-align: right;\">\n      <th></th>\n      <th>Airline</th>\n      <th>Source</th>\n      <th>Destination</th>\n      <th>Route</th>\n      <th>Arrival_Time</th>\n      <th>Total_Stops</th>\n      <th>Additional_Info</th>\n      <th>Journey_Day</th>\n      <th>Journey_Month</th>\n      <th>Duration_hours</th>\n      <th>Duration_minutes</th>\n      <th>Depart_Time_Hour</th>\n      <th>Depart_Time_Minutes</th>\n    </tr>\n  </thead>\n  <tbody>\n    <tr>\n      <th>0</th>\n      <td>Jet Airways</td>\n      <td>Delhi</td>\n      <td>Cochin</td>\n      <td>DEL → BOM → COK</td>\n      <td>04:25 07 Jun</td>\n      <td>1 stop</td>\n      <td>No info</td>\n      <td>6</td>\n      <td>6</td>\n      <td>10</td>\n      <td>55</td>\n      <td>17</td>\n      <td>30</td>\n    </tr>\n    <tr>\n      <th>1</th>\n      <td>IndiGo</td>\n      <td>Kolkata</td>\n      <td>Banglore</td>\n      <td>CCU → MAA → BLR</td>\n      <td>10:20</td>\n      <td>1 stop</td>\n      <td>No info</td>\n      <td>12</td>\n      <td>5</td>\n      <td>4</td>\n      <td>0</td>\n      <td>6</td>\n      <td>20</td>\n    </tr>\n    <tr>\n      <th>2</th>\n      <td>Jet Airways</td>\n      <td>Delhi</td>\n      <td>Cochin</td>\n      <td>DEL → BOM → COK</td>\n      <td>19:00 22 May</td>\n      <td>1 stop</td>\n      <td>In-flight meal not included</td>\n      <td>21</td>\n      <td>5</td>\n      <td>23</td>\n      <td>45</td>\n      <td>19</td>\n      <td>15</td>\n    </tr>\n    <tr>\n      <th>3</th>\n      <td>Multiple carriers</td>\n      <td>Delhi</td>\n      <td>Cochin</td>\n      <td>DEL → BOM → COK</td>\n      <td>21:00</td>\n      <td>1 stop</td>\n      <td>No info</td>\n      <td>21</td>\n      <td>5</td>\n      <td>13</td>\n      <td>0</td>\n      <td>8</td>\n      <td>0</td>\n    </tr>\n    <tr>\n      <th>4</th>\n      <td>Air Asia</td>\n      <td>Banglore</td>\n      <td>Delhi</td>\n      <td>BLR → DEL</td>\n      <td>02:45 25 Jun</td>\n      <td>non-stop</td>\n      <td>No info</td>\n      <td>24</td>\n      <td>6</td>\n      <td>2</td>\n      <td>50</td>\n      <td>23</td>\n      <td>55</td>\n    </tr>\n  </tbody>\n</table>\n</div>",
            "text/plain": "             Airline    Source Destination            Route  Arrival_Time  \\\n0        Jet Airways     Delhi      Cochin  DEL → BOM → COK  04:25 07 Jun   \n1             IndiGo   Kolkata    Banglore  CCU → MAA → BLR         10:20   \n2        Jet Airways     Delhi      Cochin  DEL → BOM → COK  19:00 22 May   \n3  Multiple carriers     Delhi      Cochin  DEL → BOM → COK         21:00   \n4           Air Asia  Banglore       Delhi        BLR → DEL  02:45 25 Jun   \n\n  Total_Stops              Additional_Info  Journey_Day  Journey_Month  \\\n0      1 stop                      No info            6              6   \n1      1 stop                      No info           12              5   \n2      1 stop  In-flight meal not included           21              5   \n3      1 stop                      No info           21              5   \n4    non-stop                      No info           24              6   \n\n   Duration_hours  Duration_minutes  Depart_Time_Hour  Depart_Time_Minutes  \n0              10                55                17                   30  \n1               4                 0                 6                   20  \n2              23                45                19                   15  \n3              13                 0                 8                    0  \n4               2                50                23                   55  "
          },
          "metadata": {}
        }
      ]
    },
    {
      "metadata": {
        "trusted": true
      },
      "cell_type": "code",
      "source": "#Cleaning Departure and Arrival Times\n\n# Training set\n\ntrain['Arr_Time_Hour'] = pd.to_datetime(train.Arrival_Time).dt.hour\ntrain['Arr_Time_Minutes'] = pd.to_datetime(train.Arrival_Time).dt.minute\n\ntrain.drop(labels = 'Arrival_Time', axis = 1, inplace = True)\ntrain.head()",
      "execution_count": 20,
      "outputs": [
        {
          "output_type": "execute_result",
          "execution_count": 20,
          "data": {
            "text/html": "<div>\n<style scoped>\n    .dataframe tbody tr th:only-of-type {\n        vertical-align: middle;\n    }\n\n    .dataframe tbody tr th {\n        vertical-align: top;\n    }\n\n    .dataframe thead th {\n        text-align: right;\n    }\n</style>\n<table border=\"1\" class=\"dataframe\">\n  <thead>\n    <tr style=\"text-align: right;\">\n      <th></th>\n      <th>Airline</th>\n      <th>Source</th>\n      <th>Destination</th>\n      <th>Route</th>\n      <th>Total_Stops</th>\n      <th>Additional_Info</th>\n      <th>Price</th>\n      <th>Journey_Day</th>\n      <th>Journey_Month</th>\n      <th>Duration_hours</th>\n      <th>Duration_minutes</th>\n      <th>Depart_Time_Hour</th>\n      <th>Depart_Time_Minutes</th>\n      <th>Arr_Time_Hour</th>\n      <th>Arr_Time_Minutes</th>\n    </tr>\n  </thead>\n  <tbody>\n    <tr>\n      <th>0</th>\n      <td>IndiGo</td>\n      <td>Banglore</td>\n      <td>New Delhi</td>\n      <td>BLR → DEL</td>\n      <td>non-stop</td>\n      <td>No info</td>\n      <td>3897</td>\n      <td>24</td>\n      <td>3</td>\n      <td>2</td>\n      <td>50</td>\n      <td>22</td>\n      <td>20</td>\n      <td>1</td>\n      <td>10</td>\n    </tr>\n    <tr>\n      <th>1</th>\n      <td>Air India</td>\n      <td>Kolkata</td>\n      <td>Banglore</td>\n      <td>CCU → IXR → BBI → BLR</td>\n      <td>2 stops</td>\n      <td>No info</td>\n      <td>7662</td>\n      <td>1</td>\n      <td>5</td>\n      <td>7</td>\n      <td>25</td>\n      <td>5</td>\n      <td>50</td>\n      <td>13</td>\n      <td>15</td>\n    </tr>\n    <tr>\n      <th>2</th>\n      <td>Jet Airways</td>\n      <td>Delhi</td>\n      <td>Cochin</td>\n      <td>DEL → LKO → BOM → COK</td>\n      <td>2 stops</td>\n      <td>No info</td>\n      <td>13882</td>\n      <td>9</td>\n      <td>6</td>\n      <td>19</td>\n      <td>0</td>\n      <td>9</td>\n      <td>25</td>\n      <td>4</td>\n      <td>25</td>\n    </tr>\n    <tr>\n      <th>3</th>\n      <td>IndiGo</td>\n      <td>Kolkata</td>\n      <td>Banglore</td>\n      <td>CCU → NAG → BLR</td>\n      <td>1 stop</td>\n      <td>No info</td>\n      <td>6218</td>\n      <td>12</td>\n      <td>5</td>\n      <td>5</td>\n      <td>25</td>\n      <td>18</td>\n      <td>5</td>\n      <td>23</td>\n      <td>30</td>\n    </tr>\n    <tr>\n      <th>4</th>\n      <td>IndiGo</td>\n      <td>Banglore</td>\n      <td>New Delhi</td>\n      <td>BLR → NAG → DEL</td>\n      <td>1 stop</td>\n      <td>No info</td>\n      <td>13302</td>\n      <td>1</td>\n      <td>3</td>\n      <td>4</td>\n      <td>45</td>\n      <td>16</td>\n      <td>50</td>\n      <td>21</td>\n      <td>35</td>\n    </tr>\n  </tbody>\n</table>\n</div>",
            "text/plain": "       Airline    Source Destination                  Route Total_Stops  \\\n0       IndiGo  Banglore   New Delhi              BLR → DEL    non-stop   \n1    Air India   Kolkata    Banglore  CCU → IXR → BBI → BLR     2 stops   \n2  Jet Airways     Delhi      Cochin  DEL → LKO → BOM → COK     2 stops   \n3       IndiGo   Kolkata    Banglore        CCU → NAG → BLR      1 stop   \n4       IndiGo  Banglore   New Delhi        BLR → NAG → DEL      1 stop   \n\n  Additional_Info  Price  Journey_Day  Journey_Month  Duration_hours  \\\n0         No info   3897           24              3               2   \n1         No info   7662            1              5               7   \n2         No info  13882            9              6              19   \n3         No info   6218           12              5               5   \n4         No info  13302            1              3               4   \n\n   Duration_minutes  Depart_Time_Hour  Depart_Time_Minutes  Arr_Time_Hour  \\\n0                50                22                   20              1   \n1                25                 5                   50             13   \n2                 0                 9                   25              4   \n3                25                18                    5             23   \n4                45                16                   50             21   \n\n   Arr_Time_Minutes  \n0                10  \n1                15  \n2                25  \n3                30  \n4                35  "
          },
          "metadata": {}
        }
      ]
    },
    {
      "metadata": {
        "trusted": true
      },
      "cell_type": "code",
      "source": "#Cleaning Departure and Arrival Times\n\n# Test set\n\ntest['Arr_Time_Hour'] = pd.to_datetime(test.Arrival_Time).dt.hour\ntest['Arr_Time_Minutes'] = pd.to_datetime(test.Arrival_Time).dt.minute\n\ntest.drop(labels = 'Arrival_Time', axis = 1, inplace = True)\ntest.head()",
      "execution_count": 21,
      "outputs": [
        {
          "output_type": "execute_result",
          "execution_count": 21,
          "data": {
            "text/html": "<div>\n<style scoped>\n    .dataframe tbody tr th:only-of-type {\n        vertical-align: middle;\n    }\n\n    .dataframe tbody tr th {\n        vertical-align: top;\n    }\n\n    .dataframe thead th {\n        text-align: right;\n    }\n</style>\n<table border=\"1\" class=\"dataframe\">\n  <thead>\n    <tr style=\"text-align: right;\">\n      <th></th>\n      <th>Airline</th>\n      <th>Source</th>\n      <th>Destination</th>\n      <th>Route</th>\n      <th>Total_Stops</th>\n      <th>Additional_Info</th>\n      <th>Journey_Day</th>\n      <th>Journey_Month</th>\n      <th>Duration_hours</th>\n      <th>Duration_minutes</th>\n      <th>Depart_Time_Hour</th>\n      <th>Depart_Time_Minutes</th>\n      <th>Arr_Time_Hour</th>\n      <th>Arr_Time_Minutes</th>\n    </tr>\n  </thead>\n  <tbody>\n    <tr>\n      <th>0</th>\n      <td>Jet Airways</td>\n      <td>Delhi</td>\n      <td>Cochin</td>\n      <td>DEL → BOM → COK</td>\n      <td>1 stop</td>\n      <td>No info</td>\n      <td>6</td>\n      <td>6</td>\n      <td>10</td>\n      <td>55</td>\n      <td>17</td>\n      <td>30</td>\n      <td>4</td>\n      <td>25</td>\n    </tr>\n    <tr>\n      <th>1</th>\n      <td>IndiGo</td>\n      <td>Kolkata</td>\n      <td>Banglore</td>\n      <td>CCU → MAA → BLR</td>\n      <td>1 stop</td>\n      <td>No info</td>\n      <td>12</td>\n      <td>5</td>\n      <td>4</td>\n      <td>0</td>\n      <td>6</td>\n      <td>20</td>\n      <td>10</td>\n      <td>20</td>\n    </tr>\n    <tr>\n      <th>2</th>\n      <td>Jet Airways</td>\n      <td>Delhi</td>\n      <td>Cochin</td>\n      <td>DEL → BOM → COK</td>\n      <td>1 stop</td>\n      <td>In-flight meal not included</td>\n      <td>21</td>\n      <td>5</td>\n      <td>23</td>\n      <td>45</td>\n      <td>19</td>\n      <td>15</td>\n      <td>19</td>\n      <td>0</td>\n    </tr>\n    <tr>\n      <th>3</th>\n      <td>Multiple carriers</td>\n      <td>Delhi</td>\n      <td>Cochin</td>\n      <td>DEL → BOM → COK</td>\n      <td>1 stop</td>\n      <td>No info</td>\n      <td>21</td>\n      <td>5</td>\n      <td>13</td>\n      <td>0</td>\n      <td>8</td>\n      <td>0</td>\n      <td>21</td>\n      <td>0</td>\n    </tr>\n    <tr>\n      <th>4</th>\n      <td>Air Asia</td>\n      <td>Banglore</td>\n      <td>Delhi</td>\n      <td>BLR → DEL</td>\n      <td>non-stop</td>\n      <td>No info</td>\n      <td>24</td>\n      <td>6</td>\n      <td>2</td>\n      <td>50</td>\n      <td>23</td>\n      <td>55</td>\n      <td>2</td>\n      <td>45</td>\n    </tr>\n  </tbody>\n</table>\n</div>",
            "text/plain": "             Airline    Source Destination            Route Total_Stops  \\\n0        Jet Airways     Delhi      Cochin  DEL → BOM → COK      1 stop   \n1             IndiGo   Kolkata    Banglore  CCU → MAA → BLR      1 stop   \n2        Jet Airways     Delhi      Cochin  DEL → BOM → COK      1 stop   \n3  Multiple carriers     Delhi      Cochin  DEL → BOM → COK      1 stop   \n4           Air Asia  Banglore       Delhi        BLR → DEL    non-stop   \n\n               Additional_Info  Journey_Day  Journey_Month  Duration_hours  \\\n0                      No info            6              6              10   \n1                      No info           12              5               4   \n2  In-flight meal not included           21              5              23   \n3                      No info           21              5              13   \n4                      No info           24              6               2   \n\n   Duration_minutes  Depart_Time_Hour  Depart_Time_Minutes  Arr_Time_Hour  \\\n0                55                17                   30              4   \n1                 0                 6                   20             10   \n2                45                19                   15             19   \n3                 0                 8                    0             21   \n4                50                23                   55              2   \n\n   Arr_Time_Minutes  \n0                25  \n1                20  \n2                 0  \n3                 0  \n4                45  "
          },
          "metadata": {}
        }
      ]
    },
    {
      "metadata": {
        "trusted": true
      },
      "cell_type": "code",
      "source": "# Classifying the Dependent and Independent Variables\n\n# Dependent Variable\nY_train = train.iloc[:,6].values  # 6 is the index of \"Price\" in the Training Set \n\n# Independent Variables\nX_train = train.iloc[:,train.columns != 'Price'].values # selects all columns except \"Price\"\n\n# Independent Variables for Test Set\nX_test = test.iloc[:,:].values",
      "execution_count": 22,
      "outputs": []
    },
    {
      "metadata": {},
      "cell_type": "markdown",
      "source": "### Handling Categorical Variables"
    },
    {
      "metadata": {},
      "cell_type": "markdown",
      "source": "#### One Hot Encoding  (dummy variables)"
    },
    {
      "metadata": {
        "trusted": true,
        "scrolled": false
      },
      "cell_type": "code",
      "source": "# dummiesDF = pd.get_dummies(data)\n# dummiesDF.head()\n# merged = pd.concat([data,dummiesDF], axis ='columns')\n# merged.head()\n# final = merged.drop(['Additional_Info', 'Airline', 'Destination', 'Route', 'Source','Total_Stops'], axis ='columns')\n# pd.set_option('display.max_columns', 500)\n# final.head()",
      "execution_count": 23,
      "outputs": []
    },
    {
      "metadata": {
        "trusted": true,
        "run_control": {
          "marked": false
        }
      },
      "cell_type": "code",
      "source": "# we have to drop one of the dummy variables (dummy variable trap: since these variables become multi coliniority \n# when we derived dummy variables from any variables, for linear regression model no need to drop one of dummy variables\n# since lR model aware of dummy variables itself drop it)\n# print(final.info())",
      "execution_count": 24,
      "outputs": []
    },
    {
      "metadata": {},
      "cell_type": "markdown",
      "source": "#### label Encoding "
    },
    {
      "metadata": {
        "trusted": true
      },
      "cell_type": "code",
      "source": "from sklearn.preprocessing import LabelEncoder\n\nle1 = LabelEncoder()\nle2 = LabelEncoder()\n\n# Training Set    \n\nX_train[:,0] = le1.fit_transform(X_train[:,0])\n\nX_train[:,1] = le1.fit_transform(X_train[:,1])\n\nX_train[:,2] = le1.fit_transform(X_train[:,2])\n\nX_train[:,3] = le1.fit_transform(X_train[:,3])\n\nX_train[:,4] = le1.fit_transform(X_train[:,4])\n\nX_train[:,5] = le1.fit_transform(X_train[:,5])\n\n# Test Set\n\n\nX_test[:,0] = le2.fit_transform(X_test[:,0])\n\nX_test[:,1] = le2.fit_transform(X_test[:,1])\n\nX_test[:,2] = le2.fit_transform(X_test[:,2])\n\nX_test[:,3] = le2.fit_transform(X_test[:,3])\n\nX_test[:,4] = le2.fit_transform(X_test[:,4])\n\nX_test[:,5] = le2.fit_transform(X_test[:,5])",
      "execution_count": 25,
      "outputs": []
    },
    {
      "metadata": {
        "trusted": true
      },
      "cell_type": "code",
      "source": "print(pd.DataFrame(X_train).head())\n",
      "execution_count": 26,
      "outputs": [
        {
          "output_type": "stream",
          "text": "  0  1  2    3  4  5   6  7   8   9   10  11  12  13\n0  3  0  5   18  4  8  24  3   2  50  22  20   1  10\n1  1  3  0   84  1  8   1  5   7  25   5  50  13  15\n2  4  2  1  118  1  8   9  6  19   0   9  25   4  25\n3  3  3  0   91  0  8  12  5   5  25  18   5  23  30\n4  3  0  5   29  0  8   1  3   4  45  16  50  21  35\n",
          "name": "stdout"
        }
      ]
    },
    {
      "metadata": {
        "trusted": true
      },
      "cell_type": "code",
      "source": "# Feature Scaling\n\nfrom sklearn.preprocessing import StandardScaler\n\nsc_X = StandardScaler()\n\nX_train = sc_X.fit_transform(X_train)\n\nX_test = sc_X.transform(X_test)\n\n#sc_y = StandardScaler()\n\nY_train = Y_train.reshape((len(Y_train), 1)) \n\nY_train = sc_X.fit_transform(Y_train)\n\nY_train = Y_train.ravel()",
      "execution_count": 27,
      "outputs": []
    },
    {
      "metadata": {
        "trusted": true
      },
      "cell_type": "code",
      "source": "print(pd.DataFrame(X_train).head()) # Xtrain after scaling\n",
      "execution_count": 28,
      "outputs": [
        {
          "output_type": "stream",
          "text": "         0         1         2         3         4         5         6   \\\n0 -0.410675 -1.658441  2.416665 -1.547183  1.407309  0.499892  1.237383   \n1 -1.260999  0.890052 -0.973826  0.249876 -0.253632  0.499892 -1.475239   \n2  0.014486  0.040555 -0.295728  1.175633 -0.253632  0.499892 -0.531719   \n3 -0.410675  0.890052 -0.973826  0.440473 -0.807278  0.499892 -0.177898   \n4 -0.410675 -1.658441  2.416665 -1.247673 -0.807278  0.499892 -1.475239   \n\n         7         8         9         10        11        12        13  \n0 -1.467490 -0.970698  1.279008  1.654259 -0.235050 -1.800427 -0.890057  \n1  0.250276 -0.382117 -0.196388 -1.303095  1.363492 -0.050851 -0.587124  \n2  1.109160  1.030476 -1.671784 -0.607247  0.031373 -1.363033  0.018744  \n3  0.250276 -0.617549 -0.196388  0.958411 -1.034321  1.407129  0.321677  \n4 -1.467490 -0.735265  0.983929  0.610487  1.363492  1.115533  0.624611  \n",
          "name": "stdout"
        }
      ]
    },
    {
      "metadata": {
        "trusted": true
      },
      "cell_type": "code",
      "source": "print(pd.DataFrame(Y_train).head())\n",
      "execution_count": 29,
      "outputs": [
        {
          "output_type": "stream",
          "text": "          0\n0 -1.125548\n1 -0.309048\n2  1.039858\n3 -0.622202\n4  0.914076\n",
          "name": "stdout"
        }
      ]
    },
    {
      "metadata": {},
      "cell_type": "markdown",
      "source": "### Model Training - SVR"
    },
    {
      "metadata": {
        "trusted": true,
        "scrolled": true
      },
      "cell_type": "code",
      "source": "from sklearn.svm import SVR\n\nsvr = SVR(kernel = \"rbf\")\n\nsvr.fit(X_train,Y_train)\n\nY_pred = sc_X.inverse_transform(svr.predict(X_test))\n\n\npd.DataFrame(Y_pred, columns = ['Price']).to_excel(\"data/submission.xlsx\", index = False)",
      "execution_count": 30,
      "outputs": []
    }
  ],
  "metadata": {
    "kernelspec": {
      "name": "python36",
      "display_name": "Python 3.6",
      "language": "python"
    },
    "language_info": {
      "mimetype": "text/x-python",
      "nbconvert_exporter": "python",
      "name": "python",
      "pygments_lexer": "ipython3",
      "version": "3.6.6",
      "file_extension": ".py",
      "codemirror_mode": {
        "version": 3,
        "name": "ipython"
      }
    },
    "toc": {
      "nav_menu": {},
      "number_sections": true,
      "sideBar": true,
      "skip_h1_title": false,
      "base_numbering": 1,
      "title_cell": "Table of Contents",
      "title_sidebar": "Contents",
      "toc_cell": false,
      "toc_position": {},
      "toc_section_display": true,
      "toc_window_display": false
    }
  },
  "nbformat": 4,
  "nbformat_minor": 2
}