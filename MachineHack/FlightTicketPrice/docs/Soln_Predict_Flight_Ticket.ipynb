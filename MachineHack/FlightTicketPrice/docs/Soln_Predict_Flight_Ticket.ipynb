{
  "cells": [
    {
      "metadata": {
        "id": "QFdzQ7cSJeyb",
        "colab_type": "text"
      },
      "cell_type": "markdown",
      "source": "##Importing the Datasets\n\n"
    },
    {
      "metadata": {
        "id": "W9AtctmgJ6q5",
        "colab_type": "code",
        "colab": {},
        "trusted": false
      },
      "cell_type": "code",
      "source": "import pandas as pd\n\ntraining_set = pd.read_excel(\"Data_Train.xlsx\")\ntest_set = pd.read_excel(\"Test_set.xlsx\")\n",
      "execution_count": 0,
      "outputs": []
    },
    {
      "metadata": {
        "id": "laBIWbP-J9cR",
        "colab_type": "text"
      },
      "cell_type": "markdown",
      "source": "##Performing a simple Exploratory Data Analysis"
    },
    {
      "metadata": {
        "id": "iApzJbwnKD65",
        "colab_type": "code",
        "outputId": "9ed10b8a-6cde-493c-c87d-9ec3ae7b0d70",
        "colab": {
          "base_uri": "https://localhost:8080/",
          "height": 1598
        },
        "trusted": false
      },
      "cell_type": "code",
      "source": "# chechking the features in the Datasets\n\n#Training Set\n\nprint(\"\\nEDA on Training Set\\n\")\nprint(\"#\"*30)\n\nprint(\"\\nFeatures/Columns : \\n\", training_set.columns)\nprint(\"\\n\\nNumber of Features/Columns : \", len(training_set.columns))\nprint(\"\\nNumber of Rows : \",len(training_set))\nprint(\"\\n\\nData Types :\\n\", training_set.dtypes)\n\nprint(\"\\n Contains NaN/Empty cells : \", training_set.isnull().values.any())\n\nprint(\"\\n Total empty cells by column :\\n\", training_set.isnull().sum(), \"\\n\\n\")\n\n\n# Test Set\nprint(\"#\"*30)\nprint(\"\\nEDA on Test Set\\n\")\nprint(\"#\"*30)\n\n\nprint(\"\\nFeatures/Columns : \\n\",test_set.columns)\nprint(\"\\n\\nNumber of Features/Columns : \",len(test_set.columns))\nprint(\"\\nNumber of Rows : \",len(test_set))\nprint(\"\\n\\nData Types :\\n\", test_set.dtypes)\nprint(\"\\n Contains NaN/Empty cells : \", test_set.isnull().values.any())\nprint(\"\\n Total empty cells by column :\\n\", test_set.isnull().sum())\n",
      "execution_count": 0,
      "outputs": [
        {
          "output_type": "stream",
          "text": "\nEDA on Training Set\n\n##############################\n\nFeatures/Columns : \n Index(['Airline', 'Date_of_Journey', 'Source', 'Destination', 'Route',\n       'Dep_Time', 'Arrival_Time', 'Duration', 'Total_Stops',\n       'Additional_Info', 'Price'],\n      dtype='object')\n\n\nNumber of Features/Columns :  11\n\nNumber of Rows :  10683\n\n\nData Types :\n Airline            object\nDate_of_Journey    object\nSource             object\nDestination        object\nRoute              object\nDep_Time           object\nArrival_Time       object\nDuration           object\nTotal_Stops        object\nAdditional_Info    object\nPrice               int64\ndtype: object\n\n Contains NaN/Empty cells :  True\n\n Total empty cells by column :\n Airline            0\nDate_of_Journey    0\nSource             0\nDestination        0\nRoute              1\nDep_Time           0\nArrival_Time       0\nDuration           0\nTotal_Stops        1\nAdditional_Info    0\nPrice              0\ndtype: int64 \n\n\n##############################\n\nEDA on Test Set\n\n##############################\n\nFeatures/Columns : \n Index(['Airline', 'Date_of_Journey', 'Source', 'Destination', 'Route',\n       'Dep_Time', 'Arrival_Time', 'Duration', 'Total_Stops',\n       'Additional_Info'],\n      dtype='object')\n\n\nNumber of Features/Columns :  10\n\nNumber of Rows :  2671\n\n\nData Types :\n Airline            object\nDate_of_Journey    object\nSource             object\nDestination        object\nRoute              object\nDep_Time           object\nArrival_Time       object\nDuration           object\nTotal_Stops        object\nAdditional_Info    object\ndtype: object\n\n Contains NaN/Empty cells :  False\n\n Total empty cells by column :\n Airline            0\nDate_of_Journey    0\nSource             0\nDestination        0\nRoute              0\nDep_Time           0\nArrival_Time       0\nDuration           0\nTotal_Stops        0\nAdditional_Info    0\ndtype: int64\n",
          "name": "stdout"
        }
      ]
    },
    {
      "metadata": {
        "id": "Yp5ybsWMKNQQ",
        "colab_type": "text"
      },
      "cell_type": "markdown",
      "source": "##Cleaning and Preprocessing the Datasets"
    },
    {
      "metadata": {
        "id": "weWTV59eXdnR",
        "colab_type": "text"
      },
      "cell_type": "markdown",
      "source": "###Missing Fields/ NaNs"
    },
    {
      "metadata": {
        "id": "bIYSEkpzKU2w",
        "colab_type": "code",
        "outputId": "89c9dd32-51ab-4aff-f2e1-aa6c7c69875e",
        "colab": {
          "base_uri": "https://localhost:8080/",
          "height": 51
        },
        "trusted": false
      },
      "cell_type": "code",
      "source": "# Dealing with the Missing Value\n\nprint(\"Original Length of Training Set : \", len(training_set))\n\ntraining_set = training_set.dropna()\n\nprint(\"Length of Training Set after dropping NaN: \", len(training_set))\n",
      "execution_count": 0,
      "outputs": [
        {
          "output_type": "stream",
          "text": "Original Length of Training Set :  10683\nLength of Training Set after dropping NaN:  10682\n",
          "name": "stdout"
        }
      ]
    },
    {
      "metadata": {
        "id": "Qtw8aC15Y1cz",
        "colab_type": "text"
      },
      "cell_type": "markdown",
      "source": "Since we observe from the EDA that only one row has an empty field we will just remove the entire record/row.\n\n**Note**:\n\nIf the test set contains any missing fields dropping NaNs is not the right way as the number of rows are important. Also dropping rows should be used only for large datasets with very few missing fields"
    },
    {
      "metadata": {
        "id": "ajkcXR_MYGSt",
        "colab_type": "text"
      },
      "cell_type": "markdown",
      "source": "##Cleaning Data"
    },
    {
      "metadata": {
        "id": "7kj2GMiBXj-X",
        "colab_type": "text"
      },
      "cell_type": "markdown",
      "source": "###Date_of_Journey"
    },
    {
      "metadata": {
        "id": "YrgBP6PbXre3",
        "colab_type": "code",
        "colab": {},
        "trusted": false
      },
      "cell_type": "code",
      "source": "#Cleaning Journey Date \n\n#Training Set\n\ntraining_set['Journey_Day'] = pd.to_datetime(training_set.Date_of_Journey, format='%d/%m/%Y').dt.day\n\ntraining_set['Journey_Month'] = pd.to_datetime(training_set.Date_of_Journey, format='%d/%m/%Y').dt.month\n\n# Test Set\n\ntest_set['Journey_Day'] = pd.to_datetime(test_set.Date_of_Journey, format='%d/%m/%Y').dt.day\n\ntest_set['Journey_Month'] = pd.to_datetime(test_set.Date_of_Journey, format='%d/%m/%Y').dt.month\n\n# Compare the dates and delete the original date feature\n\ntraining_set.drop(labels = 'Date_of_Journey', axis = 1, inplace = True)\n\ntest_set.drop(labels = 'Date_of_Journey', axis = 1, inplace = True)\n\n\n",
      "execution_count": 0,
      "outputs": []
    },
    {
      "metadata": {
        "id": "8iyNYQtrb9UD",
        "colab_type": "text"
      },
      "cell_type": "markdown",
      "source": "The Date_of_Journey column contains dates in string format. We will first conver the strings in to pandas datetime object. \n\nThe Date and Time data can be dealt in various ways. Here we will split the date into days and months. Year is not considered as it is same (2019) for all rows.\n\n\n\n1.   pd.to_datetime(training_set.Date_of_Journey, format='%d/%m/%Y') : Converts the string in to datetime object.\n2.   pd.to_datetime(training_set.Date_of_Journey, format='%d/%m/%Y').dt.day : Returns the day in the date\n1.   pd.to_datetime(training_set.Date_of_Journey, format='%d/%m/%Y').dt.month : Returns the month in the date\n\n\n\n"
    },
    {
      "metadata": {
        "id": "GQ6WvGUlXzdn",
        "colab_type": "text"
      },
      "cell_type": "markdown",
      "source": "###Duration"
    },
    {
      "metadata": {
        "id": "4S7ga_N9Xyqu",
        "colab_type": "code",
        "colab": {},
        "trusted": false
      },
      "cell_type": "code",
      "source": "# Cleaning Duration\n\n# Training Set\n\nduration = list(training_set['Duration'])\n\nfor i in range(len(duration)) :\n    if len(duration[i].split()) != 2:\n        if 'h' in duration[i] :\n            duration[i] = duration[i].strip() + ' 0m'\n        elif 'm' in duration[i] :\n            duration[i] = '0h {}'.format(duration[i].strip())\n\ndur_hours = []\ndur_minutes = []  \n\nfor i in range(len(duration)) :\n    dur_hours.append(int(duration[i].split()[0][:-1]))\n    dur_minutes.append(int(duration[i].split()[1][:-1]))\n    \ntraining_set['Duration_hours'] = dur_hours\ntraining_set['Duration_minutes'] =dur_minutes\n\ntraining_set.drop(labels = 'Duration', axis = 1, inplace = True)\n\n\n# Test Set\n\ndurationT = list(test_set['Duration'])\n\nfor i in range(len(durationT)) :\n    if len(durationT[i].split()) != 2:\n        if 'h' in durationT[i] :\n            durationT[i] = durationT[i].strip() + ' 0m'\n        elif 'm' in durationT[i] :\n            durationT[i] = '0h {}'.format(durationT[i].strip())\n            \ndur_hours = []\ndur_minutes = []  \n\nfor i in range(len(durationT)) :\n    dur_hours.append(int(durationT[i].split()[0][:-1]))\n    dur_minutes.append(int(durationT[i].split()[1][:-1]))\n  \n    \ntest_set['Duration_hours'] = dur_hours\ntest_set['Duration_minutes'] = dur_minutes\n\ntest_set.drop(labels = 'Duration', axis = 1, inplace = True)\n\n\n",
      "execution_count": 0,
      "outputs": []
    },
    {
      "metadata": {
        "id": "CfeXrXoOeXuL",
        "colab_type": "text"
      },
      "cell_type": "markdown",
      "source": "Here we split the Duration in to two features Duration_hours and Duration_minutes. \n\nWe will first make all rows symmetric by adding \"0m\" where minute is not mentioned and \"0h\" where hour is not mentioned.Now we split it in to 2 integer values.\n\nAlways keep in mind that there are multiple approaches to cleaning data and it depends on the programmers logic."
    },
    {
      "metadata": {
        "id": "ST_Lqa9pX-Dl",
        "colab_type": "text"
      },
      "cell_type": "markdown",
      "source": "###Departure and Arrival Times"
    },
    {
      "metadata": {
        "id": "GZPmrUFVX9Dn",
        "colab_type": "code",
        "colab": {},
        "trusted": false
      },
      "cell_type": "code",
      "source": "#Cleaning Departure and Arrival Times\n\n# Training Set\n\n\ntraining_set['Depart_Time_Hour'] = pd.to_datetime(training_set.Dep_Time).dt.hour\ntraining_set['Depart_Time_Minutes'] = pd.to_datetime(training_set.Dep_Time).dt.minute\n\ntraining_set.drop(labels = 'Dep_Time', axis = 1, inplace = True)\n\n\ntraining_set['Arr_Time_Hour'] = pd.to_datetime(training_set.Arrival_Time).dt.hour\ntraining_set['Arr_Time_Minutes'] = pd.to_datetime(training_set.Arrival_Time).dt.minute\n\ntraining_set.drop(labels = 'Arrival_Time', axis = 1, inplace = True)\n\n\n# Test Set\n\n\ntest_set['Depart_Time_Hour'] = pd.to_datetime(test_set.Dep_Time).dt.hour\ntest_set['Depart_Time_Minutes'] = pd.to_datetime(test_set.Dep_Time).dt.minute\n\n\ntest_set.drop(labels = 'Dep_Time', axis = 1, inplace = True)\n\ntest_set['Arr_Time_Hour'] = pd.to_datetime(test_set.Arrival_Time).dt.hour\ntest_set['Arr_Time_Minutes'] = pd.to_datetime(test_set.Arrival_Time).dt.minute\n\ntest_set.drop(labels = 'Arrival_Time', axis = 1, inplace = True)",
      "execution_count": 0,
      "outputs": []
    },
    {
      "metadata": {
        "id": "fY7rB8pugLum",
        "colab_type": "text"
      },
      "cell_type": "markdown",
      "source": "We will also split the Dep_Time and Arrival_Time features in to two features each, hours and minutes."
    },
    {
      "metadata": {
        "id": "Tpml9l8wggm5",
        "colab_type": "code",
        "outputId": "f81e689d-2c9d-4040-857e-57d9e5d40225",
        "colab": {
          "base_uri": "https://localhost:8080/",
          "height": 374
        },
        "trusted": false
      },
      "cell_type": "code",
      "source": "training_set.head()",
      "execution_count": 0,
      "outputs": [
        {
          "output_type": "execute_result",
          "data": {
            "text/html": "<div>\n<style scoped>\n    .dataframe tbody tr th:only-of-type {\n        vertical-align: middle;\n    }\n\n    .dataframe tbody tr th {\n        vertical-align: top;\n    }\n\n    .dataframe thead th {\n        text-align: right;\n    }\n</style>\n<table border=\"1\" class=\"dataframe\">\n  <thead>\n    <tr style=\"text-align: right;\">\n      <th></th>\n      <th>Airline</th>\n      <th>Source</th>\n      <th>Destination</th>\n      <th>Route</th>\n      <th>Total_Stops</th>\n      <th>Additional_Info</th>\n      <th>Price</th>\n      <th>Journey_Day</th>\n      <th>Journey_Month</th>\n      <th>Duration_hours</th>\n      <th>Duration_minutes</th>\n      <th>Depart_Time_Hour</th>\n      <th>Depart_Time_Minutes</th>\n      <th>Arr_Time_Hour</th>\n      <th>Arr_Time_Minutes</th>\n    </tr>\n  </thead>\n  <tbody>\n    <tr>\n      <th>0</th>\n      <td>IndiGo</td>\n      <td>Banglore</td>\n      <td>New Delhi</td>\n      <td>BLR → DEL</td>\n      <td>non-stop</td>\n      <td>No info</td>\n      <td>3897</td>\n      <td>24</td>\n      <td>3</td>\n      <td>2</td>\n      <td>50</td>\n      <td>22</td>\n      <td>20</td>\n      <td>1</td>\n      <td>10</td>\n    </tr>\n    <tr>\n      <th>1</th>\n      <td>Air India</td>\n      <td>Kolkata</td>\n      <td>Banglore</td>\n      <td>CCU → IXR → BBI → BLR</td>\n      <td>2 stops</td>\n      <td>No info</td>\n      <td>7662</td>\n      <td>1</td>\n      <td>5</td>\n      <td>7</td>\n      <td>25</td>\n      <td>5</td>\n      <td>50</td>\n      <td>13</td>\n      <td>15</td>\n    </tr>\n    <tr>\n      <th>2</th>\n      <td>Jet Airways</td>\n      <td>Delhi</td>\n      <td>Cochin</td>\n      <td>DEL → LKO → BOM → COK</td>\n      <td>2 stops</td>\n      <td>No info</td>\n      <td>13882</td>\n      <td>9</td>\n      <td>6</td>\n      <td>19</td>\n      <td>0</td>\n      <td>9</td>\n      <td>25</td>\n      <td>4</td>\n      <td>25</td>\n    </tr>\n    <tr>\n      <th>3</th>\n      <td>IndiGo</td>\n      <td>Kolkata</td>\n      <td>Banglore</td>\n      <td>CCU → NAG → BLR</td>\n      <td>1 stop</td>\n      <td>No info</td>\n      <td>6218</td>\n      <td>12</td>\n      <td>5</td>\n      <td>5</td>\n      <td>25</td>\n      <td>18</td>\n      <td>5</td>\n      <td>23</td>\n      <td>30</td>\n    </tr>\n    <tr>\n      <th>4</th>\n      <td>IndiGo</td>\n      <td>Banglore</td>\n      <td>New Delhi</td>\n      <td>BLR → NAG → DEL</td>\n      <td>1 stop</td>\n      <td>No info</td>\n      <td>13302</td>\n      <td>1</td>\n      <td>3</td>\n      <td>4</td>\n      <td>45</td>\n      <td>16</td>\n      <td>50</td>\n      <td>21</td>\n      <td>35</td>\n    </tr>\n  </tbody>\n</table>\n</div>",
            "text/plain": "       Airline    Source Destination                  Route Total_Stops  \\\n0       IndiGo  Banglore   New Delhi              BLR → DEL    non-stop   \n1    Air India   Kolkata    Banglore  CCU → IXR → BBI → BLR     2 stops   \n2  Jet Airways     Delhi      Cochin  DEL → LKO → BOM → COK     2 stops   \n3       IndiGo   Kolkata    Banglore        CCU → NAG → BLR      1 stop   \n4       IndiGo  Banglore   New Delhi        BLR → NAG → DEL      1 stop   \n\n  Additional_Info  Price  Journey_Day  Journey_Month  Duration_hours  \\\n0         No info   3897           24              3               2   \n1         No info   7662            1              5               7   \n2         No info  13882            9              6              19   \n3         No info   6218           12              5               5   \n4         No info  13302            1              3               4   \n\n   Duration_minutes  Depart_Time_Hour  Depart_Time_Minutes  Arr_Time_Hour  \\\n0                50                22                   20              1   \n1                25                 5                   50             13   \n2                 0                 9                   25              4   \n3                25                18                    5             23   \n4                45                16                   50             21   \n\n   Arr_Time_Minutes  \n0                10  \n1                15  \n2                25  \n3                30  \n4                35  "
          },
          "metadata": {
            "tags": []
          },
          "execution_count": 8
        }
      ]
    },
    {
      "metadata": {
        "id": "zzomrtWqhLCc",
        "colab_type": "code",
        "outputId": "75cf614f-44a2-4728-f22e-5e78172d9424",
        "colab": {
          "base_uri": "https://localhost:8080/",
          "height": 272
        },
        "trusted": false
      },
      "cell_type": "code",
      "source": "test_set.head()",
      "execution_count": 0,
      "outputs": [
        {
          "output_type": "execute_result",
          "data": {
            "text/html": "<div>\n<style scoped>\n    .dataframe tbody tr th:only-of-type {\n        vertical-align: middle;\n    }\n\n    .dataframe tbody tr th {\n        vertical-align: top;\n    }\n\n    .dataframe thead th {\n        text-align: right;\n    }\n</style>\n<table border=\"1\" class=\"dataframe\">\n  <thead>\n    <tr style=\"text-align: right;\">\n      <th></th>\n      <th>Airline</th>\n      <th>Source</th>\n      <th>Destination</th>\n      <th>Route</th>\n      <th>Total_Stops</th>\n      <th>Additional_Info</th>\n      <th>Journey_Day</th>\n      <th>Journey_Month</th>\n      <th>Duration_hours</th>\n      <th>Duration_minutes</th>\n      <th>Depart_Time_Hour</th>\n      <th>Depart_Time_Minutes</th>\n      <th>Arr_Time_Hour</th>\n      <th>Arr_Time_Minutes</th>\n    </tr>\n  </thead>\n  <tbody>\n    <tr>\n      <th>0</th>\n      <td>Jet Airways</td>\n      <td>Delhi</td>\n      <td>Cochin</td>\n      <td>DEL → BOM → COK</td>\n      <td>1 stop</td>\n      <td>No info</td>\n      <td>6</td>\n      <td>6</td>\n      <td>10</td>\n      <td>55</td>\n      <td>17</td>\n      <td>30</td>\n      <td>4</td>\n      <td>25</td>\n    </tr>\n    <tr>\n      <th>1</th>\n      <td>IndiGo</td>\n      <td>Kolkata</td>\n      <td>Banglore</td>\n      <td>CCU → MAA → BLR</td>\n      <td>1 stop</td>\n      <td>No info</td>\n      <td>12</td>\n      <td>5</td>\n      <td>4</td>\n      <td>0</td>\n      <td>6</td>\n      <td>20</td>\n      <td>10</td>\n      <td>20</td>\n    </tr>\n    <tr>\n      <th>2</th>\n      <td>Jet Airways</td>\n      <td>Delhi</td>\n      <td>Cochin</td>\n      <td>DEL → BOM → COK</td>\n      <td>1 stop</td>\n      <td>In-flight meal not included</td>\n      <td>21</td>\n      <td>5</td>\n      <td>23</td>\n      <td>45</td>\n      <td>19</td>\n      <td>15</td>\n      <td>19</td>\n      <td>0</td>\n    </tr>\n    <tr>\n      <th>3</th>\n      <td>Multiple carriers</td>\n      <td>Delhi</td>\n      <td>Cochin</td>\n      <td>DEL → BOM → COK</td>\n      <td>1 stop</td>\n      <td>No info</td>\n      <td>21</td>\n      <td>5</td>\n      <td>13</td>\n      <td>0</td>\n      <td>8</td>\n      <td>0</td>\n      <td>21</td>\n      <td>0</td>\n    </tr>\n    <tr>\n      <th>4</th>\n      <td>Air Asia</td>\n      <td>Banglore</td>\n      <td>Delhi</td>\n      <td>BLR → DEL</td>\n      <td>non-stop</td>\n      <td>No info</td>\n      <td>24</td>\n      <td>6</td>\n      <td>2</td>\n      <td>50</td>\n      <td>23</td>\n      <td>55</td>\n      <td>2</td>\n      <td>45</td>\n    </tr>\n  </tbody>\n</table>\n</div>",
            "text/plain": "             Airline    Source Destination            Route Total_Stops  \\\n0        Jet Airways     Delhi      Cochin  DEL → BOM → COK      1 stop   \n1             IndiGo   Kolkata    Banglore  CCU → MAA → BLR      1 stop   \n2        Jet Airways     Delhi      Cochin  DEL → BOM → COK      1 stop   \n3  Multiple carriers     Delhi      Cochin  DEL → BOM → COK      1 stop   \n4           Air Asia  Banglore       Delhi        BLR → DEL    non-stop   \n\n               Additional_Info  Journey_Day  Journey_Month  Duration_hours  \\\n0                      No info            6              6              10   \n1                      No info           12              5               4   \n2  In-flight meal not included           21              5              23   \n3                      No info           21              5              13   \n4                      No info           24              6               2   \n\n   Duration_minutes  Depart_Time_Hour  Depart_Time_Minutes  Arr_Time_Hour  \\\n0                55                17                   30              4   \n1                 0                 6                   20             10   \n2                45                19                   15             19   \n3                 0                 8                    0             21   \n4                50                23                   55              2   \n\n   Arr_Time_Minutes  \n0                25  \n1                20  \n2                 0  \n3                 0  \n4                45  "
          },
          "metadata": {
            "tags": []
          },
          "execution_count": 9
        }
      ]
    },
    {
      "metadata": {
        "id": "5L57iDANKaO4",
        "colab_type": "text"
      },
      "cell_type": "markdown",
      "source": "##Preprocessing the Datasets"
    },
    {
      "metadata": {
        "id": "Pg5zaIgzYOPV",
        "colab_type": "text"
      },
      "cell_type": "markdown",
      "source": "###Classifying the Dependent and Independent Variables"
    },
    {
      "metadata": {
        "id": "EVLJz0uGYVdO",
        "colab_type": "code",
        "colab": {},
        "trusted": false
      },
      "cell_type": "code",
      "source": "# Dependent Variable\nY_train = training_set.iloc[:,6].values  # 6 is the index of \"Price\" in the Training Set \n\n# Independent Variables\nX_train = training_set.iloc[:,training_set.columns != 'Price'].values # selects all columns except \"Price\"\n\n# Independent Variables for Test Set\nX_test = test_set.iloc[:,:].values",
      "execution_count": 0,
      "outputs": []
    },
    {
      "metadata": {
        "id": "NW8IWSglYbL8",
        "colab_type": "text"
      },
      "cell_type": "markdown",
      "source": "###Encoding Categorical Variables"
    },
    {
      "metadata": {
        "id": "ZB1jwM-UYaGV",
        "colab_type": "code",
        "colab": {},
        "trusted": false
      },
      "cell_type": "code",
      "source": "from sklearn.preprocessing import LabelEncoder\n\nle1 = LabelEncoder()\nle2 = LabelEncoder()\n\n# Training Set    \n\nX_train[:,0] = le1.fit_transform(X_train[:,0])\n\nX_train[:,1] = le1.fit_transform(X_train[:,1])\n\nX_train[:,2] = le1.fit_transform(X_train[:,2])\n\nX_train[:,3] = le1.fit_transform(X_train[:,3])\n\nX_train[:,4] = le1.fit_transform(X_train[:,4])\n\nX_train[:,5] = le1.fit_transform(X_train[:,5])\n\n# Test Set\n\n\nX_test[:,0] = le2.fit_transform(X_test[:,0])\n\nX_test[:,1] = le2.fit_transform(X_test[:,1])\n\nX_test[:,2] = le2.fit_transform(X_test[:,2])\n\nX_test[:,3] = le2.fit_transform(X_test[:,3])\n\nX_test[:,4] = le2.fit_transform(X_test[:,4])\n\nX_test[:,5] = le2.fit_transform(X_test[:,5])\n",
      "execution_count": 0,
      "outputs": []
    },
    {
      "metadata": {
        "id": "gSss4r1niWTB",
        "colab_type": "text"
      },
      "cell_type": "markdown",
      "source": "###Data After Encoding"
    },
    {
      "metadata": {
        "id": "6HdXl9v1iIF4",
        "colab_type": "code",
        "outputId": "bd34a481-a3a8-49e1-fd75-1d2396f79f4d",
        "colab": {
          "base_uri": "https://localhost:8080/",
          "height": 119
        },
        "trusted": false
      },
      "cell_type": "code",
      "source": "print(pd.DataFrame(X_train).head())",
      "execution_count": 0,
      "outputs": [
        {
          "output_type": "stream",
          "text": "  0  1  2    3  4  5   6  7   8   9   10  11  12  13\n0  3  0  5   18  4  8  24  3   2  50  22  20   1  10\n1  1  3  0   84  1  8   1  5   7  25   5  50  13  15\n2  4  2  1  118  1  8   9  6  19   0   9  25   4  25\n3  3  3  0   91  0  8  12  5   5  25  18   5  23  30\n4  3  0  5   29  0  8   1  3   4  45  16  50  21  35\n",
          "name": "stdout"
        }
      ]
    },
    {
      "metadata": {
        "id": "kPDG1PAsYh0O",
        "colab_type": "text"
      },
      "cell_type": "markdown",
      "source": "###Feature Scaling"
    },
    {
      "metadata": {
        "id": "UPmGO6mAKiMa",
        "colab_type": "code",
        "outputId": "811a473a-db90-49a3-d105-fc0649449e95",
        "colab": {
          "base_uri": "https://localhost:8080/",
          "height": 187
        },
        "trusted": false
      },
      "cell_type": "code",
      "source": "\n# Feature Scaling\n\nfrom sklearn.preprocessing import StandardScaler\n\nsc_X = StandardScaler()\n\nX_train = sc_X.fit_transform(X_train)\n\nX_test = sc_X.transform(X_test)\n\n#sc_y = StandardScaler()\n\nY_train = Y_train.reshape((len(Y_train), 1)) \n\nY_train = sc_X.fit_transform(Y_train)\n\nY_train = Y_train.ravel()\n\n",
      "execution_count": 0,
      "outputs": [
        {
          "output_type": "stream",
          "text": "/usr/local/lib/python3.6/dist-packages/sklearn/utils/validation.py:595: DataConversionWarning: Data with input dtype object was converted to float64 by StandardScaler.\n  warnings.warn(msg, DataConversionWarning)\n/usr/local/lib/python3.6/dist-packages/sklearn/utils/validation.py:595: DataConversionWarning: Data with input dtype object was converted to float64 by StandardScaler.\n  warnings.warn(msg, DataConversionWarning)\n/usr/local/lib/python3.6/dist-packages/sklearn/utils/validation.py:595: DataConversionWarning: Data with input dtype object was converted to float64 by StandardScaler.\n  warnings.warn(msg, DataConversionWarning)\n/usr/local/lib/python3.6/dist-packages/sklearn/utils/validation.py:595: DataConversionWarning: Data with input dtype int64 was converted to float64 by StandardScaler.\n  warnings.warn(msg, DataConversionWarning)\n/usr/local/lib/python3.6/dist-packages/sklearn/utils/validation.py:595: DataConversionWarning: Data with input dtype int64 was converted to float64 by StandardScaler.\n  warnings.warn(msg, DataConversionWarning)\n",
          "name": "stderr"
        }
      ]
    },
    {
      "metadata": {
        "id": "NfxlQYQbikSw",
        "colab_type": "text"
      },
      "cell_type": "markdown",
      "source": "###Data After Scaling"
    },
    {
      "metadata": {
        "id": "-Qk3rowvindK",
        "colab_type": "code",
        "outputId": "6c1d9cbf-ea84-4c17-de26-82a728894ba1",
        "colab": {
          "base_uri": "https://localhost:8080/",
          "height": 238
        },
        "trusted": false
      },
      "cell_type": "code",
      "source": "print(pd.DataFrame(X_train).head()) # Xtrain after scaling",
      "execution_count": 0,
      "outputs": [
        {
          "output_type": "stream",
          "text": "         0         1         2         3         4         5         6   \\\n0 -0.410805 -1.658359  2.416534 -1.547082  1.407210  0.499921  1.237288   \n1 -1.261152  0.890014 -0.973812  0.249946 -0.253703  0.499921 -1.475307   \n2  0.014369  0.040556 -0.295743  1.175687 -0.253703  0.499921 -0.531796   \n3 -0.410805  0.890014 -0.973812  0.440539 -0.807341  0.499921 -0.177979   \n4 -0.410805 -1.658359  2.416534 -1.247577 -0.807341  0.499921 -1.475307   \n\n         7         8         9         10        11        12        13  \n0 -1.467402 -0.970614  1.279041  1.654154 -0.234950 -1.800436 -0.890014  \n1  0.250289 -0.381999 -0.196319 -1.303113  1.363607 -0.050909 -0.587094  \n2  1.109135  1.030677 -1.671678 -0.607286  0.031476 -1.363054  0.018745  \n3  0.250289 -0.617445 -0.196319  0.958326 -1.034229  1.407030  0.321664  \n4 -1.467402 -0.735168  0.983969  0.610412  1.363607  1.115442  0.624584  \n",
          "name": "stdout"
        }
      ]
    },
    {
      "metadata": {
        "id": "o9fGdPS7i23I",
        "colab_type": "code",
        "outputId": "9836c70a-beb6-4eda-97db-b0b5d1474e5d",
        "colab": {
          "base_uri": "https://localhost:8080/",
          "height": 119
        },
        "trusted": false
      },
      "cell_type": "code",
      "source": "print(pd.DataFrame(Y_train).head())",
      "execution_count": 0,
      "outputs": [
        {
          "output_type": "stream",
          "text": "          0\n0 -1.125535\n1 -0.309068\n2  1.039783\n3 -0.622209\n4  0.914006\n",
          "name": "stdout"
        }
      ]
    },
    {
      "metadata": {
        "id": "1_giRsy4KjbZ",
        "colab_type": "text"
      },
      "cell_type": "markdown",
      "source": "## Modelling with Support Vector Regressor"
    },
    {
      "metadata": {
        "id": "naviX4YjJXTd",
        "colab_type": "code",
        "colab": {},
        "trusted": false
      },
      "cell_type": "code",
      "source": "\nfrom sklearn.svm import SVR\n\nsvr = SVR(kernel = \"rbf\")\n\nsvr.fit(X_train,Y_train)\n\nY_pred = sc_X.inverse_transform(svr.predict(X_test))\n\n\npd.DataFrame(Y_pred, columns = ['Price']).to_excel(\"Final_Pred.xlsx\", index = False)\n",
      "execution_count": 0,
      "outputs": []
    },
    {
      "metadata": {
        "id": "DGtFHyIXjP6v",
        "colab_type": "code",
        "outputId": "5c608f0f-e4d5-43ea-d9c9-415f09ddfd3b",
        "colab": {
          "base_uri": "https://localhost:8080/",
          "height": 119
        },
        "trusted": false
      },
      "cell_type": "code",
      "source": "print(pd.DataFrame(Y_pred).head())",
      "execution_count": 0,
      "outputs": [
        {
          "output_type": "stream",
          "text": "              0\n0  10547.002077\n1   6773.635780\n2  11482.732670\n3  11281.247128\n4   4379.175423\n",
          "name": "stdout"
        }
      ]
    }
  ],
  "metadata": {
    "colab": {
      "name": "Soln_Predict_Flight_Ticket.ipynb",
      "version": "0.3.2",
      "provenance": [],
      "collapsed_sections": []
    },
    "kernelspec": {
      "name": "python3",
      "display_name": "Python 3",
      "language": "python"
    },
    "language_info": {
      "mimetype": "text/x-python",
      "nbconvert_exporter": "python",
      "name": "python",
      "file_extension": ".py",
      "version": "3.5.4",
      "pygments_lexer": "ipython3",
      "codemirror_mode": {
        "version": 3,
        "name": "ipython"
      }
    },
    "toc": {
      "nav_menu": {},
      "number_sections": true,
      "sideBar": true,
      "skip_h1_title": false,
      "base_numbering": 1,
      "title_cell": "Table of Contents",
      "title_sidebar": "Contents",
      "toc_cell": false,
      "toc_position": {},
      "toc_section_display": true,
      "toc_window_display": false
    }
  },
  "nbformat": 4,
  "nbformat_minor": 1
}