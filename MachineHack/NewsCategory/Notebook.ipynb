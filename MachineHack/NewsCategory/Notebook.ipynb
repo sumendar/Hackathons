{
  "cells": [
    {
      "metadata": {},
      "cell_type": "markdown",
      "source": "## Predict The News Category Hackathon"
    },
    {
      "metadata": {
        "collapsed": true
      },
      "cell_type": "markdown",
      "source": "From the beginning, since the first printed newspaper, every news that makes into a page has had a specific section allotted to it. Although pretty much everything changed in newspapers from the ink to the type of paper used, this proper categorization of news was carried over by generations and even to the digital versions of the newspaper. Newspaper articles are not limited to a few topics or subjects, it covers a wide range of interests from politics to sports to movies and so on. For long, this process of sectioning was done manually by people but now technology can do it without much effort. In this hackathon, Data Science and Machine Learning enthusiasts like you will use Natural Language Processing to predict which genre or category a piece of news will fall in to from the story.  \n  \n**Size of training set:** 7,628 records  \n**Size of test set:** 2,748 records  \n\n\n</p><font size=\"3\"><strong>FEATURES:</font>\n\n**STORY:**  A part of the main content of the article to be published as a piece of news.  \n**SECTION:** The genre/category the STORY falls in.  \n\nThere are four distinct sections where each story may fall in to. The Sections are labelled as follows :\n  \nPolitics: 0   \nTechnology: 1  \nEntertainment: 2   \nBusiness: 3   \n   \n    "
    },
    {
      "metadata": {},
      "cell_type": "markdown",
      "source": "**Resources:**  \nhttps://www.analyticsindiamag.com/how-to-solve-your-first-ever-nlp-classification-challenge/"
    }
  ],
  "metadata": {
    "kernelspec": {
      "name": "python36",
      "display_name": "Python 3.6",
      "language": "python"
    },
    "language_info": {
      "mimetype": "text/x-python",
      "nbconvert_exporter": "python",
      "name": "python",
      "pygments_lexer": "ipython3",
      "version": "3.6.6",
      "file_extension": ".py",
      "codemirror_mode": {
        "version": 3,
        "name": "ipython"
      }
    },
    "toc": {
      "nav_menu": {},
      "number_sections": true,
      "sideBar": true,
      "skip_h1_title": false,
      "base_numbering": 1,
      "title_cell": "Table of Contents",
      "title_sidebar": "Contents",
      "toc_cell": false,
      "toc_position": {},
      "toc_section_display": true,
      "toc_window_display": false
    }
  },
  "nbformat": 4,
  "nbformat_minor": 2
}