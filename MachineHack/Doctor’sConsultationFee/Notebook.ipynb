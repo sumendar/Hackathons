{
  "cells": [
    {
      "metadata": {
        "toc": true
      },
      "cell_type": "markdown",
      "source": "<h1>Table of Contents<span class=\"tocSkip\"></span></h1>\n<div class=\"toc\"><ul class=\"toc-item\"><li><span><a href=\"#Problem-Statement\" data-toc-modified-id=\"Problem-Statement-1\"><span class=\"toc-item-num\">1&nbsp;&nbsp;</span>Problem Statement</a></span></li><li><span><a href=\"#Hypothesis-Generation\" data-toc-modified-id=\"Hypothesis-Generation-2\"><span class=\"toc-item-num\">2&nbsp;&nbsp;</span>Hypothesis Generation</a></span></li><li><span><a href=\"#Loading-Packages-and-Data\" data-toc-modified-id=\"Loading-Packages-and-Data-3\"><span class=\"toc-item-num\">3&nbsp;&nbsp;</span>Loading Packages and Data</a></span></li><li><span><a href=\"#Understanding-the-Data\" data-toc-modified-id=\"Understanding-the-Data-4\"><span class=\"toc-item-num\">4&nbsp;&nbsp;</span>Understanding the Data</a></span><ul class=\"toc-item\"><li><span><a href=\"#Inspect-Data\" data-toc-modified-id=\"Inspect-Data-4.1\"><span class=\"toc-item-num\">4.1&nbsp;&nbsp;</span>Inspect Data</a></span></li></ul></li><li><span><a href=\"#PreProcessing-Data\" data-toc-modified-id=\"PreProcessing-Data-5\"><span class=\"toc-item-num\">5&nbsp;&nbsp;</span>PreProcessing Data</a></span></li><li><span><a href=\"#Missing-Value-Treatment\" data-toc-modified-id=\"Missing-Value-Treatment-6\"><span class=\"toc-item-num\">6&nbsp;&nbsp;</span>Missing Value Treatment</a></span></li><li><span><a href=\"#Univariate-Analysis\" data-toc-modified-id=\"Univariate-Analysis-7\"><span class=\"toc-item-num\">7&nbsp;&nbsp;</span>Univariate Analysis</a></span></li><li><span><a href=\"#Bivariate-Analysis\" data-toc-modified-id=\"Bivariate-Analysis-8\"><span class=\"toc-item-num\">8&nbsp;&nbsp;</span>Bivariate Analysis</a></span></li><li><span><a href=\"#Feature-Engineering\" data-toc-modified-id=\"Feature-Engineering-9\"><span class=\"toc-item-num\">9&nbsp;&nbsp;</span>Feature Engineering</a></span></li><li><span><a href=\"#Feature-Engineering\" data-toc-modified-id=\"Feature-Engineering-10\"><span class=\"toc-item-num\">10&nbsp;&nbsp;</span>Feature Engineering</a></span></li><li><span><a href=\"#Encoding-Categorical-Variables\" data-toc-modified-id=\"Encoding-Categorical-Variables-11\"><span class=\"toc-item-num\">11&nbsp;&nbsp;</span>Encoding Categorical Variables</a></span></li><li><span><a href=\"#Model-Building\" data-toc-modified-id=\"Model-Building-12\"><span class=\"toc-item-num\">12&nbsp;&nbsp;</span>Model Building</a></span></li><li><span><a href=\"#Linear-Regression\" data-toc-modified-id=\"Linear-Regression-13\"><span class=\"toc-item-num\">13&nbsp;&nbsp;</span>Linear Regression</a></span></li><li><span><a href=\"#Regularized-Linear-Regression\" data-toc-modified-id=\"Regularized-Linear-Regression-14\"><span class=\"toc-item-num\">14&nbsp;&nbsp;</span>Regularized Linear Regression</a></span></li><li><span><a href=\"#Random-Forest\" data-toc-modified-id=\"Random-Forest-15\"><span class=\"toc-item-num\">15&nbsp;&nbsp;</span>Random Forest</a></span></li><li><span><a href=\"#XGBoost\" data-toc-modified-id=\"XGBoost-16\"><span class=\"toc-item-num\">16&nbsp;&nbsp;</span>XGBoost</a></span></li><li><span><a href=\"#Summary\" data-toc-modified-id=\"Summary-17\"><span class=\"toc-item-num\">17&nbsp;&nbsp;</span>Summary</a></span></li></ul></div>"
    },
    {
      "metadata": {
        "collapsed": true
      },
      "cell_type": "markdown",
      "source": "## Problem Statement"
    },
    {
      "metadata": {
        "collapsed": true
      },
      "cell_type": "markdown",
      "source": "**Build a model to predict the doctor’s consulting fee**"
    },
    {
      "metadata": {
        "collapsed": true
      },
      "cell_type": "markdown",
      "source": "## Hypothesis Generation"
    },
    {
      "metadata": {
        "collapsed": true
      },
      "cell_type": "markdown",
      "source": "## Loading Packages and Data"
    },
    {
      "metadata": {
        "trusted": true
      },
      "cell_type": "code",
      "source": "#Loading libraries \nimport warnings\nimport re\nimport numpy as np \nimport pandas as pd\nimport matplotlib.pyplot as plt\n%matplotlib inline\nplt.rcParams['figure.figsize'] = (10.0, 8.0)\nimport seaborn as sns\nfrom scipy import stats\nfrom scipy.stats import norm\nwarnings.filterwarnings('ignore')",
      "execution_count": 70,
      "outputs": []
    },
    {
      "metadata": {
        "trusted": true
      },
      "cell_type": "code",
      "source": "trainOriginal = pd.read_excel('data/Final_Train.xlsx')\ntestOriginal = pd.read_excel('data/Final_Test.xlsx')",
      "execution_count": 71,
      "outputs": []
    },
    {
      "metadata": {
        "trusted": true
      },
      "cell_type": "code",
      "source": "#loading data\ntrain = pd.read_excel('data/Final_Train.xlsx')\ntest = pd.read_excel('data/Final_Test.xlsx')",
      "execution_count": 72,
      "outputs": []
    },
    {
      "metadata": {
        "collapsed": true
      },
      "cell_type": "markdown",
      "source": "## Understanding the Data"
    },
    {
      "metadata": {},
      "cell_type": "markdown",
      "source": "**This dataset contains the important information about a doctor such as:**\n\n| FEATURES          | DETAILS                                        |\n|-------------------|------------------------------------------------|\n| Qualification     | Qualification and degrees held by the doctor   |\n| Experience        | Experience of the doctor in number of years    |\n| Rating            | Rating given by patients                       |\n| Profile           | Type of the doctor                             |\n| Miscellaeous_Info | Extra information about the doctor             |\n| Fees              | Fees charged by the doctor                     |\n| Place             | Area and the city where the doctor is located. |"
    },
    {
      "metadata": {},
      "cell_type": "markdown",
      "source": "### Inspect Data"
    },
    {
      "metadata": {
        "trusted": true,
        "scrolled": false
      },
      "cell_type": "code",
      "source": "print(train.shape) # Size of training set: 5961 records\nprint(test.shape) # Size of test set: 1987 records",
      "execution_count": 73,
      "outputs": [
        {
          "output_type": "stream",
          "text": "(5961, 7)\n(1987, 6)\n",
          "name": "stdout"
        }
      ]
    },
    {
      "metadata": {
        "trusted": true,
        "scrolled": true
      },
      "cell_type": "code",
      "source": "print ('The train data has {0} rows and {1} columns'.format(train.shape[0],train.shape[1]))\nprint ('----------------------------')\nprint ('The test data has {0} rows and {1} columns'.format(test.shape[0],test.shape[1]))",
      "execution_count": 74,
      "outputs": [
        {
          "output_type": "stream",
          "text": "The train data has 5961 rows and 7 columns\n----------------------------\nThe test data has 1987 rows and 6 columns\n",
          "name": "stdout"
        }
      ]
    },
    {
      "metadata": {},
      "cell_type": "markdown",
      "source": "Combine Train and Test to avoid modification on each dataset separately, Later we can always split the combined data back to train and test."
    },
    {
      "metadata": {
        "trusted": true
      },
      "cell_type": "code",
      "source": "data = train.append(test, ignore_index=False)\n# bigdata = pd.concat([data1, data2], ignore_index=True) particularly helpful when you are joining more than two dataframes:\nprint(data.head())\nprint(data.tail())",
      "execution_count": 75,
      "outputs": [
        {
          "output_type": "stream",
          "text": "            Experience   Fees  \\\n0  24 years experience  100.0   \n1  12 years experience  350.0   \n2   9 years experience  300.0   \n3  12 years experience  250.0   \n4  20 years experience  250.0   \n\n                                  Miscellaneous_Info  \\\n0               100% 16 Feedback Kakkanad, Ernakulam   \n1              98% 76 Feedback Whitefield, Bangalore   \n2                                                NaN   \n3  Bannerghatta Road, Bangalore ₹250 Available on...   \n4              100% 4 Feedback Keelkattalai, Chennai   \n\n                          Place         Profile  \\\n0           Kakkanad, Ernakulam       Homeopath   \n1         Whitefield, Bangalore        Ayurveda   \n2    Mathikere - BEL, Bangalore  ENT Specialist   \n3  Bannerghatta Road, Bangalore        Ayurveda   \n4         Keelkattalai, Chennai        Ayurveda   \n\n                    Qualification Rating  \n0           BHMS, MD - Homeopathy   100%  \n1    BAMS, MD - Ayurveda Medicine    98%  \n2  MBBS, MS - Otorhinolaryngology    NaN  \n3             BSc - Zoology, BAMS    NaN  \n4                            BAMS   100%  \n               Experience  Fees  \\\n1982  10 years experience   NaN   \n1983   4 years experience   NaN   \n1984   9 years experience   NaN   \n1985  12 years experience   NaN   \n1986   8 years experience   NaN   \n\n                                     Miscellaneous_Info  \\\n1982                                                NaN   \n1983                                                NaN   \n1984                                                NaN   \n1985  RCT - Root Canal Treatment Root Canal Treatmen...   \n1986              1 Feedback Pallikaranai, Chennai ₹500   \n\n                        Place           Profile  \\\n1982  Basavanagudi, Bangalore          Ayurveda   \n1983         Choolai, Chennai    Dermatologists   \n1984           Porur, Chennai  General Medicine   \n1985       Arekere, Bangalore           Dentist   \n1986    Pallikaranai, Chennai    Dermatologists   \n\n                                       Qualification Rating  \n1982                        BAMS, Doctor of Medicine    NaN  \n1983  MD - Dermatology , Venereology & Leprosy, MBBS    NaN  \n1984        MBBS, MD / MS - Obstetrics & Gynaecology    NaN  \n1985                                             BDS    98%  \n1986  MBBS, MD - Dermatology , Venereology & Leprosy    NaN  \n",
          "name": "stdout"
        }
      ]
    },
    {
      "metadata": {
        "trusted": true
      },
      "cell_type": "code",
      "source": "data.info()",
      "execution_count": 76,
      "outputs": [
        {
          "output_type": "stream",
          "text": "<class 'pandas.core.frame.DataFrame'>\nInt64Index: 7948 entries, 0 to 1986\nData columns (total 7 columns):\nExperience            7948 non-null object\nFees                  5961 non-null float64\nMiscellaneous_Info    4494 non-null object\nPlace                 7917 non-null object\nProfile               7948 non-null object\nQualification         7948 non-null object\nRating                3556 non-null object\ndtypes: float64(1), object(6)\nmemory usage: 496.8+ KB\n",
          "name": "stdout"
        }
      ]
    },
    {
      "metadata": {
        "collapsed": true
      },
      "cell_type": "markdown",
      "source": "## PreProcessing Data"
    },
    {
      "metadata": {
        "trusted": true,
        "scrolled": false
      },
      "cell_type": "code",
      "source": "data['Experience'] = data['Experience'].map(lambda x: x.strip('years experience')).astype(float)\nprint(data.head())\nprint(data.tail())",
      "execution_count": 77,
      "outputs": [
        {
          "output_type": "stream",
          "text": "   Experience   Fees                                 Miscellaneous_Info  \\\n0        24.0  100.0               100% 16 Feedback Kakkanad, Ernakulam   \n1        12.0  350.0              98% 76 Feedback Whitefield, Bangalore   \n2         9.0  300.0                                                NaN   \n3        12.0  250.0  Bannerghatta Road, Bangalore ₹250 Available on...   \n4        20.0  250.0              100% 4 Feedback Keelkattalai, Chennai   \n\n                          Place         Profile  \\\n0           Kakkanad, Ernakulam       Homeopath   \n1         Whitefield, Bangalore        Ayurveda   \n2    Mathikere - BEL, Bangalore  ENT Specialist   \n3  Bannerghatta Road, Bangalore        Ayurveda   \n4         Keelkattalai, Chennai        Ayurveda   \n\n                    Qualification Rating  \n0           BHMS, MD - Homeopathy   100%  \n1    BAMS, MD - Ayurveda Medicine    98%  \n2  MBBS, MS - Otorhinolaryngology    NaN  \n3             BSc - Zoology, BAMS    NaN  \n4                            BAMS   100%  \n      Experience  Fees                                 Miscellaneous_Info  \\\n1982        10.0   NaN                                                NaN   \n1983         4.0   NaN                                                NaN   \n1984         9.0   NaN                                                NaN   \n1985        12.0   NaN  RCT - Root Canal Treatment Root Canal Treatmen...   \n1986         8.0   NaN              1 Feedback Pallikaranai, Chennai ₹500   \n\n                        Place           Profile  \\\n1982  Basavanagudi, Bangalore          Ayurveda   \n1983         Choolai, Chennai    Dermatologists   \n1984           Porur, Chennai  General Medicine   \n1985       Arekere, Bangalore           Dentist   \n1986    Pallikaranai, Chennai    Dermatologists   \n\n                                       Qualification Rating  \n1982                        BAMS, Doctor of Medicine    NaN  \n1983  MD - Dermatology , Venereology & Leprosy, MBBS    NaN  \n1984        MBBS, MD / MS - Obstetrics & Gynaecology    NaN  \n1985                                             BDS    98%  \n1986  MBBS, MD - Dermatology , Venereology & Leprosy    NaN  \n",
          "name": "stdout"
        }
      ]
    },
    {
      "metadata": {
        "trusted": true,
        "scrolled": true
      },
      "cell_type": "code",
      "source": "data['Rating'] = data['Rating'].str.replace('%','').astype(float)\nprint(data.head())\nprint(data.tail())",
      "execution_count": 78,
      "outputs": [
        {
          "output_type": "stream",
          "text": "   Experience   Fees                                 Miscellaneous_Info  \\\n0        24.0  100.0               100% 16 Feedback Kakkanad, Ernakulam   \n1        12.0  350.0              98% 76 Feedback Whitefield, Bangalore   \n2         9.0  300.0                                                NaN   \n3        12.0  250.0  Bannerghatta Road, Bangalore ₹250 Available on...   \n4        20.0  250.0              100% 4 Feedback Keelkattalai, Chennai   \n\n                          Place         Profile  \\\n0           Kakkanad, Ernakulam       Homeopath   \n1         Whitefield, Bangalore        Ayurveda   \n2    Mathikere - BEL, Bangalore  ENT Specialist   \n3  Bannerghatta Road, Bangalore        Ayurveda   \n4         Keelkattalai, Chennai        Ayurveda   \n\n                    Qualification  Rating  \n0           BHMS, MD - Homeopathy   100.0  \n1    BAMS, MD - Ayurveda Medicine    98.0  \n2  MBBS, MS - Otorhinolaryngology     NaN  \n3             BSc - Zoology, BAMS     NaN  \n4                            BAMS   100.0  \n      Experience  Fees                                 Miscellaneous_Info  \\\n1982        10.0   NaN                                                NaN   \n1983         4.0   NaN                                                NaN   \n1984         9.0   NaN                                                NaN   \n1985        12.0   NaN  RCT - Root Canal Treatment Root Canal Treatmen...   \n1986         8.0   NaN              1 Feedback Pallikaranai, Chennai ₹500   \n\n                        Place           Profile  \\\n1982  Basavanagudi, Bangalore          Ayurveda   \n1983         Choolai, Chennai    Dermatologists   \n1984           Porur, Chennai  General Medicine   \n1985       Arekere, Bangalore           Dentist   \n1986    Pallikaranai, Chennai    Dermatologists   \n\n                                       Qualification  Rating  \n1982                        BAMS, Doctor of Medicine     NaN  \n1983  MD - Dermatology , Venereology & Leprosy, MBBS     NaN  \n1984        MBBS, MD / MS - Obstetrics & Gynaecology     NaN  \n1985                                             BDS    98.0  \n1986  MBBS, MD - Dermatology , Venereology & Leprosy     NaN  \n",
          "name": "stdout"
        }
      ]
    },
    {
      "metadata": {
        "trusted": true,
        "scrolled": true
      },
      "cell_type": "code",
      "source": "data.info()",
      "execution_count": 79,
      "outputs": [
        {
          "output_type": "stream",
          "text": "<class 'pandas.core.frame.DataFrame'>\nInt64Index: 7948 entries, 0 to 1986\nData columns (total 7 columns):\nExperience            7948 non-null float64\nFees                  5961 non-null float64\nMiscellaneous_Info    4494 non-null object\nPlace                 7917 non-null object\nProfile               7948 non-null object\nQualification         7948 non-null object\nRating                3556 non-null float64\ndtypes: float64(3), object(4)\nmemory usage: 496.8+ KB\n",
          "name": "stdout"
        }
      ]
    },
    {
      "metadata": {
        "collapsed": true
      },
      "cell_type": "markdown",
      "source": "## Missing Value Treatment"
    },
    {
      "metadata": {
        "trusted": true,
        "scrolled": false
      },
      "cell_type": "code",
      "source": "#check missing values\ndata.columns[train.isnull().any()]",
      "execution_count": 80,
      "outputs": [
        {
          "output_type": "execute_result",
          "execution_count": 80,
          "data": {
            "text/plain": "Index(['Miscellaneous_Info', 'Place', 'Qualification'], dtype='object')"
          },
          "metadata": {}
        }
      ]
    },
    {
      "metadata": {},
      "cell_type": "markdown",
      "source": "Out of 7 features, 3 features have missing values. Let's check the percentage of missing values in these columns."
    },
    {
      "metadata": {
        "trusted": true
      },
      "cell_type": "code",
      "source": "#missing value counts in each of these columns\nmiss = data.isnull().sum()/len(data)\nmiss = miss[miss > 0]\nmiss.sort_values(inplace=True)\nmiss",
      "execution_count": 81,
      "outputs": [
        {
          "output_type": "execute_result",
          "execution_count": 81,
          "data": {
            "text/plain": "Place                 0.003900\nFees                  0.250000\nMiscellaneous_Info    0.434575\nRating                0.552592\ndtype: float64"
          },
          "metadata": {}
        }
      ]
    },
    {
      "metadata": {
        "trusted": true
      },
      "cell_type": "code",
      "source": "#visualising missing values\nmiss = miss.to_frame()\nmiss.columns = ['count']\nmiss.index.names = ['Name']\nmiss['Name'] = miss.index\n\n#plot the missing value count\nsns.set(style=\"whitegrid\", color_codes=True)\nsns.barplot(x = 'Name', y = 'count', data=miss)\nplt.xticks(rotation = 90)\nplt.show()\n# sns.plt.show()",
      "execution_count": 82,
      "outputs": [
        {
          "output_type": "display_data",
          "data": {
            "image/png": "[encoded data removed]",
            "text/plain": "<Figure size 720x576 with 1 Axes>"
          },
          "metadata": {}
        }
      ]
    },
    {
      "metadata": {
        "trusted": true
      },
      "cell_type": "code",
      "source": "data['Place'] = data['Place'].str.replace('Dwarka, Sector 5','Dwarka Sector 5')",
      "execution_count": 83,
      "outputs": []
    },
    {
      "metadata": {
        "trusted": true
      },
      "cell_type": "code",
      "source": "data['Place'][2169]",
      "execution_count": 84,
      "outputs": [
        {
          "output_type": "execute_result",
          "execution_count": 84,
          "data": {
            "text/plain": "'Dwarka Sector 5, Delhi'"
          },
          "metadata": {}
        }
      ]
    },
    {
      "metadata": {
        "trusted": true,
        "scrolled": true
      },
      "cell_type": "code",
      "source": "data.head()",
      "execution_count": 85,
      "outputs": [
        {
          "output_type": "execute_result",
          "execution_count": 85,
          "data": {
            "text/html": "<div>\n<style scoped>\n    .dataframe tbody tr th:only-of-type {\n        vertical-align: middle;\n    }\n\n    .dataframe tbody tr th {\n        vertical-align: top;\n    }\n\n    .dataframe thead th {\n        text-align: right;\n    }\n</style>\n<table border=\"1\" class=\"dataframe\">\n  <thead>\n    <tr style=\"text-align: right;\">\n      <th></th>\n      <th>Experience</th>\n      <th>Fees</th>\n      <th>Miscellaneous_Info</th>\n      <th>Place</th>\n      <th>Profile</th>\n      <th>Qualification</th>\n      <th>Rating</th>\n    </tr>\n  </thead>\n  <tbody>\n    <tr>\n      <th>0</th>\n      <td>24.0</td>\n      <td>100.0</td>\n      <td>100% 16 Feedback Kakkanad, Ernakulam</td>\n      <td>Kakkanad, Ernakulam</td>\n      <td>Homeopath</td>\n      <td>BHMS, MD - Homeopathy</td>\n      <td>100.0</td>\n    </tr>\n    <tr>\n      <th>1</th>\n      <td>12.0</td>\n      <td>350.0</td>\n      <td>98% 76 Feedback Whitefield, Bangalore</td>\n      <td>Whitefield, Bangalore</td>\n      <td>Ayurveda</td>\n      <td>BAMS, MD - Ayurveda Medicine</td>\n      <td>98.0</td>\n    </tr>\n    <tr>\n      <th>2</th>\n      <td>9.0</td>\n      <td>300.0</td>\n      <td>NaN</td>\n      <td>Mathikere - BEL, Bangalore</td>\n      <td>ENT Specialist</td>\n      <td>MBBS, MS - Otorhinolaryngology</td>\n      <td>NaN</td>\n    </tr>\n    <tr>\n      <th>3</th>\n      <td>12.0</td>\n      <td>250.0</td>\n      <td>Bannerghatta Road, Bangalore ₹250 Available on...</td>\n      <td>Bannerghatta Road, Bangalore</td>\n      <td>Ayurveda</td>\n      <td>BSc - Zoology, BAMS</td>\n      <td>NaN</td>\n    </tr>\n    <tr>\n      <th>4</th>\n      <td>20.0</td>\n      <td>250.0</td>\n      <td>100% 4 Feedback Keelkattalai, Chennai</td>\n      <td>Keelkattalai, Chennai</td>\n      <td>Ayurveda</td>\n      <td>BAMS</td>\n      <td>100.0</td>\n    </tr>\n  </tbody>\n</table>\n</div>",
            "text/plain": "   Experience   Fees                                 Miscellaneous_Info  \\\n0        24.0  100.0               100% 16 Feedback Kakkanad, Ernakulam   \n1        12.0  350.0              98% 76 Feedback Whitefield, Bangalore   \n2         9.0  300.0                                                NaN   \n3        12.0  250.0  Bannerghatta Road, Bangalore ₹250 Available on...   \n4        20.0  250.0              100% 4 Feedback Keelkattalai, Chennai   \n\n                          Place         Profile  \\\n0           Kakkanad, Ernakulam       Homeopath   \n1         Whitefield, Bangalore        Ayurveda   \n2    Mathikere - BEL, Bangalore  ENT Specialist   \n3  Bannerghatta Road, Bangalore        Ayurveda   \n4         Keelkattalai, Chennai        Ayurveda   \n\n                    Qualification  Rating  \n0           BHMS, MD - Homeopathy   100.0  \n1    BAMS, MD - Ayurveda Medicine    98.0  \n2  MBBS, MS - Otorhinolaryngology     NaN  \n3             BSc - Zoology, BAMS     NaN  \n4                            BAMS   100.0  "
          },
          "metadata": {}
        }
      ]
    },
    {
      "metadata": {
        "trusted": true
      },
      "cell_type": "code",
      "source": "data.insert(loc=4, column='PlaceNew', value=np.NaN)\ndata.head()",
      "execution_count": 86,
      "outputs": [
        {
          "output_type": "execute_result",
          "execution_count": 86,
          "data": {
            "text/html": "<div>\n<style scoped>\n    .dataframe tbody tr th:only-of-type {\n        vertical-align: middle;\n    }\n\n    .dataframe tbody tr th {\n        vertical-align: top;\n    }\n\n    .dataframe thead th {\n        text-align: right;\n    }\n</style>\n<table border=\"1\" class=\"dataframe\">\n  <thead>\n    <tr style=\"text-align: right;\">\n      <th></th>\n      <th>Experience</th>\n      <th>Fees</th>\n      <th>Miscellaneous_Info</th>\n      <th>Place</th>\n      <th>PlaceNew</th>\n      <th>Profile</th>\n      <th>Qualification</th>\n      <th>Rating</th>\n    </tr>\n  </thead>\n  <tbody>\n    <tr>\n      <th>0</th>\n      <td>24.0</td>\n      <td>100.0</td>\n      <td>100% 16 Feedback Kakkanad, Ernakulam</td>\n      <td>Kakkanad, Ernakulam</td>\n      <td>NaN</td>\n      <td>Homeopath</td>\n      <td>BHMS, MD - Homeopathy</td>\n      <td>100.0</td>\n    </tr>\n    <tr>\n      <th>1</th>\n      <td>12.0</td>\n      <td>350.0</td>\n      <td>98% 76 Feedback Whitefield, Bangalore</td>\n      <td>Whitefield, Bangalore</td>\n      <td>NaN</td>\n      <td>Ayurveda</td>\n      <td>BAMS, MD - Ayurveda Medicine</td>\n      <td>98.0</td>\n    </tr>\n    <tr>\n      <th>2</th>\n      <td>9.0</td>\n      <td>300.0</td>\n      <td>NaN</td>\n      <td>Mathikere - BEL, Bangalore</td>\n      <td>NaN</td>\n      <td>ENT Specialist</td>\n      <td>MBBS, MS - Otorhinolaryngology</td>\n      <td>NaN</td>\n    </tr>\n    <tr>\n      <th>3</th>\n      <td>12.0</td>\n      <td>250.0</td>\n      <td>Bannerghatta Road, Bangalore ₹250 Available on...</td>\n      <td>Bannerghatta Road, Bangalore</td>\n      <td>NaN</td>\n      <td>Ayurveda</td>\n      <td>BSc - Zoology, BAMS</td>\n      <td>NaN</td>\n    </tr>\n    <tr>\n      <th>4</th>\n      <td>20.0</td>\n      <td>250.0</td>\n      <td>100% 4 Feedback Keelkattalai, Chennai</td>\n      <td>Keelkattalai, Chennai</td>\n      <td>NaN</td>\n      <td>Ayurveda</td>\n      <td>BAMS</td>\n      <td>100.0</td>\n    </tr>\n  </tbody>\n</table>\n</div>",
            "text/plain": "   Experience   Fees                                 Miscellaneous_Info  \\\n0        24.0  100.0               100% 16 Feedback Kakkanad, Ernakulam   \n1        12.0  350.0              98% 76 Feedback Whitefield, Bangalore   \n2         9.0  300.0                                                NaN   \n3        12.0  250.0  Bannerghatta Road, Bangalore ₹250 Available on...   \n4        20.0  250.0              100% 4 Feedback Keelkattalai, Chennai   \n\n                          Place  PlaceNew         Profile  \\\n0           Kakkanad, Ernakulam       NaN       Homeopath   \n1         Whitefield, Bangalore       NaN        Ayurveda   \n2    Mathikere - BEL, Bangalore       NaN  ENT Specialist   \n3  Bannerghatta Road, Bangalore       NaN        Ayurveda   \n4         Keelkattalai, Chennai       NaN        Ayurveda   \n\n                    Qualification  Rating  \n0           BHMS, MD - Homeopathy   100.0  \n1    BAMS, MD - Ayurveda Medicine    98.0  \n2  MBBS, MS - Otorhinolaryngology     NaN  \n3             BSc - Zoology, BAMS     NaN  \n4                            BAMS   100.0  "
          },
          "metadata": {}
        }
      ]
    },
    {
      "metadata": {
        "trusted": true
      },
      "cell_type": "code",
      "source": "data[['Place','PlaceNew']] = data.Place.str.split(\",\",expand=True,)\ndata.head()",
      "execution_count": 87,
      "outputs": [
        {
          "output_type": "execute_result",
          "execution_count": 87,
          "data": {
            "text/html": "<div>\n<style scoped>\n    .dataframe tbody tr th:only-of-type {\n        vertical-align: middle;\n    }\n\n    .dataframe tbody tr th {\n        vertical-align: top;\n    }\n\n    .dataframe thead th {\n        text-align: right;\n    }\n</style>\n<table border=\"1\" class=\"dataframe\">\n  <thead>\n    <tr style=\"text-align: right;\">\n      <th></th>\n      <th>Experience</th>\n      <th>Fees</th>\n      <th>Miscellaneous_Info</th>\n      <th>Place</th>\n      <th>PlaceNew</th>\n      <th>Profile</th>\n      <th>Qualification</th>\n      <th>Rating</th>\n    </tr>\n  </thead>\n  <tbody>\n    <tr>\n      <th>0</th>\n      <td>24.0</td>\n      <td>100.0</td>\n      <td>100% 16 Feedback Kakkanad, Ernakulam</td>\n      <td>Kakkanad</td>\n      <td>Ernakulam</td>\n      <td>Homeopath</td>\n      <td>BHMS, MD - Homeopathy</td>\n      <td>100.0</td>\n    </tr>\n    <tr>\n      <th>1</th>\n      <td>12.0</td>\n      <td>350.0</td>\n      <td>98% 76 Feedback Whitefield, Bangalore</td>\n      <td>Whitefield</td>\n      <td>Bangalore</td>\n      <td>Ayurveda</td>\n      <td>BAMS, MD - Ayurveda Medicine</td>\n      <td>98.0</td>\n    </tr>\n    <tr>\n      <th>2</th>\n      <td>9.0</td>\n      <td>300.0</td>\n      <td>NaN</td>\n      <td>Mathikere - BEL</td>\n      <td>Bangalore</td>\n      <td>ENT Specialist</td>\n      <td>MBBS, MS - Otorhinolaryngology</td>\n      <td>NaN</td>\n    </tr>\n    <tr>\n      <th>3</th>\n      <td>12.0</td>\n      <td>250.0</td>\n      <td>Bannerghatta Road, Bangalore ₹250 Available on...</td>\n      <td>Bannerghatta Road</td>\n      <td>Bangalore</td>\n      <td>Ayurveda</td>\n      <td>BSc - Zoology, BAMS</td>\n      <td>NaN</td>\n    </tr>\n    <tr>\n      <th>4</th>\n      <td>20.0</td>\n      <td>250.0</td>\n      <td>100% 4 Feedback Keelkattalai, Chennai</td>\n      <td>Keelkattalai</td>\n      <td>Chennai</td>\n      <td>Ayurveda</td>\n      <td>BAMS</td>\n      <td>100.0</td>\n    </tr>\n  </tbody>\n</table>\n</div>",
            "text/plain": "   Experience   Fees                                 Miscellaneous_Info  \\\n0        24.0  100.0               100% 16 Feedback Kakkanad, Ernakulam   \n1        12.0  350.0              98% 76 Feedback Whitefield, Bangalore   \n2         9.0  300.0                                                NaN   \n3        12.0  250.0  Bannerghatta Road, Bangalore ₹250 Available on...   \n4        20.0  250.0              100% 4 Feedback Keelkattalai, Chennai   \n\n               Place    PlaceNew         Profile  \\\n0           Kakkanad   Ernakulam       Homeopath   \n1         Whitefield   Bangalore        Ayurveda   \n2    Mathikere - BEL   Bangalore  ENT Specialist   \n3  Bannerghatta Road   Bangalore        Ayurveda   \n4       Keelkattalai     Chennai        Ayurveda   \n\n                    Qualification  Rating  \n0           BHMS, MD - Homeopathy   100.0  \n1    BAMS, MD - Ayurveda Medicine    98.0  \n2  MBBS, MS - Otorhinolaryngology     NaN  \n3             BSc - Zoology, BAMS     NaN  \n4                            BAMS   100.0  "
          },
          "metadata": {}
        }
      ]
    },
    {
      "metadata": {},
      "cell_type": "markdown",
      "source": "Let's proceed and check the distribution of the target variable."
    },
    {
      "metadata": {
        "trusted": true
      },
      "cell_type": "code",
      "source": "#Fees\nplt.hist(data['Fees'])",
      "execution_count": 88,
      "outputs": [
        {
          "output_type": "execute_result",
          "execution_count": 88,
          "data": {
            "text/plain": "(array([ 132., 1564., 1216., 1010.,  490.,  961.,  237.,  187.,  144.,\n          20.]),\n array([  5. ,  99.5, 194. , 288.5, 383. , 477.5, 572. , 666.5, 761. ,\n        855.5, 950. ]),\n <a list of 10 Patch objects>)"
          },
          "metadata": {}
        },
        {
          "output_type": "display_data",
          "data": {
            "image/png": "[encoded data removed]",
            "text/plain": "<Figure size 720x576 with 1 Axes>"
          },
          "metadata": {}
        }
      ]
    },
    {
      "metadata": {
        "trusted": true
      },
      "cell_type": "code",
      "source": "#skewness\nprint (\"The skewness of SalePrice is {}\".format(data['Fees'].skew()))",
      "execution_count": 89,
      "outputs": [
        {
          "output_type": "stream",
          "text": "The skewness of SalePrice is 0.7518701683331586\n",
          "name": "stdout"
        }
      ]
    },
    {
      "metadata": {
        "trusted": true,
        "scrolled": true
      },
      "cell_type": "code",
      "source": "#Fees                  \nsns.distplot(train['Fees']);",
      "execution_count": 90,
      "outputs": [
        {
          "output_type": "display_data",
          "data": {
            "image/png": "[encoded data removed]",
            "text/plain": "<Figure size 720x576 with 1 Axes>"
          },
          "metadata": {}
        }
      ]
    },
    {
      "metadata": {
        "trusted": true
      },
      "cell_type": "code",
      "source": "#separate variables into new data frames\nnumeric_data = data.select_dtypes(include=[np.number])\ncat_data = data.select_dtypes(exclude=[np.number])\nprint (\"There are {} numeric and {} categorical columns in train data\".format(numeric_data.shape[1],cat_data.shape[1]))",
      "execution_count": 91,
      "outputs": [
        {
          "output_type": "stream",
          "text": "There are 3 numeric and 5 categorical columns in train data\n",
          "name": "stdout"
        }
      ]
    },
    {
      "metadata": {
        "trusted": true
      },
      "cell_type": "code",
      "source": "# data.Miscellaneous_Info.str.extract('(\\d+)')\n# data['Miscellaneous_Info'].str.extract('(\\d+)').astype(float)\n# In the column 'raw', extract single digit in the strings\n\n\n# data['Miscellaneous_Info'] = data['Miscellaneous_Info'].str.extract('(\\d)', expand=True)\n# print(data['Miscellaneous_Info'])\n# print(data.head())",
      "execution_count": null,
      "outputs": []
    },
    {
      "metadata": {},
      "cell_type": "markdown",
      "source": "**Extract numers from string**"
    },
    {
      "metadata": {
        "trusted": true,
        "scrolled": false
      },
      "cell_type": "code",
      "source": "# Find the numeric values: matches\nmatches = data['Miscellaneous_Info'].str.findall('\\d+')\n\n# Print the matches\nprint(matches)",
      "execution_count": 92,
      "outputs": [
        {
          "output_type": "stream",
          "text": "0       [100, 16]\n1        [98, 76]\n2             NaN\n3       [250, 10]\n4        [100, 4]\n5             NaN\n6             NaN\n7              []\n8             NaN\n9             NaN\n10            NaN\n11            NaN\n12       [98, 14]\n13             []\n14            NaN\n15            NaN\n16            NaN\n17            NaN\n18        [79, 8]\n19       [100, 4]\n20       [100, 7]\n21             []\n22            NaN\n23            NaN\n24            NaN\n25            NaN\n26      [100, 46]\n27        [95, 6]\n28            NaN\n29       [97, 60]\n          ...    \n1957    [100, 12]\n1958     [53, 12]\n1959           []\n1960           []\n1961     [3, 500]\n1962    [100, 23]\n1963          NaN\n1964          NaN\n1965      [88, 5]\n1966          NaN\n1967           []\n1968     [96, 12]\n1969          NaN\n1970          NaN\n1971           []\n1972     [93, 36]\n1973           []\n1974          NaN\n1975          [1]\n1976     [84, 20]\n1977     [1, 000]\n1978     [1, 000]\n1979           []\n1980    [98, 240]\n1981          NaN\n1982          NaN\n1983          NaN\n1984          NaN\n1985           []\n1986     [1, 500]\nName: Miscellaneous_Info, Length: 7948, dtype: object\n",
          "name": "stdout"
        }
      ]
    },
    {
      "metadata": {
        "trusted": true,
        "scrolled": true
      },
      "cell_type": "code",
      "source": "len(data)",
      "execution_count": 96,
      "outputs": [
        {
          "output_type": "execute_result",
          "execution_count": 96,
          "data": {
            "text/plain": "7948"
          },
          "metadata": {}
        }
      ]
    },
    {
      "metadata": {},
      "cell_type": "markdown",
      "source": "find uniqueness"
    },
    {
      "metadata": {
        "trusted": true,
        "scrolled": true
      },
      "cell_type": "code",
      "source": "print(data['Qualification'].unique())\nprint(data['Place'].unique())\nprint(data['Profile'].unique())",
      "execution_count": 23,
      "outputs": [
        {
          "output_type": "stream",
          "text": "['BHMS, MD - Homeopathy' 'BAMS, MD - Ayurveda Medicine'\n 'MBBS, MS - Otorhinolaryngology' ...\n 'MD - Medicine, Post Graduate Diploma in Diabetology (PGDD), MBBS, FRCP - Internal Medicine'\n 'MBBS, MS - General Surgery, FAIS, FIAGES'\n 'MBBS, MD / MS - Obstetrics & Gynaecology']\n['Kakkanad' 'Whitefield' 'Mathikere - BEL' 'Bannerghatta Road'\n 'Keelkattalai' 'Porur' 'Karol Bagh' 'Arekere' 'Old City' 'Athani'\n 'Thousand Lights' 'Somajiguda' 'Coimbatore Racecourse' 'Jubilee Hills'\n 'Kondli' 'Saroor Nagar' 'Tambaram West' 'Purasawakkam' 'KPHB'\n 'HSR Layout' 'Pollachi' 'Vasundhra Enclave' 'Chembur' 'Thammanam'\n 'Andheri' 'Pattom' 'Kukatpally' 'Vadavalli' 'Defence Colony'\n 'Banjara Hills' 'Sion West' 'CR Park' 'Mogappair East' 'IP Extension'\n 'Safdarjung Enclave' 'New Friends Colony' 'Borivali West' 'Saket' 'Malad'\n 'Hyder Nagar' 'Dahisar West' 'RT Nagar' 'Powai' 'Basheerbagh'\n 'Musheerabad' 'AS Rao Nagar' 'Madhapur' 'Gandhinagar' 'Chetpet'\n 'Vileparle East' 'Yelahanka New Town' 'Kodambakkam' 'Malleswaram'\n 'Pallikaranai' 'Nallakunta' 'Paschim Vihar' 'Meera Bagh' 'Chattarpur'\n 'Andheri West' 'Himayat Nagar' 'Adambakkam' 'Punjabi Bagh' 'Mahalaxmi'\n 'Kalina' 'Attapur' 'Lakdikapul' 'Ambattur' 'Ramnagar' 'Shalimar Bagh'\n 'Nungambakkam' 'Miyapur' 'Sagarpur' 'Girgaon' 'Jayanagar' 'Palayam'\n 'Munirka' 'Tuglakabad' 'Moosarambagh' nan 'Anna Nagar East' 'Bandra West'\n 'Kanakpura Road' 'Green Park' 'Maduravoyal' 'Dahisar East' 'Moosapet'\n 'Koramangala' 'TV Medical College' 'Kadavanthra' 'Greams Road'\n 'Bommanahalli' 'T Nagar' 'Yelahanka' 'Hazrat Nizamuddin'\n 'Old Rajendra Nagar' 'Dadar West' 'Indiranagar' 'Perumbakkam' 'Shaikpet'\n 'Vyttila' 'Khar West' 'Goregaon West' 'Bakkarwala' 'Nesapakkam'\n 'BTM Layout 2nd Stage' 'Ashok Nagar' 'Chandivali' 'Uttam Nagar'\n 'Gujranwala Town' 'Greater Kailash Part 1' 'Panchsheel Park'\n 'Thoraipakkam' 'South Extension 2' 'Kandivali East' 'Pitampura'\n 'Banashankari 3rd Stage' 'Kolenchery' 'Kumaraswamy Layout' 'Vadapalani'\n 'Manikonda' 'Gandhipuram' 'Yeshwanthpur' 'Ayanavaram' 'Basaveshwaranagar'\n 'Malad West' 'Vikas Puri' 'Kondapur' 'Andheri East' 'Sulur' 'Adyar'\n 'Krishna Nagar' 'Langer House' 'Thiruvanmiyur' 'Dwarka' 'Bhandup West'\n 'Janak Puri' 'Rajajinagar' 'South Extension 1' 'Kemps Corner' 'Peelamedu'\n 'Kandivali West' 'Thevara' 'Wilson Garden' 'Wadala' 'Pahar Ganj'\n 'Chanchalguda' 'Chikkadpally' 'Pasur-avanashi' 'Nagarbhavi'\n 'Lajpat Nagar' 'Mayur Vihar Ph-I' 'Dilshad Garden' 'Vijayanagar'\n 'Alwarpet' 'Pappanamcode' 'Aluva' 'Nariman Point' 'Kilkattalai'\n 'Dilsukhnagar' 'Kurla West' 'Begumpet' 'Kaloor' 'Hitech City'\n 'Goregaon East' 'Velandipalayam' 'Ghatkopar East' 'Mulund West'\n 'Yousufguda' 'Ghatkopar West' 'TVM Beach' 'Vanagaram' 'Worli'\n 'Koramangala 1 Block' 'Saki Vihar Road' 'Versova' 'CV Raman Nagar'\n 'Secunderabad' 'BTM Layout 1st Stage' 'Ramkoti' 'MRC Nagar' 'Malkajgiri'\n 'Gachibowli' 'Mogappair West' 'Mayur Vihar Ph-III' 'Kurla East'\n 'Ashok Vihar' 'Mahim' 'Villivakkam' 'Srinagar Colony' 'Chromepet'\n 'Pammal' 'Banashankari' 'Velachery' 'Chanakyapuri' 'Kalyan Nagar'\n 'Oshiwara' 'Karapakkam' 'Borivali' 'Mylapore' 'Electronics City'\n 'Perungudi' 'Basavanagudi' 'MG Road' 'Thiruvottiyur'\n 'Greater Kailash Part 2' 'Bilekahalli' 'Nanganallur' 'Rohini'\n 'Thrikkakara' 'Manapakkam' 'Bellandur' 'Ameerpet' 'Thiruvallom'\n 'R.S. Puram' 'Kumarapuram' 'Palam Colony' 'Manali' 'Valasaravakkam'\n 'Barkatpura' 'Singanallur' 'Mulund' 'Dadar East' 'Borabanda'\n 'Model Town 3' 'Ulsoor' 'Bhayandar West' 'Hari Nagar' 'Horamavu'\n 'Santacruz East' 'OMR Road' 'Kammana Halli' 'Tilak Nagar' 'Panathur'\n 'Rajarajeshwarinagar' 'Paravur' 'Preet Vihar' 'Chembur East' 'Jakkur'\n 'Vanasthalipuram' 'Mandaveli' 'Kumara Park West' 'Domlur'\n 'Jeevanbhimanagar' 'Santacruz West' 'Shankar Vihar' 'Jogeshwari East'\n 'Kasavanahalli' 'Ambalamukku' 'Jhilmil Colony' 'Dwarka Sector 7'\n 'Tatabad' 'Marine Lines' 'Tolichowki' 'Sundarapuram' 'Kothanur'\n 'Chinmaya Nagar' 'Vasant Vihar' 'Mehdipatnam' 'Kadugodi' 'Ganapathy'\n 'SR Nagar' 'Perambur' 'Opera House' 'Selvapuram' 'Karkardooma'\n 'Alwarthirunagar' 'KR Puram' 'Ramesh Nagar' 'Malakpet' 'Tondiarpet'\n 'Vikrampuri Colony' 'Besant Nagar' 'Vasant Kunj' 'Banaswadi' 'BTM Layout'\n 'Medavakkam' 'Vileparle West' 'Sahakaranagar' 'LB Nagar' 'Punjagutta'\n 'Yamuna Vihar' 'Marathahalli' 'JP Nagar 2 Phase' 'Rani Bagh' 'Jayamahal'\n 'Nagpada' 'Kundalahalli' 'Kailash Colony' 'Pandav Nagar' 'Karkhana'\n 'West Mambalam' 'Aminjikarai' 'Madipakkam' 'Charkop' 'Adarsh Nagar'\n 'Dadar' 'Kaggadasapura' 'Matunga' 'Sun city' 'Mahadevapura' 'Kalady'\n 'Anna Nagar West' 'Mayur Vihar Ph-II' 'Tis Hazari' 'Vennala' 'Mira Road'\n 'Alwal' 'Trimulgherry' 'Raja Annamalai Puram' 'JP Nagar 7 Phase'\n 'Old Bowenpally' 'Santosh Nagar' 'Hope College' 'Mulund East'\n 'Mount Road' 'Patel Nagar West' 'Jayanagar 4 Block' 'West Marredpally'\n 'Jagriti Enclave' 'Sarita Vihar' 'Rajendra Nagar' 'Thudiyalur'\n 'Bhayandar East' 'Narayanguda' 'Kothapet' 'KK Nagar' 'Tripunithura'\n 'Model Town' 'Suchitra Circle' 'Pusa Road' 'Vijaynagar Colony' 'Alandur'\n 'Cuffe Parade' 'Kalkaji' 'Saibaba Colony' 'Kattakada' 'Jogeshwari West'\n 'Erragadda' 'Edapally' 'Patparganj' 'Sainikpuri' 'Nanjundapuram'\n 'Nizampet' 'Kolathur' 'Chamarajpet' 'Kala Ghoda' 'Padmarao Nagar' 'Uppal'\n 'Guduvanchery' 'Satya Niketan' 'Chanda Nagar' 'Sowripalayam'\n 'Vikhroli West' 'Rajouri Garden' 'Alaknanda' 'Millers Road'\n 'Kandanchavadi' 'Vigyan Vihar' 'Bandra East' 'Vilankurichi' 'Malad East'\n 'Prabhadevi' 'Ulloor' 'Rajakilpakkam' 'Greater Kailash' 'Madinaguda'\n 'Borivali East' 'Juhu' 'Mugalivakkam' 'Hebbal' 'Kirti Nagar'\n 'Balaramapuram' 'Bhandup East' 'VV Puram' 'Kilpauk' 'Jacob Circle'\n 'Singasandra' 'Khairatabad' 'Coimbatore Aerodrome' 'J.C Nagar'\n 'Naraina Vihar' 'Virugambakkam' 'RK Puram' 'Banashankari 1st Stage'\n 'Lajpat Nagar 4' 'Jayanagar 5 Block' 'Kalyanpuri' 'Tambaram'\n 'Laxmi Nagar' 'Anand Vihar' 'Charni Road' 'Patel Nagar East'\n 'Jayanagar 9 Block' 'Ecil' 'Ramamurthy Nagar' 'Raj Nagar - 2'\n 'Chunabhatti' 'Vikhroli East' 'Shakarpur' 'Shahdara' 'Govandi'\n 'Mira Bhayandar' 'Doddanekundi' 'Madhu Vihar' 'Guindy' 'Palarivattom'\n 'Charminar' 'Old Airport Road' 'Sarjapur Road' 'Okhla' 'Baghlingampally'\n 'Trombay' 'HRBR Layout' 'Fort' 'Shastri Nagar' 'Red Hills' 'New BEL Road'\n 'Park Town' 'Frazer Town' 'Falaknuma' 'Rohini Sector 7' 'East Of Kailash'\n 'Chintadripet' 'Tagore Garden' 'Tri Nagar' 'Muttada' 'Munnekollal'\n 'TV Museum' 'Shivalik' 'Neb Sarai' 'Mahalakshmi Layout' 'Mankhurd'\n 'Kamla Nagar' 'Saravanampatti' 'Selaiyur' 'Saligramam' 'Thirumullaivoyal'\n 'Teynampet' 'Kochi' 'Vidyaranyapura' 'Mogappair' 'Mazgaon'\n 'Shivaji Nagar' 'Jangpura' 'Kaudiar Square' 'Arumbakkam' 'Cherai'\n 'Mira-Bhayandar Road' 'Ram Nagar' 'Parel' 'Thanisandra' 'Pragathi Nagar'\n 'Karamana' 'AECS Layout' 'Nizamuddin East' 'Ramanathapuram' 'Anna Nagar'\n 'Shenoy Nagar' 'Siddhapudur' 'Keshav Puram' 'Edakochi' 'Nagawara'\n 'Chintal' 'Malviya Nagar' 'Karwan' 'Vazhakulam' 'PMG Jn'\n 'Dwarka Sector 6' 'Viveknagar' 'Balapur' 'Banashankari 2nd Stage'\n 'Azadpur' 'Moti Nagar' 'Sakinaka' 'Thoppumpady' 'Sanath Nagar'\n 'Royapettah' 'Koramangala 5 Block' 'Kanjurmarg' 'Ernakulam College'\n 'Urapakkam' 'Coimbatore Ukkadam' 'Sreekaryam' 'Ernakulam North'\n 'Sultanpur' 'Banerji Road' 'Balkampet' 'Kavundampalayam' 'Kanchanbagh'\n 'Patel Nagar' 'Kilokri' 'Hoodi' 'New Seemapuri' 'Seshadripuram'\n 'Vijaynagar' 'Bowenpally' 'Ondipudur' 'Triplicane' 'Richmond Town'\n 'New Rajendra Nagar' 'Jahangirpuri' 'Vivek Vihar' 'Malleshpalya'\n 'Pezhakkappilly' 'Lingampally' 'Jamia Nagar' 'Begum Bazar' 'Lower Parel'\n 'ECR Road' 'Nangloi' 'Chintalmet' 'West Of Chord Road' 'SV Road'\n 'JP Nagar 5 Phase' 'Sanjay Nagar' 'Panampilly Nagar' 'Dharavi' 'Abbigere'\n 'Manacaud' 'Poonamalle' 'Najafgarh' 'Uttarahalli' 'Sembakkam' 'Tarnaka'\n 'Nandanam' 'Saidapet' 'Choolaimedu' 'Perungalathur' 'Gulabi Bagh'\n 'Jasola' 'JP Nagar 3 Phase' 'Uppilipalayam' 'Sadashivanagar'\n 'Rohini Sector 24' 'Muvattupuzha' 'Khan Market' 'Abids' 'Geeta Colony'\n 'Madandapuram' 'Dwarka Sector 22' 'Grant Road' 'Jeedimetla'\n 'Tambaram East' 'Kothaguda' 'Hauz Khas' 'Habsiguda' 'Breach Candy'\n 'Vidyanagar' 'Begur' 'Dahisar' 'Pachalam' 'Perumbavoor' 'Avadi'\n 'Coimbatore Central' 'Lokhandwala' 'Tiruvottiyur' 'Ullal Upanagara'\n 'Perurkada' 'Ashok Vihar Phase 3' 'Walkeshwar' 'Saidabad'\n 'Koramangala 6 Block' 'New Ashok Nagar' 'Peddar Road' 'Aya Nagar'\n 'JP Nagar' 'Sasthamangalam' 'Yakutpura' 'Sampangiramnagar'\n 'Kasturi nagar' 'Pallavaram' 'Moti Bagh' 'Mukherjee Nagar' 'Byculla'\n 'Peeragarhi' 'Amberpet' 'JP Nagar 6 Phase' 'Sholinganallur'\n 'Langford Road' 'Cumballa Hill' 'Colaba' 'Qutab Institutional Area'\n 'Dommasandra' 'Malabar Hill' 'Koramangala 8 Block' 'Rohini Sector 22'\n 'Lothkunta' 'HAL 2nd Stage' 'Jayanagar 7 Block' 'Vadasserikonam'\n 'East Marredpally' 'Kelambakkam' 'Chinchpokli' 'Delhi Cantt'\n 'Padmanabhanagar' 'Sheikh Sarai' 'Washermenpet' 'Konanakunte'\n 'Ashok Vihar Phase 1' 'Thirumala' 'Sarjapura' 'JP Nagar 1 Phase'\n 'JB Nagar' 'Paruthippara' 'Vikhroli' 'JP Nagar 8 Phase' 'GTB Nagar'\n 'Masab Tank' 'Hafeezpet' 'Jeevan Park' 'Dwarka Sector 5' 'Civil Lines'\n 'Anand Niketan' 'Pappanaickenpalayam' 'Koovappady' 'Srirampuram'\n 'Korattur' 'Pappanaickenpudur' 'Gandhi Nagar' 'Vignan Nagar' 'Ganganagar'\n 'Elamakkara' 'Boduppal' 'Khetwadi' 'Kengeri' 'Sion East'\n 'Rohini Sector 6' 'Kazhakuttam' 'Goregaon' 'Peroor' 'New Thippasandra'\n 'Jalahalli' 'King Koti' 'Kallambalam' 'Dwarka Sector 13' 'Residency Road'\n 'Radhakrishnan Salai' 'Hulimavu' 'Dasarahalli' 'Vileparle' 'Delhi'\n 'Kachiguda' 'Venkitapuram' 'Kuniamuthur' 'TV Chalai' 'Serilingampally'\n 'RMV 2nd Stage' 'Champapet' 'Surya Niketan' 'Kovilpalayam' 'Nampally'\n 'Siddapura' 'Neredmet' 'Vellakinar' 'Egmore' 'Katwaria Sarai' 'Navalur'\n 'Mehrauli' 'HBR Layout' 'Subhash Nagar' 'Mallepally' 'Eroor South'\n 'Lajpat Nagar III' 'Kodungaiyur' 'Kuppakonanpudur' 'Paradise'\n 'Rohini Sector 4' 'Koramangala 4 Block' 'Dwarka Sector 3' 'Durga Puri'\n 'Kalamassery' 'Gulmohar Park' 'Adugodi' 'Nallagandla' 'Gowrivakkam'\n 'Periyar Nagar' 'Austin Town' 'Afzalgunj' 'Cotton Hill' 'Goldwins'\n 'Kuravankonam' 'Rohini Sector 3' 'Lado Sarai' 'Koramangala 2 Block'\n 'Madangir' 'Marine Drive' 'Angamaly' 'Neelankarai' 'Churchgate'\n 'Kalapatti' 'Nand Nagri' 'Kandivali' 'Madanpura' 'Hegde Nagar'\n 'Domalguda' 'Mumbai Central' 'Vasanthnagar' 'Kapashera'\n 'August Kranti Marg' 'Lal baug' 'Perumathura' 'Molarband' 'Piravom'\n 'Neeti Bagh' 'Kishanbagh' 'Shantinagar' 'Poojapura' 'Rathinapuri'\n 'Model Town 1' 'Koothattukulam' 'Anand Lok' 'Pappanaickenpalayam West'\n 'Subzi Mandi' 'Sion' 'Nagole' 'TVM Pettah' 'Changampuzha Nagar' 'Puzhal'\n 'Vanchiyur' 'Sukh Vihar' 'Kovalam' 'Swasthya Vihar' 'Tardeo'\n 'Vishnu Garden' 'Jayanagar 1 Block' 'Sion Koliwada' 'Marol' 'Kalkere'\n 'Sindhi Colony' 'Silampur' 'Varthur' 'Model Town 2' 'Surajmal Vihar'\n 'Chandni Chowk' 'Veerakeralam' 'T Dasarahalli' 'Kaggalipura' 'Thonnakkal'\n 'Manjapra' 'Yellareddyguda' 'Kovilambakkam' 'Broadway' 'Podanur'\n 'Kompally' 'Kottivakkam' 'Mansarover Garden' 'Mandapeshwar'\n 'Rohini Sector 15' 'Vaduthala' 'Hebbal Kempapura' 'Sithalapakkam'\n 'MKB Nagar' 'Darya Ganj' 'Venjaramoodu' 'Kotturpuram' 'Ramapuram'\n 'Karmanghat' 'Moula Ali' 'Netaji Nagar' 'Chandra Layout' 'Akshaya nagar'\n 'Nirman Vihar' 'Vasant Enclave' 'St Thomas Mount' 'Royapuram'\n 'Abhiramapuram' 'Inder Puri' 'Edayarpalayam' 'Deoli' 'Mulanthuruthy'\n 'Sukhdev Vihar' 'e' 'Kothamangalam' 'Harlur' 'Bolarum' 'Richards Town'\n 'Narela' 'Nehru Place' 'Ramanthapur' 'Bali Nagar' 'Palavakkam'\n 'Balanagar' 'Hyderguda' 'Cherannagar' 'Rohini Sector 11'\n 'Dwarka Sector 4' 'Palluruthy' 'Vizhinjam' 'Santacruz' 'Ganesh Nagar'\n 'Vengal Rao Nagar' 'Deonar' 'Edapally North' 'IDA Jeedimetla'\n 'Mettupalayam' 'Hayathnagar' 'Kakkanad West' 'Khajaguda'\n 'Rohini Sector 5' 'Saraswati Vihar' 'Kingsway Camp' 'Ramamangalam'\n 'Indirapuram' 'Parassala' 'Connaught Place' 'Gottigerre' 'Shivrampally'\n 'Vyasarpadi' 'Kovaipudur' 'Vallakkadavoo' 'Kattupakkam' 'Nellimoodu'\n 'Pondy Bazaar' 'Prashant Vihar' 'Chullickal' 'Murugeshpalya' 'Khanpur'\n 'Madiwala' 'Dwarka Sector 23' 'Badarpur' 'Peyad' 'Uday Park' 'Bandlaguda'\n 'Karukappilli' 'Rana Pratap Bagh' 'Kochi M.G.Road' 'Gopalapuram'\n 'Puthenvelikkara' 'Sowcarpet' 'Chitlapakkam' 'Malumichampatti'\n 'Rohini Sector 8' 'Rohini Sector 2' 'Dwarka Sector 10' 'Agaram'\n 'Poovachal' 'Shanti Niketan' 'Pothencode' 'Dickenson Road' 'RTC X Road'\n 'Film Nagar' 'Lodhi Colony' 'SG Palya (Kormangla)' 'Palkulangara'\n 'Mahalingapuram' 'Matunga West' 'Nettoor' 'Rani Khera' 'Beeramguda'\n 'Ramachandrapuram' 'Neyyattinkara Town' 'Gorai' 'Jayanagar 3 Block'\n 'Shakti Nagar' 'Sangam Vihar' 'Shakurpur' 'Chaitanyapuri' 'TVM Fort'\n 'JP Nagar 4 Phase' 'Nayandahalli' 'Valiathura' 'Kowdiar'\n 'Cunningham Road' 'Hennur' 'Peenya' 'Pattimattam' 'HAL' 'Madhavaram'\n 'Ramakrishna Puram' 'Vikas Nagar' 'Chandrayangutta' 'Ernakulam' 'Aroor'\n 'Rohini West' 'Warasiguda' 'Vishwas Nagar' 'Bhandup' 'Chickpet'\n 'Madambakkam' 'Kaudiar' 'Khar East' 'Tavarekere' 'Kurla'\n 'Mahavir Enclave' 'Jayanagar 2 Block' 'Nacharam' 'Cheranalloor'\n 'Ayanambakkam' 'Dindarpur' 'Iyyappanthangal' 'Sarvapriya Vihar'\n 'Pattabiram' 'Kudlu' 'Kadubeesanahalli' 'Nemom' 'Alipur' 'Kanjoor'\n 'Nedumbassery' 'Safilguda' 'Hastsal' 'Tv Thampanoor' 'Mahipalpur'\n 'Outer Ring Road' 'Bhogal' 'Nedumangad' 'Lingarajapuram' 'Burari'\n 'Seeranaickenpalayam' 'JP Nagar 9 Phase' 'Bachupally' 'Jafferkhanpet'\n 'Nandambakkam' 'Rohini Sector 20' 'Sriniwaspuri' 'Palghar' 'Kapra'\n 'Sagar Road' 'Gamdevi' 'Poothotta' 'Koramangala 7 Block' 'KH Road'\n 'Delhi Cantonment' 'Hasthinapuram' 'Periyanaickenpalayam' 'Manchavilakom'\n 'Yemalur' 'Meerpet' 'Sewri' 'Padi' 'Ayyappankavu' 'Kalu Sarai'\n 'Pratap Nagar' 'Shadipur' 'Hongasandra' 'Dwarka Sector 12' 'BHEL'\n 'Hosur Road' 'Choolai']\n['Homeopath' 'Ayurveda' 'ENT Specialist' 'Dentist' 'General Medicine'\n 'Dermatologists']\n",
          "name": "stdout"
        }
      ]
    },
    {
      "metadata": {
        "collapsed": true
      },
      "cell_type": "markdown",
      "source": "## Univariate Analysis"
    },
    {
      "metadata": {
        "trusted": true
      },
      "cell_type": "code",
      "source": "",
      "execution_count": null,
      "outputs": []
    },
    {
      "metadata": {
        "collapsed": true
      },
      "cell_type": "markdown",
      "source": "## Bivariate Analysis"
    },
    {
      "metadata": {
        "collapsed": true
      },
      "cell_type": "markdown",
      "source": "## Feature Engineering"
    },
    {
      "metadata": {
        "collapsed": true
      },
      "cell_type": "markdown",
      "source": "## Feature Engineering"
    },
    {
      "metadata": {
        "collapsed": true
      },
      "cell_type": "markdown",
      "source": "## Encoding Categorical Variables"
    },
    {
      "metadata": {
        "collapsed": true
      },
      "cell_type": "markdown",
      "source": "## Model Building"
    },
    {
      "metadata": {
        "collapsed": true
      },
      "cell_type": "markdown",
      "source": "## Linear Regression\n\n## Regularized Linear Regression\n\n## Random Forest\n\n## XGBoost\n\n## Summary"
    }
  ],
  "metadata": {
    "kernelspec": {
      "name": "python36",
      "display_name": "Python 3.6",
      "language": "python"
    },
    "language_info": {
      "mimetype": "text/x-python",
      "nbconvert_exporter": "python",
      "name": "python",
      "pygments_lexer": "ipython3",
      "version": "3.6.6",
      "file_extension": ".py",
      "codemirror_mode": {
        "version": 3,
        "name": "ipython"
      }
    },
    "toc": {
      "nav_menu": {},
      "number_sections": true,
      "sideBar": true,
      "skip_h1_title": true,
      "base_numbering": "1",
      "title_cell": "Table of Contents",
      "title_sidebar": "Contents",
      "toc_cell": true,
      "toc_position": {},
      "toc_section_display": true,
      "toc_window_display": false
    }
  },
  "nbformat": 4,
  "nbformat_minor": 2
}