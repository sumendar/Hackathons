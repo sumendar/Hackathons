{
  "cells": [
    {
      "metadata": {},
      "cell_type": "markdown",
      "source": "## Predicting Restaurant Food Cost Hackathon"
    },
    {
      "metadata": {
        "collapsed": true
      },
      "cell_type": "markdown",
      "source": "Who doesn’t love food? All of us must have craving for at least a few favourite food items, we may also have a few places where we like to get them, a restaurant which serves our favourite food the way we want it to be. But there is one factor that will make us reconsider having our favourite food from our favourite restaurant, the **cost**. Here in this hackathon, you will be predicting the cost of the food served by the restaurants across different cities in India. You will use your Data Science skills to investigate the factors that really affect the cost, and who knows maybe you will even gain some very interesting insights that might help you choose what to eat and from where.  \n  \nSize of training set: **12,690** records  \n  \nSize of test set: **4,231** records     \n  \n</p><font size=\"3\"><strong>Features:</font>  \n\n* **TITLE**: The feature of the restaurant which can help identify what and for whom it is suitable for.\n\n* **RESTAURANT_ID**: A unique ID for each restaurant.\n\n* **CUISINES**: The variety of cuisines that the restaurant offers.\n\n* **TIME**: The open hours of the restaurant.\n\n* **CITY**: The city in which the restaurant is located.\n\n* **LOCALITY**: The locality of the restaurant.\n\n* **RATING**: The average rating of the restaurant by customers.\n\n* **VOTES**: The overall votes received by the restaurant.\n\n* **COST**: The average cost of a two-person meal.\n  \n</p><font size=\"3\"><strong>Evaluation</font>\n    \n**Metric**: Submissions are evaluated on Root-Mean-Squared-Error (RMSE) between the predicted value and observed score values. The final score calculation is done in the following way:   \n    \nSubmissions are evaluated on Root-Mean-Squared-Log-Error (RMSLE) error = RMSLE (error)  \n    \nScore = 1 – error    "
    },
    {
      "metadata": {},
      "cell_type": "markdown",
      "source": "### Understand the problem"
    },
    {
      "metadata": {},
      "cell_type": "markdown",
      "source": "### Hypothesis Generation"
    },
    {
      "metadata": {},
      "cell_type": "markdown",
      "source": "### Get Data"
    },
    {
      "metadata": {
        "trusted": true
      },
      "cell_type": "code",
      "source": "import pandas as pd\n#make a copy of original data\ntrainOriginal = pd.read_excel('data/Data_Train.xlsx')\ntestOriginal = pd.read_excel('data/Data_Test.xlsx')\n#loading data\ntrain = pd.read_excel('data/Data_Train.xlsx')\ntest = pd.read_excel('data/Data_Test.xlsx')",
      "execution_count": 1,
      "outputs": []
    },
    {
      "metadata": {
        "trusted": true
      },
      "cell_type": "code",
      "source": "train.head()",
      "execution_count": 7,
      "outputs": [
        {
          "output_type": "execute_result",
          "execution_count": 7,
          "data": {
            "text/html": "<div>\n<style scoped>\n    .dataframe tbody tr th:only-of-type {\n        vertical-align: middle;\n    }\n\n    .dataframe tbody tr th {\n        vertical-align: top;\n    }\n\n    .dataframe thead th {\n        text-align: right;\n    }\n</style>\n<table border=\"1\" class=\"dataframe\">\n  <thead>\n    <tr style=\"text-align: right;\">\n      <th></th>\n      <th>TITLE</th>\n      <th>RESTAURANT_ID</th>\n      <th>CUISINES</th>\n      <th>TIME</th>\n      <th>CITY</th>\n      <th>LOCALITY</th>\n      <th>RATING</th>\n      <th>VOTES</th>\n      <th>COST</th>\n    </tr>\n  </thead>\n  <tbody>\n    <tr>\n      <th>0</th>\n      <td>CASUAL DINING</td>\n      <td>9438</td>\n      <td>Malwani, Goan, North Indian</td>\n      <td>11am – 4pm, 7:30pm – 11:30pm (Mon-Sun)</td>\n      <td>Thane</td>\n      <td>Dombivali East</td>\n      <td>3.6</td>\n      <td>49 votes</td>\n      <td>1200</td>\n    </tr>\n    <tr>\n      <th>1</th>\n      <td>CASUAL DINING,BAR</td>\n      <td>13198</td>\n      <td>Asian, Modern Indian, Japanese</td>\n      <td>6pm – 11pm (Mon-Sun)</td>\n      <td>Chennai</td>\n      <td>Ramapuram</td>\n      <td>4.2</td>\n      <td>30 votes</td>\n      <td>1500</td>\n    </tr>\n    <tr>\n      <th>2</th>\n      <td>CASUAL DINING</td>\n      <td>10915</td>\n      <td>North Indian, Chinese, Biryani, Hyderabadi</td>\n      <td>11am – 3:30pm, 7pm – 11pm (Mon-Sun)</td>\n      <td>Chennai</td>\n      <td>Saligramam</td>\n      <td>3.8</td>\n      <td>221 votes</td>\n      <td>800</td>\n    </tr>\n    <tr>\n      <th>3</th>\n      <td>QUICK BITES</td>\n      <td>6346</td>\n      <td>Tibetan, Chinese</td>\n      <td>11:30am – 1am (Mon-Sun)</td>\n      <td>Mumbai</td>\n      <td>Bandra West</td>\n      <td>4.1</td>\n      <td>24 votes</td>\n      <td>800</td>\n    </tr>\n    <tr>\n      <th>4</th>\n      <td>DESSERT PARLOR</td>\n      <td>15387</td>\n      <td>Desserts</td>\n      <td>11am – 1am (Mon-Sun)</td>\n      <td>Mumbai</td>\n      <td>Lower Parel</td>\n      <td>3.8</td>\n      <td>165 votes</td>\n      <td>300</td>\n    </tr>\n  </tbody>\n</table>\n</div>",
            "text/plain": "               TITLE  RESTAURANT_ID  \\\n0      CASUAL DINING           9438   \n1  CASUAL DINING,BAR          13198   \n2      CASUAL DINING          10915   \n3        QUICK BITES           6346   \n4     DESSERT PARLOR          15387   \n\n                                     CUISINES  \\\n0                 Malwani, Goan, North Indian   \n1              Asian, Modern Indian, Japanese   \n2  North Indian, Chinese, Biryani, Hyderabadi   \n3                            Tibetan, Chinese   \n4                                    Desserts   \n\n                                     TIME     CITY        LOCALITY RATING  \\\n0  11am – 4pm, 7:30pm – 11:30pm (Mon-Sun)    Thane  Dombivali East    3.6   \n1                    6pm – 11pm (Mon-Sun)  Chennai       Ramapuram    4.2   \n2     11am – 3:30pm, 7pm – 11pm (Mon-Sun)  Chennai      Saligramam    3.8   \n3                 11:30am – 1am (Mon-Sun)   Mumbai     Bandra West    4.1   \n4                    11am – 1am (Mon-Sun)   Mumbai     Lower Parel    3.8   \n\n       VOTES  COST  \n0   49 votes  1200  \n1   30 votes  1500  \n2  221 votes   800  \n3   24 votes   800  \n4  165 votes   300  "
          },
          "metadata": {}
        }
      ]
    },
    {
      "metadata": {
        "trusted": true,
        "scrolled": false
      },
      "cell_type": "code",
      "source": "test.head()",
      "execution_count": 8,
      "outputs": [
        {
          "output_type": "execute_result",
          "execution_count": 8,
          "data": {
            "text/html": "<div>\n<style scoped>\n    .dataframe tbody tr th:only-of-type {\n        vertical-align: middle;\n    }\n\n    .dataframe tbody tr th {\n        vertical-align: top;\n    }\n\n    .dataframe thead th {\n        text-align: right;\n    }\n</style>\n<table border=\"1\" class=\"dataframe\">\n  <thead>\n    <tr style=\"text-align: right;\">\n      <th></th>\n      <th>TITLE</th>\n      <th>RESTAURANT_ID</th>\n      <th>CUISINES</th>\n      <th>TIME</th>\n      <th>CITY</th>\n      <th>LOCALITY</th>\n      <th>RATING</th>\n      <th>VOTES</th>\n    </tr>\n  </thead>\n  <tbody>\n    <tr>\n      <th>0</th>\n      <td>CASUAL DINING</td>\n      <td>4085</td>\n      <td>North Indian, Chinese, Mughlai, Kebab</td>\n      <td>12noon – 12midnight (Mon-Sun)</td>\n      <td>Noida</td>\n      <td>Sector 18</td>\n      <td>4.3</td>\n      <td>564 votes</td>\n    </tr>\n    <tr>\n      <th>1</th>\n      <td>QUICK BITES</td>\n      <td>12680</td>\n      <td>South Indian, Fast Food, Pizza, North Indian</td>\n      <td>7am – 12:30AM (Mon-Sun)</td>\n      <td>Mumbai</td>\n      <td>Grant Road</td>\n      <td>4.2</td>\n      <td>61 votes</td>\n    </tr>\n    <tr>\n      <th>2</th>\n      <td>CASUAL DINING</td>\n      <td>1411</td>\n      <td>North Indian, Seafood, Biryani, Chinese</td>\n      <td>11am – 11:30pm (Mon-Sun)</td>\n      <td>Mumbai</td>\n      <td>Marine Lines</td>\n      <td>3.8</td>\n      <td>350 votes</td>\n    </tr>\n    <tr>\n      <th>3</th>\n      <td>None</td>\n      <td>204</td>\n      <td>Biryani</td>\n      <td>9am – 10pm (Mon, Wed, Thu, Fri, Sat, Sun), 10:...</td>\n      <td>Faridabad</td>\n      <td>NIT</td>\n      <td>3.8</td>\n      <td>1445 votes</td>\n    </tr>\n    <tr>\n      <th>4</th>\n      <td>QUICK BITES</td>\n      <td>13453</td>\n      <td>South Indian, Kerala</td>\n      <td>11am – 10pm (Mon-Sun)</td>\n      <td>Kochi</td>\n      <td>Kaloor</td>\n      <td>3.6</td>\n      <td>23 votes</td>\n    </tr>\n  </tbody>\n</table>\n</div>",
            "text/plain": "           TITLE  RESTAURANT_ID                                      CUISINES  \\\n0  CASUAL DINING           4085         North Indian, Chinese, Mughlai, Kebab   \n1    QUICK BITES          12680  South Indian, Fast Food, Pizza, North Indian   \n2  CASUAL DINING           1411       North Indian, Seafood, Biryani, Chinese   \n3           None            204                                       Biryani   \n4    QUICK BITES          13453                          South Indian, Kerala   \n\n                                                TIME       CITY      LOCALITY  \\\n0                      12noon – 12midnight (Mon-Sun)      Noida     Sector 18   \n1                            7am – 12:30AM (Mon-Sun)     Mumbai    Grant Road   \n2                           11am – 11:30pm (Mon-Sun)     Mumbai  Marine Lines   \n3  9am – 10pm (Mon, Wed, Thu, Fri, Sat, Sun), 10:...  Faridabad           NIT   \n4                              11am – 10pm (Mon-Sun)      Kochi        Kaloor   \n\n  RATING       VOTES  \n0    4.3   564 votes  \n1    4.2    61 votes  \n2    3.8   350 votes  \n3    3.8  1445 votes  \n4    3.6    23 votes  "
          },
          "metadata": {}
        }
      ]
    },
    {
      "metadata": {},
      "cell_type": "markdown",
      "source": "### Data Exploration"
    },
    {
      "metadata": {
        "run_control": {
          "marked": false
        },
        "trusted": true,
        "scrolled": true
      },
      "cell_type": "code",
      "source": "train['COST'].plot(kind='hist')\n",
      "execution_count": 9,
      "outputs": [
        {
          "output_type": "execute_result",
          "execution_count": 9,
          "data": {
            "text/plain": "<matplotlib.axes._subplots.AxesSubplot at 0x7fa29bb63ef0>"
          },
          "metadata": {}
        },
        {
          "output_type": "display_data",
          "data": {
            "image/png": "[encoded data removed]",
            "text/plain": "<Figure size 432x288 with 1 Axes>"
          },
          "metadata": {
            "needs_background": "light"
          }
        }
      ]
    },
    {
      "metadata": {
        "trusted": true
      },
      "cell_type": "code",
      "source": "import numpy as np\nnp.log(train['COST']).plot(kind='hist')",
      "execution_count": 10,
      "outputs": [
        {
          "output_type": "execute_result",
          "execution_count": 10,
          "data": {
            "text/plain": "<matplotlib.axes._subplots.AxesSubplot at 0x7fa29b7b68d0>"
          },
          "metadata": {}
        },
        {
          "output_type": "display_data",
          "data": {
            "image/png": "[encoded data removed]",
            "text/plain": "<Figure size 432x288 with 1 Axes>"
          },
          "metadata": {
            "needs_background": "light"
          }
        }
      ]
    },
    {
      "metadata": {},
      "cell_type": "markdown",
      "source": "### Data Pre-Processing"
    },
    {
      "metadata": {},
      "cell_type": "markdown",
      "source": "### Feature Engineering"
    },
    {
      "metadata": {},
      "cell_type": "markdown",
      "source": "### Model Training and Evaluation"
    }
  ],
  "metadata": {
    "kernelspec": {
      "name": "python36",
      "display_name": "Python 3.6",
      "language": "python"
    },
    "language_info": {
      "mimetype": "text/x-python",
      "nbconvert_exporter": "python",
      "name": "python",
      "pygments_lexer": "ipython3",
      "version": "3.6.6",
      "file_extension": ".py",
      "codemirror_mode": {
        "version": 3,
        "name": "ipython"
      }
    },
    "toc": {
      "nav_menu": {},
      "number_sections": true,
      "sideBar": true,
      "skip_h1_title": false,
      "base_numbering": 1,
      "title_cell": "Table of Contents",
      "title_sidebar": "Contents",
      "toc_cell": false,
      "toc_position": {},
      "toc_section_display": true,
      "toc_window_display": true
    }
  },
  "nbformat": 4,
  "nbformat_minor": 2
}